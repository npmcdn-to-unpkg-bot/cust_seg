{
 "cells": [
  {
   "cell_type": "code",
   "execution_count": 1,
   "metadata": {
    "collapsed": true
   },
   "outputs": [],
   "source": [
    "import pandas as pd\n",
    "import matplotlib.pyplot as plt\n",
    "import matplotlib\n",
    "matplotlib.style.use('ggplot')\n",
    "%matplotlib inline\n",
    "\n",
    "cust_df = pd.DataFrame.from_csv('/home/duan/sankey_proj/sankey_notebook/data/cust_profile_df/cust_telco_profile_df.csv')\n",
    "cust_journey_df = pd.DataFrame.from_csv('/home/duan/sankey_proj/sankey_notebook/data/cust_profile_df/cust_journey_df.csv')"
   ]
  },
  {
   "cell_type": "code",
   "execution_count": 2,
   "metadata": {
    "collapsed": false,
    "scrolled": false,
    "urth": {
     "dashboard": {
      "hidden": true,
      "layout": {}
     }
    }
   },
   "outputs": [],
   "source": [
    "import ipywidgets as widgets\n",
    "import traitlets # import CInt, Unicode\n",
    "\n",
    "class D3SankeyWidget(widgets.DOMWidget):\n",
    "    # the name of the requirejs module (no .js!)\n",
    "    _view_module = traitlets.Unicode(\n",
    "        'd3sankeyview').tag(sync=True)\n",
    "    # the name of the Backbone.View subclass to be used\n",
    "    _view_name = traitlets.Unicode(\n",
    "        'D3SankeyView').tag(sync=True) \n",
    "    \n",
    "    # the name of the CSS file to load with this widget\n",
    "    _view_style = traitlets.Unicode(\n",
    "        'nbextensions/ipythond3sankey/css/widget_d3sankey').tag(sync=True)\n",
    "    \n",
    "    # the actual value: lists of nodes and links\n",
    "    nodes = traitlets.List().tag(sync=True)\n",
    "    links = traitlets.List().tag(sync=True)\n",
    "    node_link_json = traitlets.Unicode('{}').tag(sync=True)\n",
    "\n",
    "    selected_json = traitlets.Unicode().tag(sync=True)\n",
    "    \n",
    "    # margins & size\n",
    "    margin_top = traitlets.Float(1).tag(sync=True)\n",
    "    margin_right = traitlets.Float(1).tag(sync=True)\n",
    "    margin_bottom = traitlets.Float(6).tag(sync=True)\n",
    "    margin_left = traitlets.Float(1).tag(sync=True)\n",
    "    width = traitlets.Float(960).tag(sync=True)\n",
    "    height = traitlets.Float(500).tag(sync=True)\n",
    "    \n",
    "    unit = traitlets.Unicode('').tag(sync=True)\n"
   ]
  },
  {
   "cell_type": "code",
   "execution_count": 3,
   "metadata": {
    "collapsed": false,
    "urth": {
     "dashboard": {
      "layout": {
       "col": 0,
       "height": 4,
       "row": 19,
       "width": 4
      }
     }
    }
   },
   "outputs": [
    {
     "data": {
      "text/html": [
       "\n",
       "    <style>\n",
       "      .node rect {\n",
       "        fill-opacity: .9;\n",
       "        shape-rendering: crispEdges;\n",
       "        stroke-width: 0;\n",
       "      }\n",
       "      .node text {\n",
       "        text-shadow: 0 1px 0 #fff;\n",
       "      }\n",
       "      .link {\n",
       "        fill: none;\n",
       "        stroke: #000;\n",
       "        stroke-opacity: .2;\n",
       "      }\n",
       "    </style>\n"
      ],
      "text/plain": [
       "<IPython.core.display.HTML object>"
      ]
     },
     "execution_count": 3,
     "metadata": {},
     "output_type": "execute_result"
    }
   ],
   "source": [
    "from IPython.display import HTML\n",
    "HTML('''\n",
    "    <style>\n",
    "      .node rect {\n",
    "        fill-opacity: .9;\n",
    "        shape-rendering: crispEdges;\n",
    "        stroke-width: 0;\n",
    "      }\n",
    "      .node text {\n",
    "        text-shadow: 0 1px 0 #fff;\n",
    "      }\n",
    "      .link {\n",
    "        fill: none;\n",
    "        stroke: #000;\n",
    "        stroke-opacity: .2;\n",
    "      }\n",
    "    </style>\n",
    "''')\n",
    "    "
   ]
  },
  {
   "cell_type": "code",
   "execution_count": 4,
   "metadata": {
    "collapsed": false,
    "urth": {
     "dashboard": {
      "hidden": true,
      "layout": {}
     }
    }
   },
   "outputs": [
    {
     "data": {
      "application/javascript": [
       "require.config({\n",
       "  paths: {\n",
       "      d3: '/custom/d3sankey/js/d3',\n",
       "      jquery: '/custom/d3sankey/js/jquery',\n",
       "      underscore: '/custom/d3sankey/js/underscore',\n",
       "      sankey: '/custom/d3sankey/js/sankey',\n",
       "      d3_chart: '/custom/d3sankey/js/d3.chart',\n",
       "      d3_chart_sankey: '/custom/d3sankey/js/d3.chart.sankey',\n",
       "  },\n",
       "  shim: {\n",
       "    'sankey': { deps:  ['d3']},\n",
       "    'd3_chart': { deps:  ['d3']},\n",
       "    'd3_chart_sankey': { deps:  ['d3_chart']}\n",
       "  },\n",
       "});\n",
       "\n",
       "/* //cdnjs.cloudflare.com/ajax/libs/d3/3.4.8/d3.min\n",
       "  'jquery',\n",
       "  'underscore',\n",
       "\n",
       "  // ipython API\n",
       "  'widgets/js/widget',\n",
       "\n",
       "  // local imports\n",
       "  './utils',\n",
       "  './d3.min',\n",
       "  './sankey',\n",
       "*/\n",
       "      "
      ],
      "text/plain": [
       "<IPython.core.display.Javascript object>"
      ]
     },
     "metadata": {},
     "output_type": "display_data"
    }
   ],
   "source": [
    "%%javascript\n",
    "require.config({\n",
    "  paths: {\n",
    "      d3: '/custom/d3sankey/js/d3',\n",
    "      jquery: '/custom/d3sankey/js/jquery',\n",
    "      underscore: '/custom/d3sankey/js/underscore',\n",
    "      sankey: '/custom/d3sankey/js/sankey',\n",
    "      d3_chart: '/custom/d3sankey/js/d3.chart',\n",
    "      d3_chart_sankey: '/custom/d3sankey/js/d3.chart.sankey',\n",
    "  },\n",
    "  shim: {\n",
    "    'sankey': { deps:  ['d3']},\n",
    "    'd3_chart': { deps:  ['d3']},\n",
    "    'd3_chart_sankey': { deps:  ['d3_chart']}\n",
    "  },\n",
    "});\n",
    "\n",
    "/* //cdnjs.cloudflare.com/ajax/libs/d3/3.4.8/d3.min\n",
    "  'jquery',\n",
    "  'underscore',\n",
    "\n",
    "  // ipython API\n",
    "  'widgets/js/widget',\n",
    "\n",
    "  // local imports\n",
    "  './utils',\n",
    "  './d3.min',\n",
    "  './sankey',\n",
    "*/\n",
    "      "
   ]
  },
  {
   "cell_type": "code",
   "execution_count": 5,
   "metadata": {
    "collapsed": false,
    "urth": {
     "dashboard": {
      "hidden": true,
      "layout": {}
     }
    }
   },
   "outputs": [
    {
     "data": {
      "application/javascript": [
       "// widget_d3sankey.js @ /home/duan/anaconda3/lib/python3.5/site-packages/ipythond3sankey/static/ipythond3sankey/js\n",
       "requirejs.undef('d3sankeyview');\n",
       "var global_json_data = {'test':'testduan'}\n",
       "var rect_selected = {}\n",
       "var rect_color = {}\n",
       "\n",
       "define('d3sankeyview', [\"jupyter-js-widgets\"], function(widgets) {\n",
       "  var D3SankeyView = widgets.DOMWidgetView.extend({\n",
       "    // namespace your CSS so that you don't break other people's stuff\n",
       "    className: 'D3SankeyView',\n",
       "\n",
       "    //loadCss: utils.loadCss,\n",
       "\n",
       "    // Initialize DOM, etc. called once per view creation,\n",
       "    // i.e. `display(widget)`\n",
       "    render: function() {\n",
       "\n",
       "      // add a stylesheet, if defined in `_view_style`\n",
       "      //this.loadCss();\n",
       "      var thatthis = this;\n",
       "      var graph = JSON.parse(this.model.get('node_link_json'));\n",
       "      console.log('started drawing for json: ' );\n",
       "      console.log( graph );\n",
       "\n",
       "      require(['d3','jquery', 'underscore', 'sankey','d3_chart','d3_chart_sankey'], \n",
       "              function(d3,$,_, sankey,d3_chart, d3_chart_sankey) {\n",
       "\n",
       "      \n",
       "      console.log('started margin_top 2.' + thatthis.model.get('margin_top'));\n",
       "      // console.log('started margin_top 3.' + this.model.get('margin_top'));\n",
       "      // setup\n",
       "      // XXX margins, width and height not updated\n",
       "      var margin = {top:    thatthis.model.get('margin_top'),\n",
       "                    right:  thatthis.model.get('margin_right'),\n",
       "                    bottom: thatthis.model.get('margin_bottom'),\n",
       "                    left:   thatthis.model.get('margin_left')},\n",
       "          width = thatthis.model.get('width') - margin.left - margin.right,\n",
       "          height = thatthis.model.get('height') - margin.top - margin.bottom;\n",
       "\n",
       "      thatthis.width = width;\n",
       "      thatthis.height = height;\n",
       "\n",
       "      var formatNumber = d3.format(\",.0f\"),\n",
       "          unit = thatthis.model.get('unit');\n",
       "\n",
       "      var format = function(d) { return formatNumber(d) + \" \" + unit; };\n",
       "      var color = d3.scale.category20();\n",
       "\n",
       "      var svg = d3.select(thatthis.$el[0]).append(\"svg\")\n",
       "          .attr(\"width\", width + margin.left + margin.right)\n",
       "          .attr(\"height\", height + margin.top + margin.bottom)\n",
       "          .append(\"g\")\n",
       "          .attr(\"transform\",\n",
       "                \"translate(\" + margin.left + \",\" + margin.top + \")\");\n",
       "    // Set the sankey diagram properties\n",
       "    var sankey = d3.sankey()\n",
       "        .nodeWidth(36)\n",
       "        .nodePadding(40)\n",
       "        .size([width, height]);\n",
       "\n",
       "var path = sankey.link();\n",
       "\n",
       "\n",
       "\n",
       "  //set up graph in same style as original example but empty\n",
       " console.log(JSON.stringify(graph));\n",
       "\n",
       "  sankey\n",
       "    .nodes(graph.nodes)\n",
       "    .links(graph.links)\n",
       "    .layout(32);\n",
       " console.log( 'add in the links' );\n",
       "\n",
       "// add in the links\n",
       "  var link = svg.append(\"g\").selectAll(\".link\")\n",
       "      .data(graph.links)\n",
       "    .enter().append(\"path\")\n",
       "      .attr(\"class\", \"link\")\n",
       "      .attr(\"d\", path)\n",
       "      .style(\"stroke-width\", function(d) { return Math.max(1, d.dy); })\n",
       "      .sort(function(a, b) { return b.dy - a.dy; });\n",
       "\n",
       "// add the link titles\n",
       "  link.append(\"title\")\n",
       "        .text(function(d) {\n",
       "    \t\treturn d.source.name + \" → \" + \n",
       "                d.target.name + \"\\n\" + format(d.value); });\n",
       " console.log( 'add in the nodes' );\n",
       "\n",
       "          \n",
       "// add in the nodes\n",
       "  var node = svg.append(\"g\").selectAll(\".node\")\n",
       "      .data(graph.nodes)\n",
       "    .enter().append(\"g\")\n",
       "      .attr(\"class\", \"node\")\n",
       "      .attr(\"transform\", function(d) { \n",
       "\t\t  return \"translate(\" + d.x + \",\" + d.y + \")\"; })\n",
       "    .call(d3.behavior.drag()\n",
       "      .origin(function(d) { return d; })\n",
       "      .on(\"dragstart\", function() { \n",
       "\t\t  this.parentNode.appendChild(this); })\n",
       "      .on(\"drag\", dragmove));\n",
       "\n",
       "// add the rectangles for the nodes\n",
       "  node.append(\"rect\")\n",
       "      .attr(\"height\", function(d) { return d.dy; })\n",
       "      .attr(\"width\", sankey.nodeWidth())\n",
       "      .style(\"fill\", function(d) { \n",
       "\t\t  return d.color = color(d.name.replace(/ .*/, \"\")); })\n",
       "      .style(\"stroke\", function(d) { \n",
       "\t\t  return d3.rgb(d.color).darker(2); })\n",
       "    .append(\"title\")\n",
       "      .text(function(d) { \n",
       "\t\t  return d.name + \"\\n\" + format(d.value); });\n",
       "\n",
       "// add in the title for the nodes\n",
       "  node.append(\"text\")\n",
       "      .attr(\"x\", -6)\n",
       "      .attr(\"y\", function(d) { return d.dy / 2; })\n",
       "      .attr(\"dy\", \".35em\")\n",
       "      .attr(\"text-anchor\", \"end\")\n",
       "      .attr(\"transform\", null)\n",
       "      .text(function(d) { return d.name; })\n",
       "    .filter(function(d) { return d.x < width / 2; })\n",
       "      .attr(\"x\", 6 + sankey.nodeWidth())\n",
       "      .attr(\"text-anchor\", \"start\");\n",
       "\n",
       "// the function for moving the nodes\n",
       "  function dragmove(d) {\n",
       "    d3.select(this).attr(\"transform\", \n",
       "        \"translate(\" + d.x + \",\" + (\n",
       "                d.y = Math.max(0, Math.min(height - d.dy, d3.event.y))\n",
       "            ) + \")\");\n",
       "    sankey.relayout();\n",
       "    link.attr(\"d\", path);\n",
       "  }\n",
       "           \n",
       "d3.selectAll(\"rect\")\n",
       ".on(\"click\",function(d,i){\n",
       "        // alert(\"clicked!\"+d.value+\":\"+ d.name);\n",
       "        console.log(\"clicked!\"+d.value+\":\"+ d.name);\n",
       "        console.log('current fill core is: ');\n",
       "        console.log(d3.select(this).style('fill'));\n",
       "        if (rect_selected[d.name]  === undefined) {\n",
       "            console.log('first time click');\n",
       "            rect_selected[d.name] ='y';\n",
       "            rect_color[d.name] = d3.select(this).style('fill');\n",
       "            d3.select(this).style('fill','red');\n",
       "        } else if (rect_selected[d.name]  == 'y') { \n",
       "            console.log('revert back to original color');\n",
       "            rect_selected[d.name] ='n';\n",
       "            d3.select(this).style('fill',rect_color[d.name]);\n",
       "        } else{\n",
       "            console.log('not first time click, but selected');\n",
       "            rect_selected[d.name] ='y';\n",
       "            rect_color[d.name] = d3.select(this).style('fill');\n",
       "            d3.select(this).style('fill','red');\n",
       "        }\n",
       "        console.log(JSON.stringify(rect_selected));\n",
       "        console.log( (rect_selected));\n",
       "    \n",
       "        console.log('current selected_json is: ');\n",
       "        console.log( thatthis.model.get('selected_json'));\n",
       "        thatthis.model.set('selected_json',JSON.stringify(rect_selected));\n",
       "\n",
       "        thatthis.touch();\n",
       "        console.log( thatthis.model.get('selected_json'));\n",
       "        \n",
       "    \n",
       "    })  \n",
       "//console.log('setup trigger is done 3');\n",
       "//console.log(d3.selectAll('rect'));\n",
       "\n",
       "          \n",
       "      return thatthis;\n",
       " \n",
       "      });\n",
       "    }, // /render\n",
       "\n",
       "    // Do things that are updated every time `this.model` is changed...\n",
       "    // from the front-end or backend.\n",
       "    update: function(options) {\n",
       "\n",
       "      console.log('update function called');\n",
       "         \n",
       "    }, // /update\n",
       "\n",
       "\n",
       "    // Tell Backbone to listen to events (none for now)\n",
       "    events: {\n",
       "    },\n",
       "\n",
       "  }); // /extend\n",
       "\n",
       "  // The requirej6s namespace.\n",
       "  return {\n",
       "    D3SankeyView: D3SankeyView\n",
       "  };\n",
       "});\n",
       "\n",
       "console.log(global_json_data)"
      ],
      "text/plain": [
       "<IPython.core.display.Javascript object>"
      ]
     },
     "metadata": {},
     "output_type": "display_data"
    }
   ],
   "source": [
    "%%javascript\n",
    "// widget_d3sankey.js @ /home/duan/anaconda3/lib/python3.5/site-packages/ipythond3sankey/static/ipythond3sankey/js\n",
    "requirejs.undef('d3sankeyview');\n",
    "var global_json_data = {'test':'testduan'}\n",
    "var rect_selected = {}\n",
    "var rect_color = {}\n",
    "\n",
    "define('d3sankeyview', [\"jupyter-js-widgets\"], function(widgets) {\n",
    "  var D3SankeyView = widgets.DOMWidgetView.extend({\n",
    "    // namespace your CSS so that you don't break other people's stuff\n",
    "    className: 'D3SankeyView',\n",
    "\n",
    "    //loadCss: utils.loadCss,\n",
    "\n",
    "    // Initialize DOM, etc. called once per view creation,\n",
    "    // i.e. `display(widget)`\n",
    "    render: function() {\n",
    "\n",
    "      // add a stylesheet, if defined in `_view_style`\n",
    "      //this.loadCss();\n",
    "      var thatthis = this;\n",
    "      var graph = JSON.parse(this.model.get('node_link_json'));\n",
    "      console.log('started drawing for json: ' );\n",
    "      console.log( graph );\n",
    "\n",
    "      require(['d3','jquery', 'underscore', 'sankey','d3_chart','d3_chart_sankey'], \n",
    "              function(d3,$,_, sankey,d3_chart, d3_chart_sankey) {\n",
    "\n",
    "      \n",
    "      console.log('started margin_top 2.' + thatthis.model.get('margin_top'));\n",
    "      // console.log('started margin_top 3.' + this.model.get('margin_top'));\n",
    "      // setup\n",
    "      // XXX margins, width and height not updated\n",
    "      var margin = {top:    thatthis.model.get('margin_top'),\n",
    "                    right:  thatthis.model.get('margin_right'),\n",
    "                    bottom: thatthis.model.get('margin_bottom'),\n",
    "                    left:   thatthis.model.get('margin_left')},\n",
    "          width = thatthis.model.get('width') - margin.left - margin.right,\n",
    "          height = thatthis.model.get('height') - margin.top - margin.bottom;\n",
    "\n",
    "      thatthis.width = width;\n",
    "      thatthis.height = height;\n",
    "\n",
    "      var formatNumber = d3.format(\",.0f\"),\n",
    "          unit = thatthis.model.get('unit');\n",
    "\n",
    "      var format = function(d) { return formatNumber(d) + \" \" + unit; };\n",
    "      var color = d3.scale.category20();\n",
    "\n",
    "      var svg = d3.select(thatthis.$el[0]).append(\"svg\")\n",
    "          .attr(\"width\", width + margin.left + margin.right)\n",
    "          .attr(\"height\", height + margin.top + margin.bottom)\n",
    "          .append(\"g\")\n",
    "          .attr(\"transform\",\n",
    "                \"translate(\" + margin.left + \",\" + margin.top + \")\");\n",
    "    // Set the sankey diagram properties\n",
    "    var sankey = d3.sankey()\n",
    "        .nodeWidth(36)\n",
    "        .nodePadding(40)\n",
    "        .size([width, height]);\n",
    "\n",
    "var path = sankey.link();\n",
    "\n",
    "\n",
    "\n",
    "  //set up graph in same style as original example but empty\n",
    " console.log(JSON.stringify(graph));\n",
    "\n",
    "  sankey\n",
    "    .nodes(graph.nodes)\n",
    "    .links(graph.links)\n",
    "    .layout(32);\n",
    " console.log( 'add in the links' );\n",
    "\n",
    "// add in the links\n",
    "  var link = svg.append(\"g\").selectAll(\".link\")\n",
    "      .data(graph.links)\n",
    "    .enter().append(\"path\")\n",
    "      .attr(\"class\", \"link\")\n",
    "      .attr(\"d\", path)\n",
    "      .style(\"stroke-width\", function(d) { return Math.max(1, d.dy); })\n",
    "      .sort(function(a, b) { return b.dy - a.dy; });\n",
    "\n",
    "// add the link titles\n",
    "  link.append(\"title\")\n",
    "        .text(function(d) {\n",
    "    \t\treturn d.source.name + \" → \" + \n",
    "                d.target.name + \"\\n\" + format(d.value); });\n",
    " console.log( 'add in the nodes' );\n",
    "\n",
    "          \n",
    "// add in the nodes\n",
    "  var node = svg.append(\"g\").selectAll(\".node\")\n",
    "      .data(graph.nodes)\n",
    "    .enter().append(\"g\")\n",
    "      .attr(\"class\", \"node\")\n",
    "      .attr(\"transform\", function(d) { \n",
    "\t\t  return \"translate(\" + d.x + \",\" + d.y + \")\"; })\n",
    "    .call(d3.behavior.drag()\n",
    "      .origin(function(d) { return d; })\n",
    "      .on(\"dragstart\", function() { \n",
    "\t\t  this.parentNode.appendChild(this); })\n",
    "      .on(\"drag\", dragmove));\n",
    "\n",
    "// add the rectangles for the nodes\n",
    "  node.append(\"rect\")\n",
    "      .attr(\"height\", function(d) { return d.dy; })\n",
    "      .attr(\"width\", sankey.nodeWidth())\n",
    "      .style(\"fill\", function(d) { \n",
    "\t\t  return d.color = color(d.name.replace(/ .*/, \"\")); })\n",
    "      .style(\"stroke\", function(d) { \n",
    "\t\t  return d3.rgb(d.color).darker(2); })\n",
    "    .append(\"title\")\n",
    "      .text(function(d) { \n",
    "\t\t  return d.name + \"\\n\" + format(d.value); });\n",
    "\n",
    "// add in the title for the nodes\n",
    "  node.append(\"text\")\n",
    "      .attr(\"x\", -6)\n",
    "      .attr(\"y\", function(d) { return d.dy / 2; })\n",
    "      .attr(\"dy\", \".35em\")\n",
    "      .attr(\"text-anchor\", \"end\")\n",
    "      .attr(\"transform\", null)\n",
    "      .text(function(d) { return d.name; })\n",
    "    .filter(function(d) { return d.x < width / 2; })\n",
    "      .attr(\"x\", 6 + sankey.nodeWidth())\n",
    "      .attr(\"text-anchor\", \"start\");\n",
    "\n",
    "// the function for moving the nodes\n",
    "  function dragmove(d) {\n",
    "    d3.select(this).attr(\"transform\", \n",
    "        \"translate(\" + d.x + \",\" + (\n",
    "                d.y = Math.max(0, Math.min(height - d.dy, d3.event.y))\n",
    "            ) + \")\");\n",
    "    sankey.relayout();\n",
    "    link.attr(\"d\", path);\n",
    "  }\n",
    "           \n",
    "d3.selectAll(\"rect\")\n",
    ".on(\"click\",function(d,i){\n",
    "        // alert(\"clicked!\"+d.value+\":\"+ d.name);\n",
    "        console.log(\"clicked!\"+d.value+\":\"+ d.name);\n",
    "        console.log('current fill core is: ');\n",
    "        console.log(d3.select(this).style('fill'));\n",
    "        if (rect_selected[d.name]  === undefined) {\n",
    "            console.log('first time click');\n",
    "            rect_selected[d.name] ='y';\n",
    "            rect_color[d.name] = d3.select(this).style('fill');\n",
    "            d3.select(this).style('fill','red');\n",
    "        } else if (rect_selected[d.name]  == 'y') { \n",
    "            console.log('revert back to original color');\n",
    "            rect_selected[d.name] ='n';\n",
    "            d3.select(this).style('fill',rect_color[d.name]);\n",
    "        } else{\n",
    "            console.log('not first time click, but selected');\n",
    "            rect_selected[d.name] ='y';\n",
    "            rect_color[d.name] = d3.select(this).style('fill');\n",
    "            d3.select(this).style('fill','red');\n",
    "        }\n",
    "        console.log(JSON.stringify(rect_selected));\n",
    "        console.log( (rect_selected));\n",
    "    \n",
    "        console.log('current selected_json is: ');\n",
    "        console.log( thatthis.model.get('selected_json'));\n",
    "        thatthis.model.set('selected_json',JSON.stringify(rect_selected));\n",
    "\n",
    "        thatthis.touch();\n",
    "        console.log( thatthis.model.get('selected_json'));\n",
    "        \n",
    "    \n",
    "    })  \n",
    "//console.log('setup trigger is done 3');\n",
    "//console.log(d3.selectAll('rect'));\n",
    "\n",
    "          \n",
    "      return thatthis;\n",
    " \n",
    "      });\n",
    "    }, // /render\n",
    "\n",
    "    // Do things that are updated every time `this.model` is changed...\n",
    "    // from the front-end or backend.\n",
    "    update: function(options) {\n",
    "\n",
    "      console.log('update function called');\n",
    "         \n",
    "    }, // /update\n",
    "\n",
    "\n",
    "    // Tell Backbone to listen to events (none for now)\n",
    "    events: {\n",
    "    },\n",
    "\n",
    "  }); // /extend\n",
    "\n",
    "  // The requirej6s namespace.\n",
    "  return {\n",
    "    D3SankeyView: D3SankeyView\n",
    "  };\n",
    "});\n",
    "\n",
    "console.log(global_json_data)"
   ]
  },
  {
   "cell_type": "code",
   "execution_count": 6,
   "metadata": {
    "collapsed": false,
    "urth": {
     "dashboard": {
      "layout": {
       "col": 0,
       "height": 11,
       "row": 0,
       "width": null
      }
     }
    }
   },
   "outputs": [],
   "source": [
    "'''pydata = {\"nodes\":[{\"name\":\"Barry\"},{\"name\":\"Elvis\"},{\"name\":\"Frodo\"},\n",
    "                   {\"name\":\"Sarah\"},{\"name\":\"Alice\"}],\n",
    "          \"links\":[{\"source\":0,\"target\":1,\"value\":2},{\"source\":2,\"target\":1,\"value\":2},\n",
    "                   {\"source\":2,\"target\":3,\"value\":2},{\"source\":0,\"target\":4,\"value\":2},\n",
    "                   {\"source\":1,\"target\":3,\"value\":2},{\"source\":1,\"target\":4,\"value\":2},\n",
    "                   {\"source\":3,\"target\":4,\"value\":4}]}\n",
    "'''\n",
    "    \n",
    "\n",
    "import json\n",
    "#with open('/home/duan/sankey_proj/sankey_notebook/data/sample_sankey.json', 'r') as afile:\n",
    "with open('/home/duan/sankey_proj/sankey_notebook/data/sankey.json', 'r') as afile:\n",
    "    pydata = json.load(afile)\n",
    "json_string = json.dumps(pydata)\n",
    "\n",
    "d3sankeyExample = D3SankeyWidget(\n",
    "    node_link_json = json_string,\n",
    "    height = 300,\n",
    "    width = 600\n",
    ")\n",
    "d3sankeyExample"
   ]
  },
  {
   "cell_type": "code",
   "execution_count": 7,
   "metadata": {
    "collapsed": false,
    "urth": {
     "dashboard": {
      "layout": {
       "col": 0,
       "height": 11,
       "row": 23,
       "width": null
      }
     }
    }
   },
   "outputs": [],
   "source": [
    "def jouney_covered_check(nodelist, journey):\n",
    "    jnodes = journey.split(',')\n",
    "    for anode in jnodes:\n",
    "        if not anode in nodelist:\n",
    "            return False\n",
    "    return True\n",
    "# jouney_covered_check({\"store_visit:0\":\"y\",\"store_visit:1\":\"y\",\"store_visit:2\":\"y\",\"buy:99\":\"y\"}.keys(), 'web_call:0,app:1,web_chat:2,no_buy:99') \n",
    "def collect_customer_from_journey(selected_journey_df):\n",
    "    selected_id = []\n",
    "    for index, row in selected_journey_df.iterrows(): \n",
    "        selected_id.extend(str(row['visitor_list']).split(','))\n",
    "    return list(set(selected_id))"
   ]
  },
  {
   "cell_type": "code",
   "execution_count": null,
   "metadata": {
    "collapsed": false,
    "urth": {
     "dashboard": {
      "layout": {
       "col": 4,
       "height": 4,
       "row": 11,
       "width": 4
      }
     }
    }
   },
   "outputs": [],
   "source": []
  },
  {
   "cell_type": "code",
   "execution_count": 11,
   "metadata": {
    "collapsed": false,
    "urth": {
     "dashboard": {
      "layout": {
       "col": 0,
       "height": 8,
       "row": 11,
       "width": 4
      }
     }
    }
   },
   "outputs": [
    {
     "name": "stdout",
     "output_type": "stream",
     "text": [
      "please select at least one node.\n"
     ]
    },
    {
     "data": {
      "image/png": "[encoded data removed]",
      "text/plain": [
       "<matplotlib.figure.Figure at 0x7f4869c16e10>"
      ]
     },
     "metadata": {},
     "output_type": "display_data"
    }
   ],
   "source": [
    "# Buttons: Reset, Select\n",
    "from IPython.display import display\n",
    "button = widgets.Button(description=\"Update!\")\n",
    "display(button)\n",
    "\n",
    "\n",
    "import json\n",
    "def on_button_clicked(b):\n",
    "    # print(d3sankeyExample.selected_json)\n",
    "    if len(d3sankeyExample.selected_json) < 5 :\n",
    "        print('please select at least one node.')\n",
    "        return\n",
    "    ss_json = json.loads(d3sankeyExample.selected_json)\n",
    "    new_ss = {k: v for k, v in ss_json.items() if v == \"y\"}\n",
    "    selected_journey=new_ss.keys()\n",
    "    selected_journey_df=cust_journey_df[cust_journey_df.apply(lambda x: jouney_covered_check(selected_journey,x['journey']) , axis=1)]\n",
    "    collecteddf = {'cust_id':  collect_customer_from_journey(selected_journey_df)}\n",
    "    df_new = pd.DataFrame(collecteddf, columns = ['cust_id' ])\n",
    "    df_new = df_new.apply(pd.to_numeric, errors='ignore').sort_values(by='cust_id')\n",
    "    collected_df = pd.merge(df_new, cust_df, how='inner', left_on='cust_id', right_on='cust_id.1')\n",
    "    collected_df['sentiment'].hist()\n",
    "    \n",
    "\n",
    "button.on_click(on_button_clicked)"
   ]
  },
  {
   "cell_type": "code",
   "execution_count": 9,
   "metadata": {
    "collapsed": false,
    "urth": {
     "dashboard": {
      "layout": {
       "col": 8,
       "height": 11,
       "row": 11,
       "width": 4
      }
     }
    }
   },
   "outputs": [],
   "source": [
    "# cust_df['sentiment'].hist()"
   ]
  },
  {
   "cell_type": "code",
   "execution_count": 10,
   "metadata": {
    "collapsed": false,
    "urth": {
     "dashboard": {
      "layout": {
       "col": 0,
       "height": 11,
       "row": 34,
       "width": 4
      }
     }
    }
   },
   "outputs": [],
   "source": [
    "# cust_df['Day Charge'].hist()"
   ]
  }
 ],
 "metadata": {
  "kernelspec": {
   "display_name": "Python 3",
   "language": "python",
   "name": "python3"
  },
  "language_info": {
   "codemirror_mode": {
    "name": "ipython",
    "version": 3
   },
   "file_extension": ".py",
   "mimetype": "text/x-python",
   "name": "python",
   "nbconvert_exporter": "python",
   "pygments_lexer": "ipython3",
   "version": "3.5.1"
  },
  "urth": {
   "dashboard": {
    "cellMargin": 10,
    "defaultCellHeight": 20,
    "layout": "grid",
    "maxColumns": 12
   }
  },
  "widgets": {
   "state": {
    "10411dd706a24afb94da28549882bb9a": {
     "views": [
      {
       "cell_index": 5
      }
     ]
    },
    "5d610f97a39d4ebabc086061cd865447": {
     "views": []
    },
    "7efe8810e4714c179f3891af7fb1109e": {
     "views": [
      {
       "cell_index": 8
      }
     ]
    },
    "7f18dfa0e9d14c0eb6c60a9302e87a85": {
     "views": []
    },
    "9eb24bcba2f14dd980f3dccf82b27bd7": {
     "views": []
    },
    "dfb552f0dac948d7b5db7b9306c11ff2": {
     "views": []
    }
   },
   "version": "1.1.2"
  }
 },
 "nbformat": 4,
 "nbformat_minor": 0
}
