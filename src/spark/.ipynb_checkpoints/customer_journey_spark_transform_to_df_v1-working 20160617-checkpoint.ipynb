{
 "cells": [
  {
   "cell_type": "code",
   "execution_count": 32,
   "metadata": {
    "collapsed": false
   },
   "outputs": [],
   "source": [
    "NUMBER_OF_NODES = 10\n",
    "\n",
    "lines = sc.textFile('file:///home/duan/github/customer_segmentation/data/journey_log/msnbc.numbered')\n",
    "lines_nonempty = lines.filter( lambda x: len(x) > 0 )"
   ]
  },
  {
   "cell_type": "code",
   "execution_count": 33,
   "metadata": {
    "collapsed": false
   },
   "outputs": [],
   "source": [
    "\n",
    "channel_dict = {\n",
    "    1:'store_visit',\n",
    "    2:'phone_call',\n",
    "    3:'web_call',\n",
    "    4:'app',\n",
    "    5:'web_chat',\n",
    "    6:'facebook',\n",
    "    7:'twitter',\n",
    "    8:'others',\n",
    "    20:'buy',\n",
    "    21:'not_buy',\n",
    "}\n",
    "\n",
    "# channel_dict"
   ]
  },
  {
   "cell_type": "code",
   "execution_count": 34,
   "metadata": {
    "collapsed": false
   },
   "outputs": [],
   "source": [
    "# devide customer id and the path and build the key-value as (cust_id, 'path').  \n",
    "# input:= calc_path('1049  : 1 5 6 6 21')\n",
    "# result:=   ('store_visit:0,web_chat:1,facebook:2,facebook:3,not_buy', (1, '1049'))\n",
    "def devide_cust_id_path(z):\n",
    "    aa=z.split(':')\n",
    "    # customer_id = int(aa[0].strip())\n",
    "    return (int(aa[0].strip()),aa[1])\n",
    "\n",
    "#devide_cust_id_path('1049  : 1 5 6 6 21')\n",
    "#output: (1049, ' 1 5 6 6 21')"
   ]
  },
  {
   "cell_type": "code",
   "execution_count": 35,
   "metadata": {
    "collapsed": false
   },
   "outputs": [],
   "source": [
    "# decode the path and build the key-value as (path, (1, customer_id)). 1 will be used for later summary.\n",
    "def build_path2cust_list(z):\n",
    "    aa=z  #.split(':')\n",
    "    customer_id = str(aa[0])\n",
    "    x=aa[1].split()\n",
    "    y=''\n",
    "    for i in range(len(x)-1):\n",
    "        ch_id = int(x[i]) \n",
    "        y = y + channel_dict[ch_id]+':'+str(i) + \",\" \n",
    "        \n",
    "    y = y + channel_dict[int(x[len(x)-1]) ]\n",
    "    return (y,(1,customer_id))\n",
    "\n",
    "# build_path2cust_list((1049, ' 1 5 6 6 21'))\n",
    "# output: = ('store_visit:0,web_chat:1,facebook:2,facebook:3,not_buy', (1, '1049'))"
   ]
  },
  {
   "cell_type": "code",
   "execution_count": 66,
   "metadata": {
    "collapsed": false
   },
   "outputs": [],
   "source": [
    "# decode the path and build the key-value as (path, (1, customer_id)). 1 will be used for later summary.\n",
    "def build_path2cust_list_with_sentiment(z):\n",
    "    aa=z  #.split(':')\n",
    "    customer_id = str(aa[0])\n",
    "    x=aa[1][0].split()\n",
    "    y=''\n",
    "    for i in range(len(x)-1):\n",
    "        ch_id = int(x[i]) \n",
    "        y = y + channel_dict[ch_id]+':'+str(i) + \",\" \n",
    "        \n",
    "    y = y + channel_dict[int(x[len(x)-1]) ]\n",
    "    return (y,(1,customer_id))\n",
    "\n",
    "# build_path2cust_list_with_sentiment((520, (' 2 2 2 2 21 ', 3.0)))\n",
    "# output: = ('phone_call:0,phone_call:1,phone_call:2,phone_call:3,not_buy', (1, '520'))"
   ]
  },
  {
   "cell_type": "code",
   "execution_count": 63,
   "metadata": {
    "collapsed": false
   },
   "outputs": [
    {
     "data": {
      "text/plain": [
       "'.map(lambda x:build_path2cust_list(x))\\n                 .reduceByKey(lambda x,y:reduce_jouney_count_concat(x,y))                 .map(lambda x:(x[1][0],(x[0],x[1][1]))).sortByKey(False)\\n'"
      ]
     },
     "execution_count": 63,
     "metadata": {},
     "output_type": "execute_result"
    }
   ],
   "source": [
    "cust_list_rdd = sc.parallelize(cust_list)\n",
    "wordcounts = lines_nonempty.map(lambda x:devide_cust_id_path(x)).join(cust_list_rdd)\n",
    "\n",
    "'''\\\n",
    ".map(lambda x:build_path2cust_list(x))\n",
    "                 .reduceByKey(lambda x,y:reduce_jouney_count_concat(x,y))\\\n",
    "                 .map(lambda x:(x[1][0],(x[0],x[1][1]))).sortByKey(False)\n",
    "'''                 "
   ]
  },
  {
   "cell_type": "code",
   "execution_count": 64,
   "metadata": {
    "collapsed": false
   },
   "outputs": [
    {
     "data": {
      "text/plain": [
       "[(520, (' 2 2 2 2 21 ', 3.0)),\n",
       " (520, (' 6 21 ', 3.0)),\n",
       " (520, (' 3 2 2 20 ', 3.0)),\n",
       " (10, (' 6 3 4 4 21 ', 4.0)),\n",
       " (10, (' 1 6 1 6 21 ', 4.0)),\n",
       " (10, (' 7 21 ', 4.0)),\n",
       " (530, (' 2 2 2 2 20 ', 1.0)),\n",
       " (530, (' 6 6 21 ', 1.0)),\n",
       " (530, (' 3 5 3 21 ', 1.0)),\n",
       " (20, (' 3 20 ', 6.0))]"
      ]
     },
     "execution_count": 64,
     "metadata": {},
     "output_type": "execute_result"
    }
   ],
   "source": [
    "wordcounts.take(10)"
   ]
  },
  {
   "cell_type": "code",
   "execution_count": 36,
   "metadata": {
    "collapsed": false,
    "scrolled": true
   },
   "outputs": [],
   "source": [
    "# decode the path and build the key-value as (path, (1, customer_id)). 1 will be used for later summary.\n",
    "# Deprecated.\n",
    "def calc_path(z):\n",
    "    aa=z.split(':')\n",
    "    customer_id = aa[0].strip()\n",
    "    x=aa[1].split()\n",
    "    y=''\n",
    "    for i in range(len(x)-1):\n",
    "        ch_id = int(x[i]) \n",
    "        y = y + channel_dict[ch_id]+':'+str(i) + \",\" \n",
    "        \n",
    "    y = y + channel_dict[int(x[len(x)-1]) ]\n",
    "    return (y,(1,customer_id))\n",
    "\n",
    "del calc_path\n",
    "# calc_path('1049  : 1 5 6 6 21')\n",
    "# result:=   ('store_visit:0,web_chat:1,facebook:2,facebook:3,not_buy', (1, '1049'))\n"
   ]
  },
  {
   "cell_type": "code",
   "execution_count": 37,
   "metadata": {
    "collapsed": true
   },
   "outputs": [],
   "source": [
    "# reduce the value of (1, customer_id) into (summary of int, list of customer)\n",
    "def reduce_jouney_count_concat(x,y): \n",
    "    return (x[0]+y[0],'{},{}'.format(x[1],y[1])) #,'testing'\n"
   ]
  },
  {
   "cell_type": "code",
   "execution_count": null,
   "metadata": {
    "collapsed": true
   },
   "outputs": [],
   "source": []
  },
  {
   "cell_type": "code",
   "execution_count": 38,
   "metadata": {
    "collapsed": false
   },
   "outputs": [],
   "source": [
    "def flatmap_jouney(z):\n",
    "    y=[]\n",
    "    x=z[1][0].split(',')\n",
    "    for i in range(len(x)- 1):\n",
    "        # print('{}-->{},1'.format(x[i],x[i+1],1))\n",
    "        y.append('{},{}={}'.format(x[i],x[i+1],z[0]))\n",
    "    return y\n",
    "#a = flatmap_jouney((5, ('facebook:0,no_buy:99', '9,20,21,25,30')))\n",
    "#['facebook:0,no_buy:99=5']"
   ]
  },
  {
   "cell_type": "code",
   "execution_count": 39,
   "metadata": {
    "collapsed": false
   },
   "outputs": [],
   "source": [
    "def split_map_journey(x):\n",
    "    z=x.split('=')\n",
    "    return (z[0],int(z[1]))\n",
    "# split_map_journey('facebook:0,no_buy:99=5')\n",
    "# ('facebook:0,no_buy:99', 5)"
   ]
  },
  {
   "cell_type": "code",
   "execution_count": 40,
   "metadata": {
    "collapsed": true
   },
   "outputs": [],
   "source": [
    "def flatmap_jouney_nodes(z):\n",
    "    y=[]\n",
    "    x=z[1][0].split(',')\n",
    "    for i in range(len(x)):\n",
    "        # print('{}-->{},1'.format(x[i],x[i+1],1))\n",
    "        y.append('{}'.format(x[i]))\n",
    "    return y\n",
    "\n"
   ]
  },
  {
   "cell_type": "code",
   "execution_count": 41,
   "metadata": {
    "collapsed": false
   },
   "outputs": [
    {
     "name": "stdout",
     "output_type": "stream",
     "text": [
      "941\n",
      "195\n",
      "30\n"
     ]
    }
   ],
   "source": [
    "def build_journey_all(lines_nonempty):\n",
    "    \n",
    "    # wordcounts = lines_nonempty.map(lambda x:calc_path(x)).reduceByKey(lambda x,y:reduce_jouney_count_concat(x,y)).map(lambda x:(x[1][0],(x[0],x[1][1]))).sortByKey(False)\n",
    "    wordcounts = lines_nonempty.map(lambda x:devide_cust_id_path(x)).map(lambda x:build_path2cust_list(x)).reduceByKey(lambda x,y:reduce_jouney_count_concat(x,y)).map(lambda x:(x[1][0],(x[0],x[1][1]))).sortByKey(False)\n",
    "    print(wordcounts.count())\n",
    "    #wordcounts.take(1)\n",
    "    sankey_links = wordcounts.flatMap(flatmap_jouney).map(split_map_journey).reduceByKey(lambda x,y:x+y).map(lambda x:(x[1],x[0])).sortByKey(False)\n",
    "    print(sankey_links.count())\n",
    "    # sankey_links.take(25)\n",
    "\n",
    "    sankey_nodes = wordcounts.flatMap(flatmap_jouney_nodes).map(lambda x: (x, 1)).reduceByKey(lambda x,y:x+y).map(lambda x:(x[1],x[0])).sortByKey(False)\n",
    "    print(sankey_nodes.count())\n",
    "    # sankey_nodes.collect()\n",
    "    return wordcounts,sankey_links, sankey_nodes\n",
    "\n",
    "\n",
    "wordcounts,sankey_links, sankey_nodes = build_journey_all(lines_nonempty)"
   ]
  },
  {
   "cell_type": "code",
   "execution_count": 42,
   "metadata": {
    "collapsed": false
   },
   "outputs": [],
   "source": [
    "# wordcounts.take(2)"
   ]
  },
  {
   "cell_type": "code",
   "execution_count": null,
   "metadata": {
    "collapsed": false
   },
   "outputs": [],
   "source": []
  },
  {
   "cell_type": "code",
   "execution_count": 43,
   "metadata": {
    "collapsed": true
   },
   "outputs": [],
   "source": [
    "def create_sankey_json(sankey_nodes,sankey_links, NUMBER_OF_NODES):\n",
    "    a = sankey_nodes.take(NUMBER_OF_NODES)\n",
    "    node_dict = {}\n",
    "    mynodes = []\n",
    "    for i in range(len(a)):\n",
    "        node_dict[a[i][1]] = i\n",
    "        mynodes.append({\"name\":a[i][1]})\n",
    "\n",
    "    ll = sankey_links.collect()\n",
    "    mylinks = []\n",
    "    # {\"source\":0,\"target\":1,\"value\":2}\n",
    "    for i in range(len(ll)):\n",
    "        if (ll[i][1].split(',')[0]  in node_dict.keys() and ll[i][1].split(',')[1]  in node_dict.keys()  ):\n",
    "            source_node = node_dict[ ll[i][1].split(',')[0]  ] \n",
    "            target_node = node_dict[ ll[i][1].split(',')[1]  ] \n",
    "            mylinks.append({\"source\":source_node,\"target\":target_node,\"value\":ll[i][0]})\n",
    "    pydata = {\"nodes\":mynodes,\n",
    "              \"links\":mylinks}\n",
    "    return pydata\n"
   ]
  },
  {
   "cell_type": "code",
   "execution_count": 44,
   "metadata": {
    "collapsed": false
   },
   "outputs": [],
   "source": [
    "pydata = create_sankey_json(sankey_nodes,sankey_links, NUMBER_OF_NODES)\n",
    "\n",
    "import json\n",
    "with open('/home/duan/github/customer_segmentation/data/sankey/sankey.json', 'w') as outfile:\n",
    "    json.dump(pydata, outfile)\n",
    "     "
   ]
  },
  {
   "cell_type": "code",
   "execution_count": 45,
   "metadata": {
    "collapsed": false
   },
   "outputs": [],
   "source": [
    "from pyspark.sql import SQLContext, Row\n",
    "sqlContext = SQLContext(sc)\n",
    "# Load a text file and convert each line to a Row.  \n",
    "journey_rows = wordcounts.map(lambda p: Row(visitor_count=p[0], journey= p[1][0], visitor_list=p[1][1]))\n",
    "\n",
    "# Infer the schema, and register the DataFrame as a table.\n",
    "schemaPeople = sqlContext.createDataFrame(journey_rows)\n",
    "schemaPeople.registerTempTable(\"journey_table\")"
   ]
  },
  {
   "cell_type": "code",
   "execution_count": 46,
   "metadata": {
    "collapsed": false,
    "scrolled": true
   },
   "outputs": [],
   "source": [
    "# teenagers = sqlContext.sql(\"SELECT * FROM journey_table WHERE visitor_count >= 600\")"
   ]
  },
  {
   "cell_type": "code",
   "execution_count": 47,
   "metadata": {
    "collapsed": true
   },
   "outputs": [],
   "source": [
    "cust_journey_df = schemaPeople.toPandas()"
   ]
  },
  {
   "cell_type": "code",
   "execution_count": 48,
   "metadata": {
    "collapsed": false
   },
   "outputs": [],
   "source": [
    "cust_journey_df.to_csv('/home/duan/github/customer_segmentation/data/cust_profile_df/cust_journey_df.csv')\n",
    "orig_cust_journey_df = cust_journey_df\n",
    "# orig_cust_journey_df = pd.DataFrame.from_csv('/home/duan/sankey_proj/sankey_notebook/data/cust_profile_df/cust_journey_df.csv')"
   ]
  },
  {
   "cell_type": "code",
   "execution_count": 49,
   "metadata": {
    "collapsed": false,
    "scrolled": true
   },
   "outputs": [
    {
     "data": {
      "text/plain": [
       "journey          941\n",
       "visitor_count    941\n",
       "visitor_list     941\n",
       "dtype: int64"
      ]
     },
     "execution_count": 49,
     "metadata": {},
     "output_type": "execute_result"
    }
   ],
   "source": [
    "cust_journey_df.count()"
   ]
  },
  {
   "cell_type": "code",
   "execution_count": 50,
   "metadata": {
    "collapsed": false
   },
   "outputs": [
    {
     "data": {
      "text/plain": [
       "[('red2', (30, 50)), ('red', (20, 40))]"
      ]
     },
     "execution_count": 50,
     "metadata": {},
     "output_type": "execute_result"
    }
   ],
   "source": [
    "rdd = sc.parallelize([(\"red\",20),(\"red2\",30),(\"blue\", 100)])\n",
    "rdd2 = sc.parallelize([(\"red\",40),(\"red2\",50),(\"yellow\", 10000)])\n",
    "rdd.join(rdd2).collect()"
   ]
  },
  {
   "cell_type": "code",
   "execution_count": 67,
   "metadata": {
    "collapsed": true
   },
   "outputs": [],
   "source": [
    "def build_journey_with_customer_filter(lines_nonempty,cust_list):\n",
    "    cust_list_rdd = sc.parallelize(cust_list)\n",
    "    selected_cust_journey_lines  = 1\n",
    "    # TODO , TODO: map customer id first.\n",
    "\n",
    "    wordcounts = lines_nonempty.map(lambda x:devide_cust_id_path(x)).join(cust_list_rdd)\\\n",
    "                 .map(lambda x:build_path2cust_list_with_sentiment(x)).reduceByKey(lambda x,y:reduce_jouney_count_concat(x,y))\\\n",
    "                 .map(lambda x:(x[1][0],(x[0],x[1][1]))).sortByKey(False)\n",
    "    print(wordcounts.count())\n",
    "    #wordcounts.take(1)\n",
    "    sankey_links = wordcounts.flatMap(flatmap_jouney).map(split_map_journey).reduceByKey(lambda x,y:x+y).map(lambda x:(x[1],x[0])).sortByKey(False)\n",
    "    print(sankey_links.count())\n",
    "    # sankey_links.take(25)\n",
    "\n",
    "    sankey_nodes = wordcounts.flatMap(flatmap_jouney_nodes).map(lambda x: (x, 1)).reduceByKey(lambda x,y:x+y).map(lambda x:(x[1],x[0])).sortByKey(False)\n",
    "    print(sankey_nodes.count())\n",
    "    # sankey_nodes.collect()\n",
    "    return wordcounts,sankey_links, sankey_nodes\n"
   ]
  },
  {
   "cell_type": "code",
   "execution_count": 52,
   "metadata": {
    "collapsed": true
   },
   "outputs": [],
   "source": [
    "import pandas as pd\n",
    "import matplotlib.pyplot as plt\n",
    "import matplotlib\n",
    "matplotlib.style.use('ggplot')\n",
    "%matplotlib inline\n",
    "\n",
    "cust_df = pd.DataFrame.from_csv('/home/duan/github/customer_segmentation/data/cust_profile_df/cust_telco_profile_df.csv')\n",
    "# cust_journey_df = pd.DataFrame.from_csv('/home/duan/github/customer_segmentation/data/cust_profile_df/cust_journey_df.csv')"
   ]
  },
  {
   "cell_type": "code",
   "execution_count": 55,
   "metadata": {
    "collapsed": false
   },
   "outputs": [],
   "source": [
    "cust_list_df = cust_df[cust_df['cust_id.1']< 600][['cust_id.1','sentiment']]\n",
    "cust_list = [tuple(x) for x in cust_list_df.values]\n",
    "# cust_list"
   ]
  },
  {
   "cell_type": "code",
   "execution_count": 68,
   "metadata": {
    "collapsed": false
   },
   "outputs": [
    {
     "name": "stdout",
     "output_type": "stream",
     "text": [
      "392\n",
      "186\n",
      "30\n"
     ]
    }
   ],
   "source": [
    "new_journey_rdd,new_sankey_links, new_sankey_nodes = build_journey_with_customer_filter(lines_nonempty,cust_list)\n",
    "new_sankey_json = create_sankey_json(sankey_nodes,sankey_links, NUMBER_OF_NODES)"
   ]
  },
  {
   "cell_type": "code",
   "execution_count": 69,
   "metadata": {
    "collapsed": false
   },
   "outputs": [
    {
     "data": {
      "text/plain": [
       "{'links': [{'source': 2, 'target': 6, 'value': 1188},\n",
       "  {'source': 7, 'target': 0, 'value': 806},\n",
       "  {'source': 6, 'target': 3, 'value': 756},\n",
       "  {'source': 4, 'target': 9, 'value': 666},\n",
       "  {'source': 2, 'target': 1, 'value': 559},\n",
       "  {'source': 5, 'target': 1, 'value': 329},\n",
       "  {'source': 2, 'target': 4, 'value': 235},\n",
       "  {'source': 6, 'target': 1, 'value': 230},\n",
       "  {'source': 3, 'target': 1, 'value': 200},\n",
       "  {'source': 7, 'target': 1, 'value': 162},\n",
       "  {'source': 2, 'target': 8, 'value': 158},\n",
       "  {'source': 5, 'target': 0, 'value': 151},\n",
       "  {'source': 4, 'target': 0, 'value': 137},\n",
       "  {'source': 8, 'target': 0, 'value': 128},\n",
       "  {'source': 4, 'target': 1, 'value': 102},\n",
       "  {'source': 7, 'target': 4, 'value': 99},\n",
       "  {'source': 6, 'target': 0, 'value': 93},\n",
       "  {'source': 9, 'target': 1, 'value': 88},\n",
       "  {'source': 6, 'target': 9, 'value': 86},\n",
       "  {'source': 4, 'target': 3, 'value': 72},\n",
       "  {'source': 8, 'target': 3, 'value': 69},\n",
       "  {'source': 7, 'target': 8, 'value': 58},\n",
       "  {'source': 5, 'target': 6, 'value': 51},\n",
       "  {'source': 3, 'target': 0, 'value': 48},\n",
       "  {'source': 7, 'target': 6, 'value': 48},\n",
       "  {'source': 5, 'target': 8, 'value': 44},\n",
       "  {'source': 5, 'target': 4, 'value': 44},\n",
       "  {'source': 9, 'target': 0, 'value': 41},\n",
       "  {'source': 8, 'target': 9, 'value': 19},\n",
       "  {'source': 8, 'target': 1, 'value': 13}],\n",
       " 'nodes': [{'name': 'not_buy'},\n",
       "  {'name': 'buy'},\n",
       "  {'name': 'store_visit:0'},\n",
       "  {'name': 'store_visit:2'},\n",
       "  {'name': 'phone_call:1'},\n",
       "  {'name': 'web_call:0'},\n",
       "  {'name': 'store_visit:1'},\n",
       "  {'name': 'facebook:0'},\n",
       "  {'name': 'app:1'},\n",
       "  {'name': 'phone_call:2'}]}"
      ]
     },
     "execution_count": 69,
     "metadata": {},
     "output_type": "execute_result"
    }
   ],
   "source": [
    "new_sankey_json"
   ]
  }
 ],
 "metadata": {
  "kernelspec": {
   "display_name": "Python 3",
   "language": "python",
   "name": "python3"
  },
  "language_info": {
   "codemirror_mode": {
    "name": "ipython",
    "version": 3
   },
   "file_extension": ".py",
   "mimetype": "text/x-python",
   "name": "python",
   "nbconvert_exporter": "python",
   "pygments_lexer": "ipython3",
   "version": "3.5.1"
  },
  "widgets": {
   "state": {},
   "version": "1.1.2"
  }
 },
 "nbformat": 4,
 "nbformat_minor": 0
}
