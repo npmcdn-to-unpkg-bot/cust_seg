{
 "cells": [
  {
   "cell_type": "code",
   "execution_count": 134,
   "metadata": {
    "collapsed": true,
    "urth": {
     "dashboard": {
      "hidden": true,
      "layout": {}
     }
    }
   },
   "outputs": [],
   "source": [
    "import pandas as pd\n",
    "import json\n",
    "\n",
    "import matplotlib.pyplot as plt\n",
    "import matplotlib\n",
    "matplotlib.style.use('ggplot')\n",
    "%matplotlib inline\n",
    "\n",
    "NUMBER_OF_NODES = 10\n",
    "\n",
    "cust_df = pd.DataFrame.from_csv('/home/duan/github/customer_segmentation/data/cust_profile_df/cust_sentiment_gender_df.csv')\n",
    "\n",
    "lines = sc.textFile('file:///home/duan/github/customer_segmentation/data/journey_log/msnbc.numbered')\n",
    "lines_nonempty = lines.filter( lambda x: len(x) > 0 )"
   ]
  },
  {
   "cell_type": "code",
   "execution_count": 135,
   "metadata": {
    "collapsed": false,
    "urth": {
     "dashboard": {
      "hidden": true,
      "layout": {}
     }
    }
   },
   "outputs": [],
   "source": [
    "channel_dict = {\n",
    "    1:'store_visit',\n",
    "    2:'phone_call',\n",
    "    3:'web_call',\n",
    "    4:'app',\n",
    "    5:'web_chat',\n",
    "    6:'facebook',\n",
    "    7:'twitter',\n",
    "    8:'others',\n",
    "    20:'buy',\n",
    "    21:'not_buy',\n",
    "}\n",
    "\n",
    "# channel_dict"
   ]
  },
  {
   "cell_type": "code",
   "execution_count": 136,
   "metadata": {
    "collapsed": false,
    "urth": {
     "dashboard": {
      "hidden": true,
      "layout": {}
     }
    }
   },
   "outputs": [],
   "source": [
    "# devide customer id and the path and build the key-value as (cust_id, 'path').  \n",
    "# input:= calc_path('1049  : 1 5 6 6 21')\n",
    "# result:=   ('store_visit:0,web_chat:1,facebook:2,facebook:3,not_buy', (1, '1049'))\n",
    "def devide_cust_id_path(z):\n",
    "    aa=z.split(':')\n",
    "    # customer_id = int(aa[0].strip())\n",
    "    return (int(aa[0].strip()),aa[1])\n",
    "\n",
    "#devide_cust_id_path('1049  : 1 5 6 6 21')\n",
    "#output: (1049, ' 1 5 6 6 21')"
   ]
  },
  {
   "cell_type": "code",
   "execution_count": 137,
   "metadata": {
    "collapsed": false,
    "urth": {
     "dashboard": {
      "hidden": true,
      "layout": {}
     }
    }
   },
   "outputs": [],
   "source": [
    "# decode the path and build the key-value as (path, (1, customer_id)). 1 will be used for later summary.\n",
    "def build_path2cust_list(z):\n",
    "    aa=z  #.split(':')\n",
    "    customer_id = str(aa[0])\n",
    "    x=aa[1].split()\n",
    "    y=''\n",
    "    for i in range(len(x)-1):\n",
    "        ch_id = int(x[i]) \n",
    "        y = y + channel_dict[ch_id]+':'+str(i) + \",\" \n",
    "        \n",
    "    y = y + channel_dict[int(x[len(x)-1]) ]\n",
    "    return (y,(1,customer_id))\n",
    "\n",
    "# build_path2cust_list((1049, ' 1 5 6 6 21'))\n",
    "# output: = ('store_visit:0,web_chat:1,facebook:2,facebook:3,not_buy', (1, '1049'))"
   ]
  },
  {
   "cell_type": "code",
   "execution_count": 138,
   "metadata": {
    "collapsed": false,
    "urth": {
     "dashboard": {
      "hidden": true,
      "layout": {}
     }
    }
   },
   "outputs": [],
   "source": [
    "# decode the path and build the key-value as (path, (1, customer_id)). 1 will be used for later summary.\n",
    "def build_path2cust_list_with_sentiment(z):\n",
    "    aa=z  #.split(':')\n",
    "    customer_id = str(aa[0])\n",
    "    x=aa[1][0].split()\n",
    "    y=''\n",
    "    for i in range(len(x)-1):\n",
    "        ch_id = int(x[i]) \n",
    "        y = y + channel_dict[ch_id]+':'+str(i) + \",\" \n",
    "        \n",
    "    y = y + channel_dict[int(x[len(x)-1]) ]\n",
    "    return (y,(1,customer_id))\n",
    "\n",
    "# build_path2cust_list_with_sentiment((520, (' 2 2 2 2 21 ', 3.0)))\n",
    "# output: = ('phone_call:0,phone_call:1,phone_call:2,phone_call:3,not_buy', (1, '520'))"
   ]
  },
  {
   "cell_type": "code",
   "execution_count": 139,
   "metadata": {
    "collapsed": true,
    "urth": {
     "dashboard": {
      "hidden": true,
      "layout": {}
     }
    }
   },
   "outputs": [],
   "source": [
    "# reduce the value of (1, customer_id) into (summary of int, list of customer)\n",
    "def reduce_jouney_count_concat(x,y): \n",
    "    return (x[0]+y[0],'{},{}'.format(x[1],y[1])) #,'testing'\n"
   ]
  },
  {
   "cell_type": "code",
   "execution_count": 140,
   "metadata": {
    "collapsed": false,
    "urth": {
     "dashboard": {
      "hidden": true,
      "layout": {}
     }
    }
   },
   "outputs": [],
   "source": [
    "def flatmap_jouney(z):\n",
    "    y=[]\n",
    "    x=z[1][0].split(',')\n",
    "    for i in range(len(x)- 1):\n",
    "        # print('{}-->{},1'.format(x[i],x[i+1],1))\n",
    "        y.append('{},{}={}'.format(x[i],x[i+1],z[0]))\n",
    "    return y\n",
    "#a = flatmap_jouney((5, ('facebook:0,no_buy:99', '9,20,21,25,30')))\n",
    "#['facebook:0,no_buy:99=5']"
   ]
  },
  {
   "cell_type": "code",
   "execution_count": 141,
   "metadata": {
    "collapsed": false,
    "urth": {
     "dashboard": {
      "hidden": true,
      "layout": {}
     }
    }
   },
   "outputs": [],
   "source": [
    "def split_map_journey(x):\n",
    "    z=x.split('=')\n",
    "    return (z[0],int(z[1]))\n",
    "# split_map_journey('facebook:0,no_buy:99=5')\n",
    "# ('facebook:0,no_buy:99', 5)"
   ]
  },
  {
   "cell_type": "code",
   "execution_count": 142,
   "metadata": {
    "collapsed": true,
    "urth": {
     "dashboard": {
      "hidden": true,
      "layout": {}
     }
    }
   },
   "outputs": [],
   "source": [
    "def flatmap_jouney_nodes(z):\n",
    "    y=[]\n",
    "    x=z[1][0].split(',')\n",
    "    for i in range(len(x)):\n",
    "        # print('{}-->{},1'.format(x[i],x[i+1],1))\n",
    "        y.append('{}'.format(x[i]))\n",
    "    return y\n",
    "\n"
   ]
  },
  {
   "cell_type": "code",
   "execution_count": 143,
   "metadata": {
    "collapsed": false,
    "urth": {
     "dashboard": {
      "hidden": true,
      "layout": {}
     }
    }
   },
   "outputs": [],
   "source": [
    "a='''\n",
    "cust_list_rdd = sc.parallelize(cust_list)\n",
    "cust_list_rdd.take(2)\n",
    "#wordcounts = lines_nonempty.map(lambda x:devide_cust_id_path(x))\n",
    "#wordcounts.take(2)\n",
    "#wordcounts = lines_nonempty.map(lambda x:devide_cust_id_path(x)).join(cust_list_rdd)\n",
    "#wordcounts.take(2)\n",
    "wordcounts = lines_nonempty.map(lambda x:devide_cust_id_path(x)).join(cust_list_rdd).map(lambda x:build_path2cust_list_with_sentiment(x))\n",
    "wordcounts.take(2)\n",
    "'''\n"
   ]
  },
  {
   "cell_type": "code",
   "execution_count": 144,
   "metadata": {
    "collapsed": true,
    "urth": {
     "dashboard": {
      "hidden": true,
      "layout": {}
     }
    }
   },
   "outputs": [],
   "source": [
    "def build_journey_with_customer_filter(lines_nonempty,cust_list):\n",
    "    # wordcounts is a temporary variable, for mapping original path to key-value (path, (1, cust_id)) \n",
    "    if cust_list is None: \n",
    "        wordcounts = lines_nonempty.map(lambda x:devide_cust_id_path(x)).map(lambda x:build_path2cust_list(x))\n",
    "    else:\n",
    "        cust_list_rdd = sc.parallelize(cust_list)\n",
    "        wordcounts = lines_nonempty.map(lambda x:devide_cust_id_path(x)).join(cust_list_rdd)\\\n",
    "                    .map(lambda x:build_path2cust_list_with_sentiment(x))\n",
    "    \n",
    "    journey_rdd = wordcounts.reduceByKey(lambda x,y:reduce_jouney_count_concat(x,y))\\\n",
    "                 .map(lambda x:(x[1][0],(x[0],x[1][1]))).sortByKey(False)\n",
    "    #print(journey_rdd.count())\n",
    "    #wordcounts.take(1)\n",
    "\n",
    "    return journey_rdd # ,sankey_links, sankey_nodes\n"
   ]
  },
  {
   "cell_type": "code",
   "execution_count": 145,
   "metadata": {
    "collapsed": false,
    "urth": {
     "dashboard": {
      "hidden": true,
      "layout": {}
     }
    }
   },
   "outputs": [],
   "source": [
    "# Write the journey df to disk for later on computation.\n",
    "def build_journey_all(lines_nonempty):\n",
    "    wordcounts = build_journey_with_customer_filter(lines_nonempty, cust_list = None)\n",
    "    print(wordcounts.count())\n",
    "\n",
    "    from pyspark.sql import SQLContext, Row\n",
    "    sqlContext = SQLContext(sc)\n",
    "    # Load a text file and convert each line to a Row.  \n",
    "    journey_rows = wordcounts.map(lambda p: Row(visitor_count=p[0], journey= p[1][0], visitor_list=p[1][1]))\n",
    "\n",
    "    # Infer the schema, and register the DataFrame as a table.\n",
    "    schemaPeople = sqlContext.createDataFrame(journey_rows)\n",
    "    # schemaPeople.registerTempTable(\"journey_table\")\n",
    "    cust_journey_df = schemaPeople.toPandas()\n",
    "    cust_journey_df.to_csv('/home/duan/github/customer_segmentation/data/cust_profile_df/cust_journey_df.csv.new.1')\n",
    "    return cust_journey_df\n",
    "\n",
    "# Only for first time, or schedule it every night.\n",
    "# cust_journey_df = build_journey_all(lines_nonempty)\n",
    "cust_journey_df=pd.DataFrame.from_csv('/home/duan/github/customer_segmentation/data/cust_profile_df/cust_journey_df.csv.new.1')\n",
    "# s1 = sqlContext.sql(\"SELECT * FROM journey_table WHERE visitor_count >= 600\")\n",
    "\n"
   ]
  },
  {
   "cell_type": "code",
   "execution_count": 146,
   "metadata": {
    "collapsed": true,
    "urth": {
     "dashboard": {
      "hidden": true,
      "layout": {}
     }
    }
   },
   "outputs": [],
   "source": [
    "def create_sankey_json(journey_rdd, NUMBER_OF_NODES):\n",
    "    # Create sankey json according to the journey. The the sankey_dict will be sent to front end for presentation.\n",
    "    sankey_links = journey_rdd.flatMap(flatmap_jouney).map(split_map_journey).reduceByKey(lambda x,y:x+y).map(lambda x:(x[1],x[0])).sortByKey(False)\n",
    "    #print(sankey_links.count())\n",
    "    # sankey_links.take(25)\n",
    "\n",
    "    sankey_nodes = journey_rdd.flatMap(flatmap_jouney_nodes).map(lambda x: (x, 1)).reduceByKey(lambda x,y:x+y).map(lambda x:(x[1],x[0])).sortByKey(False)\n",
    "    #print(sankey_nodes.count())\n",
    "    # sankey_nodes.collect()\n",
    "    \n",
    "    a = sankey_nodes.take(NUMBER_OF_NODES)\n",
    "    node_dict = {}\n",
    "    mynodes = []\n",
    "    for i in range(len(a)):\n",
    "        node_dict[a[i][1]] = i\n",
    "        mynodes.append({\"name\":a[i][1]})\n",
    "\n",
    "    ll = sankey_links.collect()\n",
    "    mylinks = []\n",
    "    # {\"source\":0,\"target\":1,\"value\":2}\n",
    "    for i in range(len(ll)):\n",
    "        if (ll[i][1].split(',')[0]  in node_dict.keys() and ll[i][1].split(',')[1]  in node_dict.keys()  ):\n",
    "            source_node = node_dict[ ll[i][1].split(',')[0]  ] \n",
    "            target_node = node_dict[ ll[i][1].split(',')[1]  ] \n",
    "            mylinks.append({\"source\":source_node,\"target\":target_node,\"value\":ll[i][0]})\n",
    "    sankey_dict = {\"nodes\":mynodes,\n",
    "              \"links\":mylinks}\n",
    "    return sankey_dict\n"
   ]
  },
  {
   "cell_type": "code",
   "execution_count": 147,
   "metadata": {
    "collapsed": false,
    "urth": {
     "dashboard": {
      "hidden": true,
      "layout": {}
     }
    }
   },
   "outputs": [],
   "source": [
    "def selected_cust_sankey_json(lines_nonempty, selected_cust_df):\n",
    "    if selected_cust_df is None:\n",
    "        cust_list = None\n",
    "    else:\n",
    "        cust_list = [tuple(x) for x in selected_cust_df[['cust_id','cust_id']].values]\n",
    "\n",
    "    new_journey_rdd = build_journey_with_customer_filter(lines_nonempty,cust_list) # ,new_sankey_links, new_sankey_nodes\n",
    "    new_sankey_json = create_sankey_json(new_journey_rdd, NUMBER_OF_NODES)\n",
    "    return json.dumps(new_sankey_json)\n"
   ]
  },
  {
   "cell_type": "code",
   "execution_count": 148,
   "metadata": {
    "collapsed": false,
    "urth": {
     "dashboard": {
      "hidden": true,
      "layout": {}
     }
    }
   },
   "outputs": [],
   "source": [
    "import ipywidgets as widgets\n",
    "import traitlets # import CInt, Unicode\n",
    "from IPython.display import HTML\n",
    "from IPython import display\n",
    "\n",
    "class D3SankeyWidget(widgets.DOMWidget):\n",
    "    # the name of the requirejs module (no .js!)\n",
    "    _view_module = traitlets.Unicode(\n",
    "        'd3sankeyview').tag(sync=True)\n",
    "    # the name of the Backbone.View subclass to be used\n",
    "    _view_name = traitlets.Unicode(\n",
    "        'D3SankeyView').tag(sync=True) \n",
    "    \n",
    "    # the name of the CSS file to load with this widget\n",
    "    _view_style = traitlets.Unicode(\n",
    "        'nbextensions/ipythond3sankey/css/widget_d3sankey').tag(sync=True)\n",
    "    \n",
    "    # the actual value: lists of nodes and links\n",
    "    nodes = traitlets.List().tag(sync=True)\n",
    "    links = traitlets.List().tag(sync=True)\n",
    "    node_link_json = traitlets.Unicode('{}').tag(sync=True)\n",
    "\n",
    "    selected_json = traitlets.Unicode().tag(sync=True)\n",
    "    \n",
    "    # margins & size\n",
    "    margin_top = traitlets.Float(1).tag(sync=True)\n",
    "    margin_right = traitlets.Float(1).tag(sync=True)\n",
    "    margin_bottom = traitlets.Float(6).tag(sync=True)\n",
    "    margin_left = traitlets.Float(1).tag(sync=True)\n",
    "    width = traitlets.Float(960).tag(sync=True)\n",
    "    height = traitlets.Float(500).tag(sync=True)\n",
    "    \n",
    "    unit = traitlets.Unicode('').tag(sync=True)\n",
    "\n",
    "    "
   ]
  },
  {
   "cell_type": "code",
   "execution_count": 149,
   "metadata": {
    "collapsed": false,
    "urth": {
     "dashboard": {
      "layout": {
       "col": 0,
       "height": 4,
       "row": 4,
       "width": 4
      }
     }
    }
   },
   "outputs": [
    {
     "data": {
      "text/html": [
       "\n",
       "    <style>\n",
       "      .node rect {\n",
       "        fill-opacity: .9;\n",
       "        shape-rendering: crispEdges;\n",
       "        stroke-width: 0;\n",
       "      }\n",
       "      .node text {\n",
       "        text-shadow: 0 1px 0 #fff;\n",
       "      }\n",
       "      .link {\n",
       "        fill: none;\n",
       "        stroke: #000;\n",
       "        stroke-opacity: .2;\n",
       "      }\n",
       "    </style>\n"
      ],
      "text/plain": [
       "<IPython.core.display.HTML object>"
      ]
     },
     "execution_count": 149,
     "metadata": {},
     "output_type": "execute_result"
    }
   ],
   "source": [
    "HTML('''\n",
    "    <style>\n",
    "      .node rect {\n",
    "        fill-opacity: .9;\n",
    "        shape-rendering: crispEdges;\n",
    "        stroke-width: 0;\n",
    "      }\n",
    "      .node text {\n",
    "        text-shadow: 0 1px 0 #fff;\n",
    "      }\n",
    "      .link {\n",
    "        fill: none;\n",
    "        stroke: #000;\n",
    "        stroke-opacity: .2;\n",
    "      }\n",
    "    </style>\n",
    "''')\n",
    "    "
   ]
  },
  {
   "cell_type": "code",
   "execution_count": 150,
   "metadata": {
    "collapsed": false,
    "urth": {
     "dashboard": {
      "hidden": true,
      "layout": {}
     }
    }
   },
   "outputs": [
    {
     "data": {
      "application/javascript": [
       "require.config({\n",
       "  paths: {\n",
       "      d3: '/custom/d3sankey/js/d3',\n",
       "      jquery: '/custom/d3sankey/js/jquery',\n",
       "      underscore: '/custom/d3sankey/js/underscore',\n",
       "      sankey: '/custom/d3sankey/js/sankey',\n",
       "      d3_chart: '/custom/d3sankey/js/d3.chart',\n",
       "      d3_chart_sankey: '/custom/d3sankey/js/d3.chart.sankey',\n",
       "  },\n",
       "  shim: {\n",
       "    'sankey': { deps:  ['d3']},\n",
       "    'd3_chart': { deps:  ['d3']},\n",
       "    'd3_chart_sankey': { deps:  ['d3_chart']}\n",
       "  },\n",
       "});\n",
       "\n",
       "/* //cdnjs.cloudflare.com/ajax/libs/d3/3.4.8/d3.min\n",
       "  'jquery',\n",
       "  'underscore',\n",
       "\n",
       "  // ipython API\n",
       "  'widgets/js/widget',\n",
       "\n",
       "  // local imports\n",
       "  './utils',\n",
       "  './d3.min',\n",
       "  './sankey',\n",
       "*/\n",
       "      "
      ],
      "text/plain": [
       "<IPython.core.display.Javascript object>"
      ]
     },
     "metadata": {},
     "output_type": "display_data"
    }
   ],
   "source": [
    "%%javascript\n",
    "require.config({\n",
    "  paths: {\n",
    "      d3: '/custom/d3sankey/js/d3',\n",
    "      jquery: '/custom/d3sankey/js/jquery',\n",
    "      underscore: '/custom/d3sankey/js/underscore',\n",
    "      sankey: '/custom/d3sankey/js/sankey',\n",
    "      d3_chart: '/custom/d3sankey/js/d3.chart',\n",
    "      d3_chart_sankey: '/custom/d3sankey/js/d3.chart.sankey',\n",
    "  },\n",
    "  shim: {\n",
    "    'sankey': { deps:  ['d3']},\n",
    "    'd3_chart': { deps:  ['d3']},\n",
    "    'd3_chart_sankey': { deps:  ['d3_chart']}\n",
    "  },\n",
    "});\n",
    "\n",
    "/* //cdnjs.cloudflare.com/ajax/libs/d3/3.4.8/d3.min\n",
    "  'jquery',\n",
    "  'underscore',\n",
    "\n",
    "  // ipython API\n",
    "  'widgets/js/widget',\n",
    "\n",
    "  // local imports\n",
    "  './utils',\n",
    "  './d3.min',\n",
    "  './sankey',\n",
    "*/\n",
    "      "
   ]
  },
  {
   "cell_type": "code",
   "execution_count": 151,
   "metadata": {
    "collapsed": true,
    "urth": {
     "dashboard": {
      "hidden": true,
      "layout": {}
     }
    }
   },
   "outputs": [],
   "source": [
    "def jouney_covered_check(nodelist, journey):\n",
    "    jnodes = journey.split(',')\n",
    "    for anode in jnodes:\n",
    "        if not anode in nodelist:\n",
    "            return False\n",
    "    return True\n",
    "# jouney_covered_check({\"store_visit:0\":\"y\",\"store_visit:1\":\"y\",\"store_visit:2\":\"y\",\"buy:99\":\"y\"}.keys(), 'web_call:0,app:1,web_chat:2,no_buy:99') \n",
    "def collect_customer_from_journey(selected_journey_df):\n",
    "    selected_id = []\n",
    "    for index, row in selected_journey_df.iterrows(): \n",
    "        selected_id.extend(str(row['visitor_list']).split(','))\n",
    "    return list(set(selected_id))"
   ]
  },
  {
   "cell_type": "code",
   "execution_count": 152,
   "metadata": {
    "collapsed": false,
    "urth": {
     "dashboard": {
      "hidden": true,
      "layout": {}
     }
    }
   },
   "outputs": [
    {
     "data": {
      "application/javascript": [
       "// widget_d3sankey.js @ /home/duan/anaconda3/lib/python3.5/site-packages/ipythond3sankey/static/ipythond3sankey/js\n",
       "requirejs.undef('d3sankeyview');\n",
       "//var global_json_data = {'test':'testduan'}\n",
       "var rect_selected = {}\n",
       "var rect_color = {}\n",
       "\n",
       "define('d3sankeyview', [\"jupyter-js-widgets\"], function(widgets) {\n",
       "  var D3SankeyView = widgets.DOMWidgetView.extend({\n",
       "    // namespace your CSS so that you don't break other people's stuff\n",
       "    className: 'D3SankeyView',\n",
       "\n",
       "    //loadCss: utils.loadCss,\n",
       "\n",
       "    // Initialize DOM, etc. called once per view creation,\n",
       "    // i.e. `display(widget)`\n",
       "    render: function() {\n",
       "\n",
       "      // add a stylesheet, if defined in `_view_style`\n",
       "      //this.loadCss();\n",
       "        var thatthis = this;\n",
       "\n",
       "        this.value_changed();\n",
       "        this.model.on('change:node_link_json', this.value_changed, this);        \n",
       "\n",
       "        return thatthis;\n",
       " \n",
       "    }, // /render\n",
       "\n",
       "    // Do things that are updated every time `this.model` is changed...\n",
       "    // from the backend to the front end.\n",
       "    value_changed: function() {\n",
       "\n",
       "      console.log('update function called');\n",
       "      var thatthis = this;\n",
       "\n",
       "      var graph = JSON.parse(this.model.get('node_link_json'));\n",
       "      console.log('started drawing for json: ' );\n",
       "      console.log( graph );\n",
       "\n",
       "      require(['d3','jquery', 'underscore', 'sankey','d3_chart','d3_chart_sankey'], \n",
       "              function(d3,$,_, sankey,d3_chart, d3_chart_sankey) {\n",
       "\n",
       "      \n",
       "      \t　console.log('started margin_top 2.' + thatthis.model.get('margin_top'));\n",
       "\t\t  // console.log('started margin_top 3.' + this.model.get('margin_top'));\n",
       "\t\t  // setup\n",
       "\t\t  // XXX margins, width and height not updated\n",
       "\t\t  var margin = {top:    thatthis.model.get('margin_top'),\n",
       "\t\t\t\t\t\tright:  thatthis.model.get('margin_right'),\n",
       "\t\t\t\t\t\tbottom: thatthis.model.get('margin_bottom'),\n",
       "\t\t\t\t\t\tleft:   thatthis.model.get('margin_left')},\n",
       "\t\t\t  width = thatthis.model.get('width') - margin.left - margin.right,\n",
       "\t\t\t  height = thatthis.model.get('height') - margin.top - margin.bottom;\n",
       "\n",
       "\t\t  thatthis.width = width;\n",
       "\t\t  thatthis.height = height;\n",
       "\n",
       "\t\t  var formatNumber = d3.format(\",.0f\"),\n",
       "\t\t\t  unit = thatthis.model.get('unit');\n",
       "\n",
       "\t\t  var format = function(d) { return formatNumber(d) + \" \" + unit; };\n",
       "\t\t  var color = d3.scale.category20();\n",
       "\t\t  d3.select(\"svg\").remove();\n",
       "\n",
       "\t\t  var svg = d3.select(thatthis.$el[0]).append(\"svg\")\n",
       "\t\t\t  .attr(\"width\", width + margin.left + margin.right)\n",
       "\t\t\t  .attr(\"height\", height + margin.top + margin.bottom)\n",
       "\t\t\t  .append(\"g\")\n",
       "\t\t\t  .attr(\"transform\",\n",
       "\t\t\t\t\t\"translate(\" + margin.left + \",\" + margin.top + \")\");\n",
       "\t\t// Set the sankey diagram properties\n",
       "\t\tvar sankey = d3.sankey()\n",
       "\t\t\t.nodeWidth(36)\n",
       "\t\t\t.nodePadding(40)\n",
       "\t\t\t.size([width, height]);\n",
       "\n",
       "\t\tvar path = sankey.link();\n",
       "\t\t//set up graph in same style as original example but empty\n",
       "\t\tconsole.log(JSON.stringify(graph));\n",
       "\n",
       "\t\t  sankey\n",
       "\t\t\t.nodes(graph.nodes)\n",
       "\t\t\t.links(graph.links)\n",
       "\t\t\t.layout(32);\n",
       "\t\tconsole.log( 'add in the links' );\n",
       "\n",
       "\t\t// add in the links\n",
       "\t\tvar link = svg.append(\"g\").selectAll(\".link\")\n",
       "\t\t\t  .data(graph.links)\n",
       "\t\t\t.enter().append(\"path\")\n",
       "\t\t\t  .attr(\"class\", \"link\")\n",
       "\t\t\t  .attr(\"d\", path)\n",
       "\t\t\t  .style(\"stroke-width\", function(d) { return Math.max(1, d.dy); })\n",
       "\t\t\t  .sort(function(a, b) { return b.dy - a.dy; });\n",
       "\n",
       "\t\t// add the link titles\n",
       "\t\tlink.append(\"title\")\n",
       "\t\t\t\t.text(function(d) {\n",
       "\t\t\t\t\treturn d.source.name + \" → \" + \n",
       "\t\t\t\t\t\td.target.name + \"\\n\" + format(d.value); });\n",
       "\t\tconsole.log( 'add in the nodes' );\n",
       "\n",
       "\n",
       "\t\t// add in the nodes\n",
       "\t\tvar node = svg.append(\"g\").selectAll(\".node\")\n",
       "\t\t\t  .data(graph.nodes)\n",
       "\t\t\t.enter().append(\"g\")\n",
       "\t\t\t  .attr(\"class\", \"node\")\n",
       "\t\t\t  .attr(\"transform\", function(d) { \n",
       "\t\t\t\t  return \"translate(\" + d.x + \",\" + d.y + \")\"; })\n",
       "\t\t\t.call(d3.behavior.drag()\n",
       "\t\t\t  .origin(function(d) { return d; })\n",
       "\t\t\t  .on(\"dragstart\", function() { \n",
       "\t\t\t\t  this.parentNode.appendChild(this); })\n",
       "\t\t\t  .on(\"drag\", dragmove));\n",
       "\n",
       "\t\t// add the rectangles for the nodes\n",
       "\t\tnode.append(\"rect\")\n",
       "\t\t\t  .attr(\"height\", function(d) { return d.dy; })\n",
       "\t\t\t  .attr(\"width\", sankey.nodeWidth())\n",
       "\t\t\t  .style(\"fill\", function(d) { \n",
       "\t\t\t\t  return d.color = color(d.name.replace(/ .*/, \"\")); })\n",
       "\t\t\t  .style(\"stroke\", function(d) { \n",
       "\t\t\t\t  return d3.rgb(d.color).darker(2); })\n",
       "\t\t\t.append(\"title\")\n",
       "\t\t\t  .text(function(d) { \n",
       "\t\t\t\t  return d.name + \"\\n\" + format(d.value); });\n",
       "\n",
       "\t\t// add in the title for the nodes\n",
       "\t\tnode.append(\"text\")\n",
       "\t\t\t  .attr(\"x\", -6)\n",
       "\t\t\t  .attr(\"y\", function(d) { return d.dy / 2; })\n",
       "\t\t\t  .attr(\"dy\", \".35em\")\n",
       "\t\t\t  .attr(\"text-anchor\", \"end\")\n",
       "\t\t\t  .attr(\"transform\", null)\n",
       "\t\t\t  .text(function(d) { return d.name; })\n",
       "\t\t\t.filter(function(d) { return d.x < width / 2; })\n",
       "\t\t\t  .attr(\"x\", 6 + sankey.nodeWidth())\n",
       "\t\t\t  .attr(\"text-anchor\", \"start\");\n",
       "\n",
       "\t\t// the function for moving the nodes\n",
       "\t\tfunction dragmove(d) {\n",
       "\t\t\td3.select(this).attr(\"transform\", \n",
       "\t\t\t\t\"translate(\" + d.x + \",\" + (\n",
       "\t\t\t\t\t\td.y = Math.max(0, Math.min(height - d.dy, d3.event.y))\n",
       "\t\t\t\t\t) + \")\");\n",
       "\t\t\tsankey.relayout();\n",
       "\t\t\tlink.attr(\"d\", path);\n",
       "\t\t  }\n",
       "\n",
       "\t\td3.selectAll(\"rect\")\n",
       "\t\t.on(\"click\",function(d,i){\n",
       "\t\t\t\t// alert(\"clicked!\"+d.value+\":\"+ d.name);\n",
       "\t\t\t\tconsole.log(\"clicked!\"+d.value+\":\"+ d.name);\n",
       "\t\t\t\tconsole.log('current fill core is: ');\n",
       "\t\t\t\tconsole.log(d3.select(this).style('fill'));\n",
       "\t\t\t\tif (rect_selected[d.name]  === undefined) {\n",
       "\t\t\t\t\tconsole.log('first time click');\n",
       "\t\t\t\t\trect_selected[d.name] ='y';\n",
       "\t\t\t\t\trect_color[d.name] = d3.select(this).style('fill');\n",
       "\t\t\t\t\td3.select(this).style('fill','red');\n",
       "\t\t\t\t} else if (rect_selected[d.name]  == 'y') { \n",
       "\t\t\t\t\tconsole.log('revert back to original color');\n",
       "\t\t\t\t\trect_selected[d.name] ='n';\n",
       "\t\t\t\t\td3.select(this).style('fill',rect_color[d.name]);\n",
       "\t\t\t\t} else{\n",
       "\t\t\t\t\tconsole.log('not first time click, but selected');\n",
       "\t\t\t\t\trect_selected[d.name] ='y';\n",
       "\t\t\t\t\trect_color[d.name] = d3.select(this).style('fill');\n",
       "\t\t\t\t\td3.select(this).style('fill','red');\n",
       "\t\t\t\t}\n",
       "\t\t\t\tconsole.log(JSON.stringify(rect_selected));\n",
       "\t\t\t\tconsole.log( (rect_selected));\n",
       "\n",
       "\t\t\t\tconsole.log('current selected_json is: ');\n",
       "\t\t\t\tconsole.log( thatthis.model.get('selected_json'));\n",
       "\t\t\t\tthatthis.model.set('selected_json',JSON.stringify(rect_selected));\n",
       "\n",
       "\t\t\t\tthatthis.touch();\n",
       "\t\t\t\tconsole.log( thatthis.model.get('selected_json'));\n",
       "\n",
       "\n",
       "\t\t});  \n",
       "\t\t//console.log('setup trigger is done 3');\n",
       "\t\t//console.log(d3.selectAll('rect'));\n",
       "\t});\n",
       "      \n",
       "    }, // /update\n",
       "\n",
       "\n",
       "    // Tell Backbone to listen to events (none for now)\n",
       "    events: {\n",
       "    },\n",
       "\n",
       "  }); // /extend\n",
       "\n",
       "  // The requirej6s namespace.\n",
       "  return {\n",
       "    D3SankeyView: D3SankeyView\n",
       "  };\n",
       "});\n",
       "\n",
       "console.log('Sankey JS loaded')"
      ],
      "text/plain": [
       "<IPython.core.display.Javascript object>"
      ]
     },
     "metadata": {},
     "output_type": "display_data"
    }
   ],
   "source": [
    "%%javascript\n",
    "// widget_d3sankey.js @ /home/duan/anaconda3/lib/python3.5/site-packages/ipythond3sankey/static/ipythond3sankey/js\n",
    "requirejs.undef('d3sankeyview');\n",
    "//var global_json_data = {'test':'testduan'}\n",
    "var rect_selected = {}\n",
    "var rect_color = {}\n",
    "\n",
    "define('d3sankeyview', [\"jupyter-js-widgets\"], function(widgets) {\n",
    "  var D3SankeyView = widgets.DOMWidgetView.extend({\n",
    "    // namespace your CSS so that you don't break other people's stuff\n",
    "    className: 'D3SankeyView',\n",
    "\n",
    "    //loadCss: utils.loadCss,\n",
    "\n",
    "    // Initialize DOM, etc. called once per view creation,\n",
    "    // i.e. `display(widget)`\n",
    "    render: function() {\n",
    "\n",
    "      // add a stylesheet, if defined in `_view_style`\n",
    "      //this.loadCss();\n",
    "        var thatthis = this;\n",
    "\n",
    "        this.value_changed();\n",
    "        this.model.on('change:node_link_json', this.value_changed, this);        \n",
    "\n",
    "        return thatthis;\n",
    " \n",
    "    }, // /render\n",
    "\n",
    "    // Do things that are updated every time `this.model` is changed...\n",
    "    // from the backend to the front end.\n",
    "    value_changed: function() {\n",
    "\n",
    "      console.log('update function called');\n",
    "      var thatthis = this;\n",
    "\n",
    "      var graph = JSON.parse(this.model.get('node_link_json'));\n",
    "      console.log('started drawing for json: ' );\n",
    "      console.log( graph );\n",
    "\n",
    "      require(['d3','jquery', 'underscore', 'sankey','d3_chart','d3_chart_sankey'], \n",
    "              function(d3,$,_, sankey,d3_chart, d3_chart_sankey) {\n",
    "\n",
    "      \n",
    "      \t　console.log('started margin_top 2.' + thatthis.model.get('margin_top'));\n",
    "\t\t  // console.log('started margin_top 3.' + this.model.get('margin_top'));\n",
    "\t\t  // setup\n",
    "\t\t  // XXX margins, width and height not updated\n",
    "\t\t  var margin = {top:    thatthis.model.get('margin_top'),\n",
    "\t\t\t\t\t\tright:  thatthis.model.get('margin_right'),\n",
    "\t\t\t\t\t\tbottom: thatthis.model.get('margin_bottom'),\n",
    "\t\t\t\t\t\tleft:   thatthis.model.get('margin_left')},\n",
    "\t\t\t  width = thatthis.model.get('width') - margin.left - margin.right,\n",
    "\t\t\t  height = thatthis.model.get('height') - margin.top - margin.bottom;\n",
    "\n",
    "\t\t  thatthis.width = width;\n",
    "\t\t  thatthis.height = height;\n",
    "\n",
    "\t\t  var formatNumber = d3.format(\",.0f\"),\n",
    "\t\t\t  unit = thatthis.model.get('unit');\n",
    "\n",
    "\t\t  var format = function(d) { return formatNumber(d) + \" \" + unit; };\n",
    "\t\t  var color = d3.scale.category20();\n",
    "\t\t  d3.select(\"svg\").remove();\n",
    "\n",
    "\t\t  var svg = d3.select(thatthis.$el[0]).append(\"svg\")\n",
    "\t\t\t  .attr(\"width\", width + margin.left + margin.right)\n",
    "\t\t\t  .attr(\"height\", height + margin.top + margin.bottom)\n",
    "\t\t\t  .append(\"g\")\n",
    "\t\t\t  .attr(\"transform\",\n",
    "\t\t\t\t\t\"translate(\" + margin.left + \",\" + margin.top + \")\");\n",
    "\t\t// Set the sankey diagram properties\n",
    "\t\tvar sankey = d3.sankey()\n",
    "\t\t\t.nodeWidth(36)\n",
    "\t\t\t.nodePadding(40)\n",
    "\t\t\t.size([width, height]);\n",
    "\n",
    "\t\tvar path = sankey.link();\n",
    "\t\t//set up graph in same style as original example but empty\n",
    "\t\tconsole.log(JSON.stringify(graph));\n",
    "\n",
    "\t\t  sankey\n",
    "\t\t\t.nodes(graph.nodes)\n",
    "\t\t\t.links(graph.links)\n",
    "\t\t\t.layout(32);\n",
    "\t\tconsole.log( 'add in the links' );\n",
    "\n",
    "\t\t// add in the links\n",
    "\t\tvar link = svg.append(\"g\").selectAll(\".link\")\n",
    "\t\t\t  .data(graph.links)\n",
    "\t\t\t.enter().append(\"path\")\n",
    "\t\t\t  .attr(\"class\", \"link\")\n",
    "\t\t\t  .attr(\"d\", path)\n",
    "\t\t\t  .style(\"stroke-width\", function(d) { return Math.max(1, d.dy); })\n",
    "\t\t\t  .sort(function(a, b) { return b.dy - a.dy; });\n",
    "\n",
    "\t\t// add the link titles\n",
    "\t\tlink.append(\"title\")\n",
    "\t\t\t\t.text(function(d) {\n",
    "\t\t\t\t\treturn d.source.name + \" → \" + \n",
    "\t\t\t\t\t\td.target.name + \"\\n\" + format(d.value); });\n",
    "\t\tconsole.log( 'add in the nodes' );\n",
    "\n",
    "\n",
    "\t\t// add in the nodes\n",
    "\t\tvar node = svg.append(\"g\").selectAll(\".node\")\n",
    "\t\t\t  .data(graph.nodes)\n",
    "\t\t\t.enter().append(\"g\")\n",
    "\t\t\t  .attr(\"class\", \"node\")\n",
    "\t\t\t  .attr(\"transform\", function(d) { \n",
    "\t\t\t\t  return \"translate(\" + d.x + \",\" + d.y + \")\"; })\n",
    "\t\t\t.call(d3.behavior.drag()\n",
    "\t\t\t  .origin(function(d) { return d; })\n",
    "\t\t\t  .on(\"dragstart\", function() { \n",
    "\t\t\t\t  this.parentNode.appendChild(this); })\n",
    "\t\t\t  .on(\"drag\", dragmove));\n",
    "\n",
    "\t\t// add the rectangles for the nodes\n",
    "\t\tnode.append(\"rect\")\n",
    "\t\t\t  .attr(\"height\", function(d) { return d.dy; })\n",
    "\t\t\t  .attr(\"width\", sankey.nodeWidth())\n",
    "\t\t\t  .style(\"fill\", function(d) { \n",
    "\t\t\t\t  return d.color = color(d.name.replace(/ .*/, \"\")); })\n",
    "\t\t\t  .style(\"stroke\", function(d) { \n",
    "\t\t\t\t  return d3.rgb(d.color).darker(2); })\n",
    "\t\t\t.append(\"title\")\n",
    "\t\t\t  .text(function(d) { \n",
    "\t\t\t\t  return d.name + \"\\n\" + format(d.value); });\n",
    "\n",
    "\t\t// add in the title for the nodes\n",
    "\t\tnode.append(\"text\")\n",
    "\t\t\t  .attr(\"x\", -6)\n",
    "\t\t\t  .attr(\"y\", function(d) { return d.dy / 2; })\n",
    "\t\t\t  .attr(\"dy\", \".35em\")\n",
    "\t\t\t  .attr(\"text-anchor\", \"end\")\n",
    "\t\t\t  .attr(\"transform\", null)\n",
    "\t\t\t  .text(function(d) { return d.name; })\n",
    "\t\t\t.filter(function(d) { return d.x < width / 2; })\n",
    "\t\t\t  .attr(\"x\", 6 + sankey.nodeWidth())\n",
    "\t\t\t  .attr(\"text-anchor\", \"start\");\n",
    "\n",
    "\t\t// the function for moving the nodes\n",
    "\t\tfunction dragmove(d) {\n",
    "\t\t\td3.select(this).attr(\"transform\", \n",
    "\t\t\t\t\"translate(\" + d.x + \",\" + (\n",
    "\t\t\t\t\t\td.y = Math.max(0, Math.min(height - d.dy, d3.event.y))\n",
    "\t\t\t\t\t) + \")\");\n",
    "\t\t\tsankey.relayout();\n",
    "\t\t\tlink.attr(\"d\", path);\n",
    "\t\t  }\n",
    "\n",
    "\t\td3.selectAll(\"rect\")\n",
    "\t\t.on(\"click\",function(d,i){\n",
    "\t\t\t\t// alert(\"clicked!\"+d.value+\":\"+ d.name);\n",
    "\t\t\t\tconsole.log(\"clicked!\"+d.value+\":\"+ d.name);\n",
    "\t\t\t\tconsole.log('current fill core is: ');\n",
    "\t\t\t\tconsole.log(d3.select(this).style('fill'));\n",
    "\t\t\t\tif (rect_selected[d.name]  === undefined) {\n",
    "\t\t\t\t\tconsole.log('first time click');\n",
    "\t\t\t\t\trect_selected[d.name] ='y';\n",
    "\t\t\t\t\trect_color[d.name] = d3.select(this).style('fill');\n",
    "\t\t\t\t\td3.select(this).style('fill','red');\n",
    "\t\t\t\t} else if (rect_selected[d.name]  == 'y') { \n",
    "\t\t\t\t\tconsole.log('revert back to original color');\n",
    "\t\t\t\t\trect_selected[d.name] ='n';\n",
    "\t\t\t\t\td3.select(this).style('fill',rect_color[d.name]);\n",
    "\t\t\t\t} else{\n",
    "\t\t\t\t\tconsole.log('not first time click, but selected');\n",
    "\t\t\t\t\trect_selected[d.name] ='y';\n",
    "\t\t\t\t\trect_color[d.name] = d3.select(this).style('fill');\n",
    "\t\t\t\t\td3.select(this).style('fill','red');\n",
    "\t\t\t\t}\n",
    "\t\t\t\tconsole.log(JSON.stringify(rect_selected));\n",
    "\t\t\t\tconsole.log( (rect_selected));\n",
    "\n",
    "\t\t\t\tconsole.log('current selected_json is: ');\n",
    "\t\t\t\tconsole.log( thatthis.model.get('selected_json'));\n",
    "\t\t\t\tthatthis.model.set('selected_json',JSON.stringify(rect_selected));\n",
    "\n",
    "\t\t\t\tthatthis.touch();\n",
    "\t\t\t\tconsole.log( thatthis.model.get('selected_json'));\n",
    "\n",
    "\n",
    "\t\t});  // end of setup trigger\n",
    "\t\t//console.log('setup trigger is done 3');\n",
    "\t\t//console.log(d3.selectAll('rect'));\n",
    "\t});// end of requirejs\n",
    "      \n",
    "    }, // /update\n",
    "\n",
    "\n",
    "    // Tell Backbone to listen to events (none for now)\n",
    "    events: {\n",
    "    },\n",
    "\n",
    "  }); // /extend\n",
    "\n",
    "  // The requirej6s namespace.\n",
    "  return {\n",
    "    D3SankeyView: D3SankeyView\n",
    "  };\n",
    "});\n",
    "\n",
    "console.log('Sankey JS loaded')"
   ]
  },
  {
   "cell_type": "code",
   "execution_count": null,
   "metadata": {
    "collapsed": true,
    "urth": {
     "dashboard": {
      "hidden": true,
      "layout": {}
     }
    }
   },
   "outputs": [],
   "source": []
  },
  {
   "cell_type": "code",
   "execution_count": 153,
   "metadata": {
    "collapsed": false,
    "urth": {
     "dashboard": {
      "layout": {
       "col": 4,
       "height": 11,
       "row": 0,
       "width": null
      }
     }
    }
   },
   "outputs": [],
   "source": [
    "\n",
    "'''\n",
    "with open('/home/duan/github/customer_segmentation/data/sankey/sankey.json', 'r') as afile:\n",
    "    pydata = json.load(afile)\n",
    "json_string = json.dumps(pydata) #pydata\n",
    "'''\n",
    "json_string = selected_cust_sankey_json(lines_nonempty, None)\n",
    "\n",
    "sankey_journey_widget = D3SankeyWidget(\n",
    "    node_link_json = json_string,\n",
    "    height = 300,\n",
    "    width = 760\n",
    ")\n",
    "sankey_journey_widget"
   ]
  },
  {
   "cell_type": "code",
   "execution_count": 159,
   "metadata": {
    "collapsed": false,
    "urth": {
     "dashboard": {
      "hidden": true,
      "layout": {}
     }
    }
   },
   "outputs": [],
   "source": [
    "global_selected_cust_df = cust_df[cust_df['gender'] == 'F'][['cust_id']] \n",
    "new_json_string = selected_cust_sankey_json(lines_nonempty, global_selected_cust_df)\n",
    "\n",
    "sankey_journey_widget.node_link_json = new_json_string\n"
   ]
  },
  {
   "cell_type": "code",
   "execution_count": 155,
   "metadata": {
    "collapsed": false,
    "urth": {
     "dashboard": {
      "layout": {
       "col": 0,
       "height": 4,
       "row": 0,
       "width": 4
      }
     }
    }
   },
   "outputs": [
    {
     "data": {
      "image/png": "[encoded data removed]",
      "text/plain": [
       "<matplotlib.figure.Figure at 0x7f9deba080f0>"
      ]
     },
     "metadata": {},
     "output_type": "display_data"
    }
   ],
   "source": [
    "# Buttons: Reset, Select\n",
    "\n",
    "button = widgets.Button(description=\"Update\")\n",
    "button.button_style = 'info'\n",
    "button.margin = 5\n",
    "button.height = 3\n",
    "\n",
    "display.display(button)\n",
    "\n",
    "\n",
    "\n",
    "def on_button_clicked(b):\n",
    "    global global_selected_cust_df\n",
    "    # print(d3sankeyExample.selected_json)\n",
    "    if len(sankey_journey_widget.selected_json) < 5 :\n",
    "        print('please select at least one node.')\n",
    "        return\n",
    "    ss_json = json.loads(sankey_journey_widget.selected_json)\n",
    "    new_ss = {k: v for k, v in ss_json.items() if v == \"y\"}\n",
    "    selected_journey=new_ss.keys()\n",
    "    selected_journey_df=cust_journey_df[cust_journey_df.apply(lambda x: jouney_covered_check(selected_journey,x['journey']) , axis=1)]\n",
    "    collecteddf = {'cust_id':  collect_customer_from_journey(selected_journey_df)}\n",
    "    df_new = pd.DataFrame(collecteddf, columns = ['cust_id' ])\n",
    "    global_selected_cust_df = df_new\n",
    "    df_new = df_new.apply(pd.to_numeric, errors='ignore').sort_values(by='cust_id')\n",
    "    collected_df = pd.merge(df_new, cust_df, how='inner', left_on='cust_id', right_on='cust_id')\n",
    "    \n",
    "    \n",
    "    display.clear_output(wait=True)\n",
    "    fig, axs = plt.subplots(2,1,figsize=(3,4))\n",
    "    collected_df['sentiment'].hist(ax=axs[0])\n",
    "    collected_df['Day Mins'].hist(ax=axs[1])\n",
    "\n",
    "    axs[0].set_title('Post Journey Sentiment')\n",
    "    axs[1].set_title('Account Tenure (Months)')\n",
    "    \n",
    "\n",
    "\n",
    "\n",
    "button.on_click(on_button_clicked)"
   ]
  },
  {
   "cell_type": "code",
   "execution_count": 156,
   "metadata": {
    "collapsed": false,
    "urth": {
     "dashboard": {
      "hidden": true,
      "layout": {}
     }
    }
   },
   "outputs": [],
   "source": [
    "# global_selected_cust_df"
   ]
  },
  {
   "cell_type": "code",
   "execution_count": 157,
   "metadata": {
    "collapsed": true,
    "urth": {
     "dashboard": {
      "layout": {
       "col": 0,
       "height": 4,
       "row": 11,
       "width": 10
      }
     }
    }
   },
   "outputs": [],
   "source": [
    "grade_top_row = widgets.HBox()\n",
    "\n",
    "hid_txt = widgets.HTML(\"Segment Name:\")\n",
    "hid_txt.font = 'helvetica'\n",
    "hid_txt.font_size = 30\n",
    "hid_txt.margin = 5\n",
    "algo_id_field = widgets.Text()\n",
    "algo_id_field.height = 35\n",
    "algo_id_field.value='Segment_1'\n",
    "\n",
    "grade_txt = widgets.HTML(\"Segment Type:\")\n",
    "grade_select = widgets.Dropdown(options=[\"Marketing\", \"Promotion\", \"Retension\"])\n",
    "\n",
    "\n",
    "\n",
    "grade_btn = widgets.Button(description=\"Create\")\n",
    "grade_btn.margin = 5\n",
    "grade_btn.button_style = 'info'\n",
    "\n",
    "\n",
    "grade_top_row.children = (hid_txt, algo_id_field, grade_txt, grade_select, grade_btn)\n",
    "grade_top_row.align = 'center'\n",
    "\n",
    "comment_field = widgets.Textarea(value='')\n",
    "comment_field.margin = 5\n",
    "comment_field.width = 378\n",
    "comment_field.cols = 55\n",
    "\n",
    "grade_form = widgets.VBox()\n",
    "grade_form.children = (grade_top_row, comment_field )\n",
    "\n",
    "\n",
    "def on_create_button_clicked(b):\n",
    "    # print(d3sankeyExample.selected_json)\n",
    "    if len(d3sankeyExample.selected_json) < 5 :\n",
    "        print('please select at least one node.')\n",
    "        return\n",
    "    new_seg = {'Seg_name': algo_id_field.value,\n",
    "               'Seg_type': grade_select.value,\n",
    "               'cust_ids': ','.join(global_selected_cust_df['cust_id'].tolist())\n",
    "              }\n",
    "    display.clear_output(wait=True)\n",
    "    # print(json.dumps(new_seg))\n",
    "    # print('<script> alert(\\'' + json.dumps(new_seg) + '\\'); </script>')\n",
    "    # HTML('<script> alert(\\'' + json.dumps(new_seg) + '\\'); </script>')\n",
    "    comment_field.value = json.dumps(new_seg)\n",
    "    \n",
    "\n",
    "\n",
    "\n",
    "grade_btn.on_click(on_create_button_clicked)\n",
    "\n",
    "\n",
    "display.display(grade_top_row)"
   ]
  },
  {
   "cell_type": "code",
   "execution_count": 158,
   "metadata": {
    "collapsed": true,
    "urth": {
     "dashboard": {
      "layout": {
       "col": 0,
       "height": 5,
       "row": 15,
       "width": 4
      }
     }
    }
   },
   "outputs": [],
   "source": [
    "display.display(comment_field)"
   ]
  }
 ],
 "metadata": {
  "kernelspec": {
   "display_name": "Python 3",
   "language": "python",
   "name": "python3"
  },
  "language_info": {
   "codemirror_mode": {
    "name": "ipython",
    "version": 3
   },
   "file_extension": ".py",
   "mimetype": "text/x-python",
   "name": "python",
   "nbconvert_exporter": "python",
   "pygments_lexer": "ipython3",
   "version": "3.5.1"
  },
  "urth": {
   "dashboard": {
    "cellMargin": 10,
    "defaultCellHeight": 20,
    "layout": "grid",
    "maxColumns": 12
   }
  },
  "widgets": {
   "state": {
    "002a85d42fa643958b92307ec575ed37": {
     "views": []
    },
    "00696dfc1da34b698470519f4d453a66": {
     "views": []
    },
    "00c6ee011d8f4802baac0892f24f6871": {
     "views": []
    },
    "082cc8e28be9410cad1734d4bdd18b44": {
     "views": []
    },
    "0b6c4647a0b34dbca1205dbb1ef69513": {
     "views": []
    },
    "0ee7052fc2614f398b06c73b7d5507a4": {
     "views": []
    },
    "0f53938c9f03403fb359a98a41511acc": {
     "views": []
    },
    "11c8eff3a1874c51b0ca70a55666a9b6": {
     "views": []
    },
    "11fb243ca62740d3a6839165b053498d": {
     "views": []
    },
    "173b5cb96cb94d859a7bf3bbf05b8078": {
     "views": []
    },
    "1949c3c9a95e4f258da642ce618a2c7d": {
     "views": []
    },
    "1bb3458b68cb47a9b9290f1b1ac295dc": {
     "views": []
    },
    "1c30660557ff450e8a2c3c89342f15a6": {
     "views": []
    },
    "1da71c15360e48e3a048db0951bcf621": {
     "views": []
    },
    "25143c63bda34d31a029bd38050d9564": {
     "views": []
    },
    "27d7ef4021904235a5a010122936b6d3": {
     "views": []
    },
    "2873c0fd28a84347811464eb0f16a5f0": {
     "views": []
    },
    "2a1940e557b34b21b87f3d991fe7a4a4": {
     "views": []
    },
    "34000317598e442ab13b35c99f2a8b69": {
     "views": []
    },
    "3536b157976440e88faa85b563b180ae": {
     "views": []
    },
    "3ca265481f7d4c79b9cd9327510b6221": {
     "views": []
    },
    "4d52248ef9184799930dc8b2c7d81bb2": {
     "views": []
    },
    "4f9e4bad5a35459583df256cafa2ed79": {
     "views": []
    },
    "503b169cf6654614a41c8edaa712db3c": {
     "views": []
    },
    "524801d45a9f4138812182c2f9673a3e": {
     "views": []
    },
    "5a7930df9f094dbda5205a8f98b7fdd9": {
     "views": []
    },
    "5c86a70a53f44a30b0ae3ae7ae3a05d4": {
     "views": []
    },
    "5f0625f7e2894fe498f8496c787f31ef": {
     "views": []
    },
    "620844e17aac4753877a22fd5fd25209": {
     "views": []
    },
    "6305cc4dfbf44fa5aa540f00e79fe1ee": {
     "views": []
    },
    "65fedb299bcf46c3b4c44ff418b842bf": {
     "views": []
    },
    "68c2b3739ef848b180a5efd8aaeeb430": {
     "views": [
      {
       "cell_index": 20
      }
     ]
    },
    "6b12352eb4434c38a688dc8a29b993e8": {
     "views": []
    },
    "6dc4558c8d0a480090ed7498b5649010": {
     "views": [
      {
       "cell_index": 25
      }
     ]
    },
    "7f8dbb98b552415ba16d611c50964d89": {
     "views": []
    },
    "801f80358f9e4a34a65e714dbbd7cd28": {
     "views": []
    },
    "8357908f54624f95b07f6a0b37ea0325": {
     "views": []
    },
    "873002a6b71b449aab7ae00cb401d039": {
     "views": []
    },
    "8b60ca7025044d11b1887ecf9bef49f1": {
     "views": []
    },
    "8c6848a108e247c9af63b12011468f61": {
     "views": []
    },
    "91dc1eb4a8244b89a1fe64a4c4c6be4a": {
     "views": []
    },
    "921abe50ac684082a4eaa3b8fde4118f": {
     "views": []
    },
    "9666810d37b64990b1034ae06dd387a7": {
     "views": []
    },
    "9703cf92cbbc4d9c9f15be315acd4d12": {
     "views": []
    },
    "aca1f7a83725453ea7ef7eb591182875": {
     "views": []
    },
    "b07345f456114bcaa9005b902fac23a5": {
     "views": []
    },
    "b117211f3ab445a6a0e462edee5ad555": {
     "views": [
      {
       "cell_index": 22
      }
     ]
    },
    "b121d7ec1333434a9fc402b46f09a3ab": {
     "views": []
    },
    "b1a81e4184ab404a8fb388bd9b38662e": {
     "views": []
    },
    "b3e746f63b1545a1acd471565273847a": {
     "views": []
    },
    "b6b0fc8d2f2d49fb8d6f502d50ae1a93": {
     "views": []
    },
    "be213550ec8443498b6bcf20c7561d7e": {
     "views": []
    },
    "bfbf41023e9f4e3bbe833a7096246204": {
     "views": []
    },
    "c7f321b18ea6451bafd093a54992c009": {
     "views": []
    },
    "cc9c40feacc34e75a1b6f407e9a0b940": {
     "views": []
    },
    "cd5898bf6c654108953243a5668632dd": {
     "views": []
    },
    "cfe1b403c2324ac88279cf3ecf0794e1": {
     "views": []
    },
    "d4e1bb5ff7864e57846f0d7cf5e0ff3d": {
     "views": [
      {
       "cell_index": 24
      }
     ]
    },
    "da338be1f47f47be9bc58a4a1697900f": {
     "views": []
    },
    "e740d47e6b9b4770aae49073acc2b213": {
     "views": []
    },
    "e7c5e6ef58e34fecb9e6afc9d1a019b9": {
     "views": []
    },
    "eed76f84e8fa48bab77b8f1d8f461a58": {
     "views": []
    },
    "efec451ecb0f47e79d4a348983d9b98e": {
     "views": []
    },
    "f08adadff364468bb098b57571a56a35": {
     "views": []
    },
    "f666dad0c3a2428695b010b22f3de195": {
     "views": []
    },
    "fa166d4ac78c43faa164deb712357a01": {
     "views": []
    },
    "fde618e1ada4484191c7f027a1a843bf": {
     "views": []
    },
    "feb01e11ceee4f35a3ccc077ab792958": {
     "views": []
    }
   },
   "version": "1.1.2"
  }
 },
 "nbformat": 4,
 "nbformat_minor": 0
}
