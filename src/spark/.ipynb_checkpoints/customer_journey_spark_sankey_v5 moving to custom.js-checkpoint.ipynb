{
 "cells": [
  {
   "cell_type": "code",
   "execution_count": 1,
   "metadata": {
    "collapsed": true,
    "urth": {
     "dashboard": {
      "hidden": true,
      "layout": {}
     }
    }
   },
   "outputs": [],
   "source": [
    "import pandas as pd\n",
    "import json\n",
    "\n",
    "import matplotlib.pyplot as plt\n",
    "import matplotlib\n",
    "matplotlib.style.use('ggplot')\n",
    "%matplotlib inline\n",
    "\n",
    "NUMBER_OF_NODES = 10\n",
    "\n",
    "cust_df = pd.DataFrame.from_csv('/home/duan/github/customer_segmentation/data/cust_profile_df/cust_sentiment_gender_df.csv')\n",
    "\n",
    "lines = sc.textFile('file:///home/duan/github/customer_segmentation/data/journey_log/msnbc.numbered')\n",
    "lines_nonempty = lines.filter( lambda x: len(x) > 0 )"
   ]
  },
  {
   "cell_type": "code",
   "execution_count": 2,
   "metadata": {
    "collapsed": false,
    "urth": {
     "dashboard": {
      "hidden": true,
      "layout": {}
     }
    }
   },
   "outputs": [],
   "source": [
    "channel_dict = {\n",
    "    1:'store_visit',\n",
    "    2:'phone_call',\n",
    "    3:'web_call',\n",
    "    4:'app',\n",
    "    5:'web_chat',\n",
    "    6:'facebook',\n",
    "    7:'twitter',\n",
    "    8:'others',\n",
    "    20:'buy',\n",
    "    21:'not_buy',\n",
    "}\n",
    "\n",
    "# channel_dict"
   ]
  },
  {
   "cell_type": "code",
   "execution_count": 3,
   "metadata": {
    "collapsed": false,
    "urth": {
     "dashboard": {
      "hidden": true,
      "layout": {}
     }
    }
   },
   "outputs": [],
   "source": [
    "# devide customer id and the path and build the key-value as (cust_id, 'path').  \n",
    "# input:= calc_path('1049  : 1 5 6 6 21')\n",
    "# result:=   ('store_visit:0,web_chat:1,facebook:2,facebook:3,not_buy', (1, '1049'))\n",
    "def devide_cust_id_path(z):\n",
    "    aa=z.split(':')\n",
    "    # customer_id = int(aa[0].strip())\n",
    "    return (int(aa[0].strip()),aa[1])\n",
    "\n",
    "#devide_cust_id_path('1049  : 1 5 6 6 21')\n",
    "#output: (1049, ' 1 5 6 6 21')"
   ]
  },
  {
   "cell_type": "code",
   "execution_count": 4,
   "metadata": {
    "collapsed": false,
    "urth": {
     "dashboard": {
      "hidden": true,
      "layout": {}
     }
    }
   },
   "outputs": [],
   "source": [
    "# decode the path and build the key-value as (path, (1, customer_id)). 1 will be used for later summary.\n",
    "def build_path2cust_list(z):\n",
    "    aa=z  #.split(':')\n",
    "    customer_id = str(aa[0])\n",
    "    x=aa[1].split()\n",
    "    y=''\n",
    "    for i in range(len(x)-1):\n",
    "        ch_id = int(x[i]) \n",
    "        y = y + channel_dict[ch_id]+':'+str(i) + \",\" \n",
    "        \n",
    "    y = y + channel_dict[int(x[len(x)-1]) ]\n",
    "    return (y,(1,customer_id))\n",
    "\n",
    "# build_path2cust_list((1049, ' 1 5 6 6 21'))\n",
    "# output: = ('store_visit:0,web_chat:1,facebook:2,facebook:3,not_buy', (1, '1049'))"
   ]
  },
  {
   "cell_type": "code",
   "execution_count": 5,
   "metadata": {
    "collapsed": false,
    "urth": {
     "dashboard": {
      "hidden": true,
      "layout": {}
     }
    }
   },
   "outputs": [],
   "source": [
    "# decode the path and build the key-value as (path, (1, customer_id)). 1 will be used for later summary.\n",
    "def build_path2cust_list_with_sentiment(z):\n",
    "    aa=z  #.split(':')\n",
    "    customer_id = str(aa[0])\n",
    "    x=aa[1][0].split()\n",
    "    y=''\n",
    "    for i in range(len(x)-1):\n",
    "        ch_id = int(x[i]) \n",
    "        y = y + channel_dict[ch_id]+':'+str(i) + \",\" \n",
    "        \n",
    "    y = y + channel_dict[int(x[len(x)-1]) ]\n",
    "    return (y,(1,customer_id))\n",
    "\n",
    "# build_path2cust_list_with_sentiment((520, (' 2 2 2 2 21 ', 3.0)))\n",
    "# output: = ('phone_call:0,phone_call:1,phone_call:2,phone_call:3,not_buy', (1, '520'))"
   ]
  },
  {
   "cell_type": "code",
   "execution_count": 6,
   "metadata": {
    "collapsed": true,
    "urth": {
     "dashboard": {
      "hidden": true,
      "layout": {}
     }
    }
   },
   "outputs": [],
   "source": [
    "# reduce the value of (1, customer_id) into (summary of int, list of customer)\n",
    "def reduce_jouney_count_concat(x,y): \n",
    "    return (x[0]+y[0],'{},{}'.format(x[1],y[1])) #,'testing'\n"
   ]
  },
  {
   "cell_type": "code",
   "execution_count": 7,
   "metadata": {
    "collapsed": false,
    "urth": {
     "dashboard": {
      "hidden": true,
      "layout": {}
     }
    }
   },
   "outputs": [],
   "source": [
    "def flatmap_jouney(z):\n",
    "    y=[]\n",
    "    x=z[1][0].split(',')\n",
    "    for i in range(len(x)- 1):\n",
    "        # print('{}-->{},1'.format(x[i],x[i+1],1))\n",
    "        y.append('{},{}={}'.format(x[i],x[i+1],z[0]))\n",
    "    return y\n",
    "#a = flatmap_jouney((5, ('facebook:0,no_buy:99', '9,20,21,25,30')))\n",
    "#['facebook:0,no_buy:99=5']"
   ]
  },
  {
   "cell_type": "code",
   "execution_count": 8,
   "metadata": {
    "collapsed": false,
    "urth": {
     "dashboard": {
      "hidden": true,
      "layout": {}
     }
    }
   },
   "outputs": [],
   "source": [
    "def split_map_journey(x):\n",
    "    z=x.split('=')\n",
    "    return (z[0],int(z[1]))\n",
    "# split_map_journey('facebook:0,no_buy:99=5')\n",
    "# ('facebook:0,no_buy:99', 5)"
   ]
  },
  {
   "cell_type": "code",
   "execution_count": 9,
   "metadata": {
    "collapsed": true,
    "urth": {
     "dashboard": {
      "hidden": true,
      "layout": {}
     }
    }
   },
   "outputs": [],
   "source": [
    "def flatmap_jouney_nodes(z):\n",
    "    y=[]\n",
    "    x=z[1][0].split(',')\n",
    "    for i in range(len(x)):\n",
    "        # print('{}-->{},1'.format(x[i],x[i+1],1))\n",
    "        y.append('{}'.format(x[i]))\n",
    "    return y\n",
    "\n"
   ]
  },
  {
   "cell_type": "code",
   "execution_count": 10,
   "metadata": {
    "collapsed": false,
    "urth": {
     "dashboard": {
      "hidden": true,
      "layout": {}
     }
    }
   },
   "outputs": [],
   "source": [
    "def jouney_covered_check(nodelist, journey):\n",
    "    jnodes = journey.split(',')\n",
    "    for anode in jnodes:\n",
    "        if not anode in nodelist:\n",
    "            return False\n",
    "    return True\n",
    "# jouney_covered_check({\"store_visit:0\":\"y\",\"store_visit:1\":\"y\",\"store_visit:2\":\"y\",\"buy:99\":\"y\"}.keys(), 'web_call:0,app:1,web_chat:2,no_buy:99') \n",
    "\n",
    "def collect_customer_from_journey(selected_journey_df):\n",
    "    selected_id = []\n",
    "    for index, row in selected_journey_df.iterrows(): \n",
    "        selected_id.extend(str(row['visitor_list']).split(','))\n",
    "    return list(set(selected_id))"
   ]
  },
  {
   "cell_type": "code",
   "execution_count": 11,
   "metadata": {
    "collapsed": true,
    "urth": {
     "dashboard": {
      "hidden": true,
      "layout": {}
     }
    }
   },
   "outputs": [],
   "source": [
    "def build_journey_with_customer_filter(lines_nonempty,cust_list):\n",
    "    # wordcounts is a temporary variable, for mapping original path to key-value (path, (1, cust_id)) \n",
    "    if cust_list is None: \n",
    "        wordcounts = lines_nonempty.map(lambda x:devide_cust_id_path(x)).map(lambda x:build_path2cust_list(x))\n",
    "    else:\n",
    "        cust_list_rdd = sc.parallelize(cust_list)\n",
    "        wordcounts = lines_nonempty.map(lambda x:devide_cust_id_path(x)).join(cust_list_rdd)\\\n",
    "                    .map(lambda x:build_path2cust_list_with_sentiment(x))\n",
    "    \n",
    "    journey_rdd = wordcounts.reduceByKey(lambda x,y:reduce_jouney_count_concat(x,y))\\\n",
    "                 .map(lambda x:(x[1][0],(x[0],x[1][1]))).sortByKey(False)\n",
    "    #print(journey_rdd.count())\n",
    "    #wordcounts.take(1)\n",
    "\n",
    "    return journey_rdd # ,sankey_links, sankey_nodes\n"
   ]
  },
  {
   "cell_type": "code",
   "execution_count": 12,
   "metadata": {
    "collapsed": false,
    "urth": {
     "dashboard": {
      "hidden": true,
      "layout": {}
     }
    }
   },
   "outputs": [],
   "source": [
    "# Write the journey df to disk for later on computation.\n",
    "def build_journey_all(lines_nonempty):\n",
    "    wordcounts = build_journey_with_customer_filter(lines_nonempty, cust_list = None)\n",
    "    print(wordcounts.count())\n",
    "\n",
    "    from pyspark.sql import SQLContext, Row\n",
    "    sqlContext = SQLContext(sc)\n",
    "    # Load a text file and convert each line to a Row.  \n",
    "    journey_rows = wordcounts.map(lambda p: Row(visitor_count=p[0], journey= p[1][0], visitor_list=p[1][1]))\n",
    "\n",
    "    # Infer the schema, and register the DataFrame as a table.\n",
    "    schemaPeople = sqlContext.createDataFrame(journey_rows)\n",
    "    # schemaPeople.registerTempTable(\"journey_table\")\n",
    "    cust_journey_df = schemaPeople.toPandas()\n",
    "    cust_journey_df.to_csv('/home/duan/github/customer_segmentation/data/cust_profile_df/cust_journey_df.csv.new.1')\n",
    "    return cust_journey_df\n",
    "\n",
    "# Only for first time, or schedule it every night.\n",
    "# cust_journey_df = build_journey_all(lines_nonempty)\n",
    "cust_journey_df=pd.DataFrame.from_csv('/home/duan/github/customer_segmentation/data/cust_profile_df/cust_journey_df.csv.new.1')\n",
    "# s1 = sqlContext.sql(\"SELECT * FROM journey_table WHERE visitor_count >= 600\")\n",
    "\n"
   ]
  },
  {
   "cell_type": "code",
   "execution_count": 13,
   "metadata": {
    "collapsed": true,
    "urth": {
     "dashboard": {
      "hidden": true,
      "layout": {}
     }
    }
   },
   "outputs": [],
   "source": [
    "def create_sankey_json(journey_rdd, NUMBER_OF_NODES):\n",
    "    # Create sankey json according to the journey. The the sankey_dict will be sent to front end for presentation.\n",
    "    sankey_links = journey_rdd.flatMap(flatmap_jouney).map(split_map_journey).reduceByKey(lambda x,y:x+y).map(lambda x:(x[1],x[0])).sortByKey(False)\n",
    "    #print(sankey_links.count())\n",
    "    # sankey_links.take(25)\n",
    "\n",
    "    sankey_nodes = journey_rdd.flatMap(flatmap_jouney_nodes).map(lambda x: (x, 1)).reduceByKey(lambda x,y:x+y).map(lambda x:(x[1],x[0])).sortByKey(False)\n",
    "    #print(sankey_nodes.count())\n",
    "    # sankey_nodes.collect()\n",
    "    \n",
    "    a = sankey_nodes.take(NUMBER_OF_NODES)\n",
    "    node_dict = {}\n",
    "    mynodes = []\n",
    "    for i in range(len(a)):\n",
    "        node_dict[a[i][1]] = i\n",
    "        mynodes.append({\"name\":a[i][1]})\n",
    "\n",
    "    ll = sankey_links.collect()\n",
    "    mylinks = []\n",
    "    # {\"source\":0,\"target\":1,\"value\":2}\n",
    "    for i in range(len(ll)):\n",
    "        if (ll[i][1].split(',')[0]  in node_dict.keys() and ll[i][1].split(',')[1]  in node_dict.keys()  ):\n",
    "            source_node = node_dict[ ll[i][1].split(',')[0]  ] \n",
    "            target_node = node_dict[ ll[i][1].split(',')[1]  ] \n",
    "            mylinks.append({\"source\":source_node,\"target\":target_node,\"value\":ll[i][0]})\n",
    "    sankey_dict = {\"nodes\":mynodes,\n",
    "              \"links\":mylinks}\n",
    "    return sankey_dict\n"
   ]
  },
  {
   "cell_type": "code",
   "execution_count": 14,
   "metadata": {
    "collapsed": false,
    "urth": {
     "dashboard": {
      "hidden": true,
      "layout": {}
     }
    }
   },
   "outputs": [],
   "source": [
    "def selected_cust_sankey_json(lines_nonempty, selected_cust_df):\n",
    "    if selected_cust_df is None:\n",
    "        cust_list = None\n",
    "    else:\n",
    "        cust_list = [tuple(x) for x in selected_cust_df[['cust_id','cust_id']].values]\n",
    "\n",
    "    new_journey_rdd = build_journey_with_customer_filter(lines_nonempty,cust_list) # ,new_sankey_links, new_sankey_nodes\n",
    "    new_sankey_json = create_sankey_json(new_journey_rdd, NUMBER_OF_NODES)\n",
    "    return json.dumps(new_sankey_json)\n"
   ]
  },
  {
   "cell_type": "code",
   "execution_count": 15,
   "metadata": {
    "collapsed": false,
    "urth": {
     "dashboard": {
      "hidden": true,
      "layout": {}
     }
    }
   },
   "outputs": [],
   "source": [
    "import ipywidgets as widgets\n",
    "import traitlets # import CInt, Unicode\n",
    "from IPython.display import HTML\n",
    "from IPython import display\n",
    "\n",
    "class D3SankeyWidget(widgets.DOMWidget):\n",
    "    # the name of the requirejs module (no .js!)\n",
    "    _view_module = traitlets.Unicode(\n",
    "        'd3sankeyview').tag(sync=True)\n",
    "    # the name of the Backbone.View subclass to be used\n",
    "    _view_name = traitlets.Unicode(\n",
    "        'D3SankeyView').tag(sync=True) \n",
    "    \n",
    "    # the name of the CSS file to load with this widget\n",
    "    _view_style = traitlets.Unicode(\n",
    "        'nbextensions/ipythond3sankey/css/widget_d3sankey').tag(sync=True)\n",
    "    \n",
    "    # the actual value: lists of nodes and links\n",
    "    node_link_json = traitlets.Unicode().tag(sync=True)\n",
    "\n",
    "    selected_json = traitlets.Unicode().tag(sync=True)\n",
    "    \n",
    "    # margins & size\n",
    "    margin_top = traitlets.Float(1).tag(sync=True)\n",
    "    margin_right = traitlets.Float(1).tag(sync=True)\n",
    "    margin_bottom = traitlets.Float(6).tag(sync=True)\n",
    "    margin_left = traitlets.Float(1).tag(sync=True)\n",
    "    width = traitlets.Float(960).tag(sync=True)\n",
    "    height = traitlets.Float(500).tag(sync=True)\n",
    "    \n",
    "    unit = traitlets.Unicode('').tag(sync=True)\n",
    "\n",
    "    "
   ]
  },
  {
   "cell_type": "code",
   "execution_count": null,
   "metadata": {
    "collapsed": false,
    "urth": {
     "dashboard": {
      "layout": {
       "col": 0,
       "height": 4,
       "row": 4,
       "width": 4
      }
     }
    }
   },
   "outputs": [],
   "source": []
  },
  {
   "cell_type": "code",
   "execution_count": 16,
   "metadata": {
    "collapsed": false,
    "urth": {
     "dashboard": {
      "hidden": true,
      "layout": {}
     }
    }
   },
   "outputs": [
    {
     "data": {
      "application/javascript": [
       "require.config({\n",
       "  paths: {\n",
       "      d3: '/custom/d3sankey/js/d3',\n",
       "      jquery: '/custom/d3sankey/js/jquery',\n",
       "      underscore: '/custom/d3sankey/js/underscore',\n",
       "      sankey: '/custom/d3sankey/js/sankey',\n",
       "      d3_chart: '/custom/d3sankey/js/d3.chart',\n",
       "      d3_chart_sankey: '/custom/d3sankey/js/d3.chart.sankey',\n",
       "  },\n",
       "  shim: {\n",
       "    'sankey': { deps:  ['d3']},\n",
       "    'd3_chart': { deps:  ['d3']},\n",
       "    'd3_chart_sankey': { deps:  ['d3_chart']}\n",
       "  },\n",
       "});\n",
       "\n",
       "/* //cdnjs.cloudflare.com/ajax/libs/d3/3.4.8/d3.min\n",
       "  'jquery',\n",
       "  'underscore',\n",
       "\n",
       "  // ipython API\n",
       "  'widgets/js/widget',\n",
       "\n",
       "  // local imports\n",
       "  './utils',\n",
       "  './d3.min',\n",
       "  './sankey',\n",
       "*/\n",
       "      "
      ],
      "text/plain": [
       "<IPython.core.display.Javascript object>"
      ]
     },
     "metadata": {},
     "output_type": "display_data"
    }
   ],
   "source": [
    "%%javascript\n",
    "require.config({\n",
    "  paths: {\n",
    "      d3: '/custom/d3sankey/js/d3',\n",
    "      jquery: '/custom/d3sankey/js/jquery',\n",
    "      underscore: '/custom/d3sankey/js/underscore',\n",
    "      sankey: '/custom/d3sankey/js/sankey',\n",
    "      d3_chart: '/custom/d3sankey/js/d3.chart',\n",
    "      d3_chart_sankey: '/custom/d3sankey/js/d3.chart.sankey',\n",
    "  },\n",
    "  shim: {\n",
    "    'sankey': { deps:  ['d3']},\n",
    "    'd3_chart': { deps:  ['d3']},\n",
    "    'd3_chart_sankey': { deps:  ['d3_chart']}\n",
    "  },\n",
    "});\n",
    "\n",
    "/* //cdnjs.cloudflare.com/ajax/libs/d3/3.4.8/d3.min\n",
    "  'jquery',\n",
    "  'underscore',\n",
    "\n",
    "  // ipython API\n",
    "  'widgets/js/widget',\n",
    "\n",
    "  // local imports\n",
    "  './utils',\n",
    "  './d3.min',\n",
    "  './sankey',\n",
    "*/\n",
    "      "
   ]
  },
  {
   "cell_type": "code",
   "execution_count": null,
   "metadata": {
    "collapsed": true,
    "urth": {
     "dashboard": {
      "hidden": true,
      "layout": {}
     }
    }
   },
   "outputs": [],
   "source": []
  },
  {
   "cell_type": "code",
   "execution_count": 17,
   "metadata": {
    "collapsed": false,
    "urth": {
     "dashboard": {
      "hidden": true,
      "layout": {}
     }
    }
   },
   "outputs": [
    {
     "data": {
      "application/javascript": [
       "// widget_d3sankey.js @ /home/duan/anaconda3/lib/python3.5/site-packages/ipythond3sankey/static/ipythond3sankey/js\n",
       "requirejs.undef('d3sankeyview');\n",
       "//var global_json_data = {'test':'testduan'}\n",
       "var rect_selected = {}\n",
       "var rect_color = {}\n",
       "\n",
       "define('d3sankeyview', [\"jupyter-js-widgets\"], function(widgets) {\n",
       "  var D3SankeyView = widgets.DOMWidgetView.extend({\n",
       "    // namespace your CSS so that you don't break other people's stuff\n",
       "    className: 'D3SankeyView',\n",
       "\n",
       "    //loadCss: utils.loadCss,\n",
       "\n",
       "    // Initialize DOM, etc. called once per view creation,\n",
       "    // i.e. `display(widget)`\n",
       "    render: function() {\n",
       "\n",
       "      // add a stylesheet, if defined in `_view_style`\n",
       "      //this.loadCss();\n",
       "        var thatthis = this;\n",
       "\n",
       "        this.value_changed();\n",
       "        this.model.on('change:node_link_json', this.value_changed, this);        \n",
       "\n",
       "        return thatthis;\n",
       " \n",
       "    }, // /render\n",
       "\n",
       "    // Do things that are updated every time `this.model` is changed...\n",
       "    // from the backend to the front end.\n",
       "    value_changed: function() {\n",
       "\n",
       "      console.log('update function called');\n",
       "      var thatthis = this;\n",
       "\n",
       "      var graph = JSON.parse(this.model.get('node_link_json'));\n",
       "      console.log('started drawing for json: ' );\n",
       "      console.log( graph );\n",
       "\n",
       "      require(['d3','jquery', 'underscore', 'sankey','d3_chart','d3_chart_sankey'], \n",
       "              function(d3,$,_, sankey,d3_chart, d3_chart_sankey) {\n",
       "\n",
       "      \n",
       "      \t　console.log('started margin_top 2.' + thatthis.model.get('margin_top'));\n",
       "\t\t  // console.log('started margin_top 3.' + this.model.get('margin_top'));\n",
       "\t\t  // setup\n",
       "\t\t  // XXX margins, width and height not updated\n",
       "\t\t  var margin = {top:    thatthis.model.get('margin_top'),\n",
       "\t\t\t\t\t\tright:  thatthis.model.get('margin_right'),\n",
       "\t\t\t\t\t\tbottom: thatthis.model.get('margin_bottom'),\n",
       "\t\t\t\t\t\tleft:   thatthis.model.get('margin_left')},\n",
       "\t\t\t  width = thatthis.model.get('width') - margin.left - margin.right,\n",
       "\t\t\t  height = thatthis.model.get('height') - margin.top - margin.bottom;\n",
       "\n",
       "\t\t  thatthis.width = width;\n",
       "\t\t  thatthis.height = height;\n",
       "\n",
       "\t\t  var formatNumber = d3.format(\",.0f\"),\n",
       "\t\t\t  unit = thatthis.model.get('unit');\n",
       "\n",
       "\t\t  var format = function(d) { return formatNumber(d) + \" \" + unit; };\n",
       "\t\t  var color = d3.scale.category20();\n",
       "\t\t  d3.select(\"svg\").remove();\n",
       "\n",
       "\t\t  var svg = d3.select(thatthis.$el[0]).append(\"svg\")\n",
       "\t\t\t  .attr(\"width\", width + margin.left + margin.right)\n",
       "\t\t\t  .attr(\"height\", height + margin.top + margin.bottom)\n",
       "\t\t\t  .append(\"g\")\n",
       "\t\t\t  .attr(\"transform\",\n",
       "\t\t\t\t\t\"translate(\" + margin.left + \",\" + margin.top + \")\");\n",
       "\t\t// Set the sankey diagram properties\n",
       "\t\tvar sankey = d3.sankey()\n",
       "\t\t\t.nodeWidth(36)\n",
       "\t\t\t.nodePadding(40)\n",
       "\t\t\t.size([width, height]);\n",
       "\n",
       "\t\tvar path = sankey.link();\n",
       "\t\t//set up graph in same style as original example but empty\n",
       "\t\tconsole.log(JSON.stringify(graph));\n",
       "\n",
       "\t\t  sankey\n",
       "\t\t\t.nodes(graph.nodes)\n",
       "\t\t\t.links(graph.links)\n",
       "\t\t\t.layout(32);\n",
       "\t\tconsole.log( 'add in the links' );\n",
       "\n",
       "\t\t// add in the links\n",
       "\t\tvar link = svg.append(\"g\").selectAll(\".link\")\n",
       "\t\t\t  .data(graph.links)\n",
       "\t\t\t.enter().append(\"path\")\n",
       "\t\t\t  .attr(\"class\", \"link\")\n",
       "\t\t\t  .attr(\"d\", path)\n",
       "\t\t\t  .style(\"stroke-width\", function(d) { return Math.max(1, d.dy); })\n",
       "\t\t\t  .sort(function(a, b) { return b.dy - a.dy; });\n",
       "\n",
       "\t\t// add the link titles\n",
       "\t\tlink.append(\"title\")\n",
       "\t\t\t\t.text(function(d) {\n",
       "\t\t\t\t\treturn d.source.name + \" → \" + \n",
       "\t\t\t\t\t\td.target.name + \"\\n\" + format(d.value); });\n",
       "\t\tconsole.log( 'add in the nodes' );\n",
       "\n",
       "\n",
       "\t\t// add in the nodes\n",
       "\t\tvar node = svg.append(\"g\").selectAll(\".node\")\n",
       "\t\t\t  .data(graph.nodes)\n",
       "\t\t\t.enter().append(\"g\")\n",
       "\t\t\t  .attr(\"class\", \"node\")\n",
       "\t\t\t  .attr(\"transform\", function(d) { \n",
       "\t\t\t\t  return \"translate(\" + d.x + \",\" + d.y + \")\"; })\n",
       "\t\t\t.call(d3.behavior.drag()\n",
       "\t\t\t  .origin(function(d) { return d; })\n",
       "\t\t\t  .on(\"dragstart\", function() { \n",
       "\t\t\t\t  this.parentNode.appendChild(this); })\n",
       "\t\t\t  .on(\"drag\", dragmove));\n",
       "\n",
       "\t\t// add the rectangles for the nodes\n",
       "\t\tnode.append(\"rect\")\n",
       "\t\t\t  .attr(\"height\", function(d) { return d.dy; })\n",
       "\t\t\t  .attr(\"width\", sankey.nodeWidth())\n",
       "\t\t\t  .style(\"fill\", function(d) { \n",
       "\t\t\t\t  return d.color = color(d.name.replace(/ .*/, \"\")); })\n",
       "\t\t\t  .style(\"stroke\", function(d) { \n",
       "\t\t\t\t  return d3.rgb(d.color).darker(2); })\n",
       "\t\t\t.append(\"title\")\n",
       "\t\t\t  .text(function(d) { \n",
       "\t\t\t\t  return d.name + \"\\n\" + format(d.value); });\n",
       "\n",
       "\t\t// add in the title for the nodes\n",
       "\t\tnode.append(\"text\")\n",
       "\t\t\t  .attr(\"x\", -6)\n",
       "\t\t\t  .attr(\"y\", function(d) { return d.dy / 2; })\n",
       "\t\t\t  .attr(\"dy\", \".35em\")\n",
       "\t\t\t  .attr(\"text-anchor\", \"end\")\n",
       "\t\t\t  .attr(\"transform\", null)\n",
       "\t\t\t  .text(function(d) { return d.name; })\n",
       "\t\t\t.filter(function(d) { return d.x < width / 2; })\n",
       "\t\t\t  .attr(\"x\", 6 + sankey.nodeWidth())\n",
       "\t\t\t  .attr(\"text-anchor\", \"start\");\n",
       "\n",
       "\t\t// the function for moving the nodes\n",
       "\t\tfunction dragmove(d) {\n",
       "\t\t\td3.select(this).attr(\"transform\", \n",
       "\t\t\t\t\"translate(\" + d.x + \",\" + (\n",
       "\t\t\t\t\t\td.y = Math.max(0, Math.min(height - d.dy, d3.event.y))\n",
       "\t\t\t\t\t) + \")\");\n",
       "\t\t\tsankey.relayout();\n",
       "\t\t\tlink.attr(\"d\", path);\n",
       "\t\t  }\n",
       "\n",
       "\t\td3.selectAll(\"rect\")\n",
       "\t\t.on(\"click\",function(d,i){\n",
       "\t\t\t\t// alert(\"clicked!\"+d.value+\":\"+ d.name);\n",
       "\t\t\t\tconsole.log(\"clicked!\"+d.value+\":\"+ d.name);\n",
       "\t\t\t\tconsole.log('current fill core is: ');\n",
       "\t\t\t\tconsole.log(d3.select(this).style('fill'));\n",
       "\t\t\t\tif (rect_selected[d.name]  === undefined) {\n",
       "\t\t\t\t\tconsole.log('first time click');\n",
       "\t\t\t\t\trect_selected[d.name] ='y';\n",
       "\t\t\t\t\trect_color[d.name] = d3.select(this).style('fill');\n",
       "\t\t\t\t\td3.select(this).style('fill','red');\n",
       "\t\t\t\t} else if (rect_selected[d.name]  == 'y') { \n",
       "\t\t\t\t\tconsole.log('revert back to original color');\n",
       "\t\t\t\t\trect_selected[d.name] ='n';\n",
       "\t\t\t\t\td3.select(this).style('fill',rect_color[d.name]);\n",
       "\t\t\t\t} else{\n",
       "\t\t\t\t\tconsole.log('not first time click, but selected');\n",
       "\t\t\t\t\trect_selected[d.name] ='y';\n",
       "\t\t\t\t\trect_color[d.name] = d3.select(this).style('fill');\n",
       "\t\t\t\t\td3.select(this).style('fill','red');\n",
       "\t\t\t\t}\n",
       "\t\t\t\tconsole.log(JSON.stringify(rect_selected));\n",
       "\t\t\t\tconsole.log( (rect_selected));\n",
       "\n",
       "\t\t\t\tconsole.log('current selected_json is: ');\n",
       "\t\t\t\tconsole.log( thatthis.model.get('selected_json'));\n",
       "\t\t\t\tthatthis.model.set('selected_json',JSON.stringify(rect_selected));\n",
       "\n",
       "\t\t\t\tthatthis.touch();\n",
       "\t\t\t\tconsole.log( thatthis.model.get('selected_json'));\n",
       "\n",
       "\n",
       "\t\t});  // end of setup trigger\n",
       "\t\t//console.log('setup trigger is done 3');\n",
       "\t\t//console.log(d3.selectAll('rect'));\n",
       "\t});// end of requirejs\n",
       "      \n",
       "    }, // /update\n",
       "\n",
       "\n",
       "    // Tell Backbone to listen to events (none for now)\n",
       "    events: {\n",
       "    },\n",
       "\n",
       "  }); // /extend\n",
       "\n",
       "  // The requirej6s namespace.\n",
       "  return {\n",
       "    D3SankeyView: D3SankeyView\n",
       "  };\n",
       "});\n",
       "\n",
       "console.log('Sankey JS loaded')"
      ],
      "text/plain": [
       "<IPython.core.display.Javascript object>"
      ]
     },
     "metadata": {},
     "output_type": "display_data"
    }
   ],
   "source": [
    "%%javascript\n",
    "// widget_d3sankey.js @ /home/duan/anaconda3/lib/python3.5/site-packages/ipythond3sankey/static/ipythond3sankey/js\n",
    "requirejs.undef('d3sankeyview');\n",
    "//var global_json_data = {'test':'testduan'}\n",
    "var rect_selected = {}\n",
    "var rect_color = {}\n",
    "\n",
    "define('d3sankeyview', [\"jupyter-js-widgets\"], function(widgets) {\n",
    "  var D3SankeyView = widgets.DOMWidgetView.extend({\n",
    "    // namespace your CSS so that you don't break other people's stuff\n",
    "    className: 'D3SankeyView',\n",
    "\n",
    "    //loadCss: utils.loadCss,\n",
    "\n",
    "    // Initialize DOM, etc. called once per view creation,\n",
    "    // i.e. `display(widget)`\n",
    "    render: function() {\n",
    "\n",
    "      // add a stylesheet, if defined in `_view_style`\n",
    "      //this.loadCss();\n",
    "        var thatthis = this;\n",
    "\n",
    "        this.value_changed();\n",
    "        this.model.on('change:node_link_json', this.value_changed, this);        \n",
    "\n",
    "        return thatthis;\n",
    " \n",
    "    }, // /render\n",
    "\n",
    "    // Do things that are updated every time `this.model` is changed...\n",
    "    // from the backend to the front end.\n",
    "    value_changed: function() {\n",
    "\n",
    "      console.log('update function called');\n",
    "      var thatthis = this;\n",
    "\n",
    "      var graph = JSON.parse(this.model.get('node_link_json'));\n",
    "      console.log('started drawing for json: ' );\n",
    "      console.log( graph );\n",
    "\n",
    "      require(['d3','jquery', 'underscore', 'sankey','d3_chart','d3_chart_sankey'], \n",
    "              function(d3,$,_, sankey,d3_chart, d3_chart_sankey) {\n",
    "\n",
    "      \n",
    "      \t　console.log('started margin_top 2.' + thatthis.model.get('margin_top'));\n",
    "\t\t  // console.log('started margin_top 3.' + this.model.get('margin_top'));\n",
    "\t\t  // setup\n",
    "\t\t  // XXX margins, width and height not updated\n",
    "\t\t  var margin = {top:    thatthis.model.get('margin_top'),\n",
    "\t\t\t\t\t\tright:  thatthis.model.get('margin_right'),\n",
    "\t\t\t\t\t\tbottom: thatthis.model.get('margin_bottom'),\n",
    "\t\t\t\t\t\tleft:   thatthis.model.get('margin_left')},\n",
    "\t\t\t  width = thatthis.model.get('width') - margin.left - margin.right,\n",
    "\t\t\t  height = thatthis.model.get('height') - margin.top - margin.bottom;\n",
    "\n",
    "\t\t  thatthis.width = width;\n",
    "\t\t  thatthis.height = height;\n",
    "\n",
    "\t\t  var formatNumber = d3.format(\",.0f\"),\n",
    "\t\t\t  unit = thatthis.model.get('unit');\n",
    "\n",
    "\t\t  var format = function(d) { return formatNumber(d) + \" \" + unit; };\n",
    "\t\t  var color = d3.scale.category20();\n",
    "\t\t  d3.select(\"svg\").remove();\n",
    "\n",
    "\t\t  var svg = d3.select(thatthis.$el[0]).append(\"svg\")\n",
    "\t\t\t  .attr(\"width\", width + margin.left + margin.right)\n",
    "\t\t\t  .attr(\"height\", height + margin.top + margin.bottom)\n",
    "\t\t\t  .append(\"g\")\n",
    "\t\t\t  .attr(\"transform\",\n",
    "\t\t\t\t\t\"translate(\" + margin.left + \",\" + margin.top + \")\");\n",
    "\t\t// Set the sankey diagram properties\n",
    "\t\tvar sankey = d3.sankey()\n",
    "\t\t\t.nodeWidth(36)\n",
    "\t\t\t.nodePadding(40)\n",
    "\t\t\t.size([width, height]);\n",
    "\n",
    "\t\tvar path = sankey.link();\n",
    "\t\t//set up graph in same style as original example but empty\n",
    "\t\tconsole.log(JSON.stringify(graph));\n",
    "\n",
    "\t\t  sankey\n",
    "\t\t\t.nodes(graph.nodes)\n",
    "\t\t\t.links(graph.links)\n",
    "\t\t\t.layout(32);\n",
    "\t\tconsole.log( 'add in the links' );\n",
    "\n",
    "\t\t// add in the links\n",
    "\t\tvar link = svg.append(\"g\").selectAll(\".link\")\n",
    "\t\t\t  .data(graph.links)\n",
    "\t\t\t.enter().append(\"path\")\n",
    "\t\t\t  .attr(\"class\", \"link\")\n",
    "\t\t\t  .attr(\"d\", path)\n",
    "\t\t\t  .style(\"stroke-width\", function(d) { return Math.max(1, d.dy); })\n",
    "\t\t\t  .sort(function(a, b) { return b.dy - a.dy; });\n",
    "\n",
    "\t\t// add the link titles\n",
    "\t\tlink.append(\"title\")\n",
    "\t\t\t\t.text(function(d) {\n",
    "\t\t\t\t\treturn d.source.name + \" → \" + \n",
    "\t\t\t\t\t\td.target.name + \"\\n\" + format(d.value); });\n",
    "\t\tconsole.log( 'add in the nodes' );\n",
    "\n",
    "\n",
    "\t\t// add in the nodes\n",
    "\t\tvar node = svg.append(\"g\").selectAll(\".node\")\n",
    "\t\t\t  .data(graph.nodes)\n",
    "\t\t\t.enter().append(\"g\")\n",
    "\t\t\t  .attr(\"class\", \"node\")\n",
    "\t\t\t  .attr(\"transform\", function(d) { \n",
    "\t\t\t\t  return \"translate(\" + d.x + \",\" + d.y + \")\"; })\n",
    "\t\t\t.call(d3.behavior.drag()\n",
    "\t\t\t  .origin(function(d) { return d; })\n",
    "\t\t\t  .on(\"dragstart\", function() { \n",
    "\t\t\t\t  this.parentNode.appendChild(this); })\n",
    "\t\t\t  .on(\"drag\", dragmove));\n",
    "\n",
    "\t\t// add the rectangles for the nodes\n",
    "\t\tnode.append(\"rect\")\n",
    "\t\t\t  .attr(\"height\", function(d) { return d.dy; })\n",
    "\t\t\t  .attr(\"width\", sankey.nodeWidth())\n",
    "\t\t\t  .style(\"fill\", function(d) { \n",
    "\t\t\t\t  return d.color = color(d.name.replace(/ .*/, \"\")); })\n",
    "\t\t\t  .style(\"stroke\", function(d) { \n",
    "\t\t\t\t  return d3.rgb(d.color).darker(2); })\n",
    "\t\t\t.append(\"title\")\n",
    "\t\t\t  .text(function(d) { \n",
    "\t\t\t\t  return d.name + \"\\n\" + format(d.value); });\n",
    "\n",
    "\t\t// add in the title for the nodes\n",
    "\t\tnode.append(\"text\")\n",
    "\t\t\t  .attr(\"x\", -6)\n",
    "\t\t\t  .attr(\"y\", function(d) { return d.dy / 2; })\n",
    "\t\t\t  .attr(\"dy\", \".35em\")\n",
    "\t\t\t  .attr(\"text-anchor\", \"end\")\n",
    "\t\t\t  .attr(\"transform\", null)\n",
    "\t\t\t  .text(function(d) { return d.name; })\n",
    "\t\t\t.filter(function(d) { return d.x < width / 2; })\n",
    "\t\t\t  .attr(\"x\", 6 + sankey.nodeWidth())\n",
    "\t\t\t  .attr(\"text-anchor\", \"start\");\n",
    "\n",
    "\t\t// the function for moving the nodes\n",
    "\t\tfunction dragmove(d) {\n",
    "\t\t\td3.select(this).attr(\"transform\", \n",
    "\t\t\t\t\"translate(\" + d.x + \",\" + (\n",
    "\t\t\t\t\t\td.y = Math.max(0, Math.min(height - d.dy, d3.event.y))\n",
    "\t\t\t\t\t) + \")\");\n",
    "\t\t\tsankey.relayout();\n",
    "\t\t\tlink.attr(\"d\", path);\n",
    "\t\t  }\n",
    "\n",
    "\t\td3.selectAll(\"rect\")\n",
    "\t\t.on(\"click\",function(d,i){\n",
    "\t\t\t\t// alert(\"clicked!\"+d.value+\":\"+ d.name);\n",
    "\t\t\t\tconsole.log(\"clicked!\"+d.value+\":\"+ d.name);\n",
    "\t\t\t\tconsole.log('current fill core is: ');\n",
    "\t\t\t\tconsole.log(d3.select(this).style('fill'));\n",
    "\t\t\t\tif (rect_selected[d.name]  === undefined) {\n",
    "\t\t\t\t\tconsole.log('first time click');\n",
    "\t\t\t\t\trect_selected[d.name] ='y';\n",
    "\t\t\t\t\trect_color[d.name] = d3.select(this).style('fill');\n",
    "\t\t\t\t\td3.select(this).style('fill','red');\n",
    "\t\t\t\t} else if (rect_selected[d.name]  == 'y') { \n",
    "\t\t\t\t\tconsole.log('revert back to original color');\n",
    "\t\t\t\t\trect_selected[d.name] ='n';\n",
    "\t\t\t\t\td3.select(this).style('fill',rect_color[d.name]);\n",
    "\t\t\t\t} else{\n",
    "\t\t\t\t\tconsole.log('not first time click, but selected');\n",
    "\t\t\t\t\trect_selected[d.name] ='y';\n",
    "\t\t\t\t\trect_color[d.name] = d3.select(this).style('fill');\n",
    "\t\t\t\t\td3.select(this).style('fill','red');\n",
    "\t\t\t\t}\n",
    "\t\t\t\tconsole.log(JSON.stringify(rect_selected));\n",
    "\t\t\t\tconsole.log( (rect_selected));\n",
    "\n",
    "\t\t\t\tconsole.log('current selected_json is: ');\n",
    "\t\t\t\tconsole.log( thatthis.model.get('selected_json'));\n",
    "\t\t\t\tthatthis.model.set('selected_json',JSON.stringify(rect_selected));\n",
    "\n",
    "\t\t\t\tthatthis.touch();\n",
    "\t\t\t\tconsole.log( thatthis.model.get('selected_json'));\n",
    "\n",
    "\n",
    "\t\t});  // end of setup trigger\n",
    "\t\t//console.log('setup trigger is done 3');\n",
    "\t\t//console.log(d3.selectAll('rect'));\n",
    "\t});// end of requirejs\n",
    "      \n",
    "    }, // /update\n",
    "\n",
    "\n",
    "    // Tell Backbone to listen to events (none for now)\n",
    "    events: {\n",
    "    },\n",
    "\n",
    "  }); // /extend\n",
    "\n",
    "  // The requirej6s namespace.\n",
    "  return {\n",
    "    D3SankeyView: D3SankeyView\n",
    "  };\n",
    "});\n",
    "\n",
    "console.log('Sankey JS loaded')"
   ]
  },
  {
   "cell_type": "code",
   "execution_count": null,
   "metadata": {
    "collapsed": true,
    "urth": {
     "dashboard": {
      "hidden": true,
      "layout": {}
     }
    }
   },
   "outputs": [],
   "source": []
  },
  {
   "cell_type": "code",
   "execution_count": 18,
   "metadata": {
    "collapsed": false,
    "urth": {
     "dashboard": {
      "layout": {
       "col": 4,
       "height": 11,
       "row": 0,
       "width": null
      }
     }
    }
   },
   "outputs": [
    {
     "name": "stderr",
     "output_type": "stream",
     "text": [
      "Widget Javascript not detected.  It may not be installed properly. Did you enable the widgetsnbextension? If not, then run \"jupyter nbextension enable --py --sys-prefix widgetsnbextension\"\n"
     ]
    }
   ],
   "source": [
    "\n",
    "'''\n",
    "with open('/home/duan/github/customer_segmentation/data/sankey/sankey.json', 'r') as afile:\n",
    "    pydata = json.load(afile)\n",
    "json_string = json.dumps(pydata) #pydata\n",
    "'''\n",
    "json_string = selected_cust_sankey_json(lines_nonempty, None)\n",
    "\n",
    "sankey_journey_widget = D3SankeyWidget(\n",
    "    node_link_json = json_string,\n",
    "    height = 300,\n",
    "    width = 760\n",
    ")\n",
    "sankey_journey_widget"
   ]
  },
  {
   "cell_type": "code",
   "execution_count": 19,
   "metadata": {
    "collapsed": false,
    "urth": {
     "dashboard": {
      "hidden": true,
      "layout": {}
     }
    }
   },
   "outputs": [],
   "source": [
    "global_selected_cust_df = cust_df[cust_df['gender'] == 'F'][['cust_id']] \n",
    "new_json_string = selected_cust_sankey_json(lines_nonempty, global_selected_cust_df)\n",
    "\n",
    "sankey_journey_widget.node_link_json = new_json_string\n"
   ]
  },
  {
   "cell_type": "code",
   "execution_count": 20,
   "metadata": {
    "collapsed": false,
    "urth": {
     "dashboard": {
      "layout": {
       "col": 0,
       "height": 4,
       "row": 0,
       "width": 4
      }
     }
    }
   },
   "outputs": [
    {
     "name": "stderr",
     "output_type": "stream",
     "text": [
      "Widget Javascript not detected.  It may not be installed properly. Did you enable the widgetsnbextension? If not, then run \"jupyter nbextension enable --py --sys-prefix widgetsnbextension\"\n"
     ]
    }
   ],
   "source": [
    "# Buttons: Reset, Select\n",
    "\n",
    "button = widgets.Button(description=\"Update\")\n",
    "button.button_style = 'info'\n",
    "button.margin = 5\n",
    "button.height = 3\n",
    "\n",
    "display.display(button)\n",
    "\n",
    "\n",
    "\n",
    "def on_button_clicked(b):\n",
    "    global global_selected_cust_df\n",
    "    # print(d3sankeyExample.selected_json)\n",
    "    if len(sankey_journey_widget.selected_json) < 5 :\n",
    "        print('please select at least one node.')\n",
    "        return\n",
    "    ss_json = json.loads(sankey_journey_widget.selected_json)\n",
    "    new_ss = {k: v for k, v in ss_json.items() if v == \"y\"}\n",
    "    selected_journey=new_ss.keys()\n",
    "    selected_journey_df=cust_journey_df[cust_journey_df.apply(lambda x: jouney_covered_check(selected_journey,x['journey']) , axis=1)]\n",
    "    collecteddf = {'cust_id':  collect_customer_from_journey(selected_journey_df)}\n",
    "    df_new = pd.DataFrame(collecteddf, columns = ['cust_id' ])\n",
    "    global_selected_cust_df = df_new\n",
    "    df_new = df_new.apply(pd.to_numeric, errors='ignore').sort_values(by='cust_id')\n",
    "    collected_df = pd.merge(df_new, cust_df, how='inner', left_on='cust_id', right_on='cust_id')\n",
    "    \n",
    "    \n",
    "    display.clear_output(wait=True)\n",
    "    fig, axs = plt.subplots(2,1,figsize=(3,4))\n",
    "    collected_df['sentiment'].hist(ax=axs[0])\n",
    "    collected_df['Day Mins'].hist(ax=axs[1])\n",
    "\n",
    "    axs[0].set_title('Post Journey Sentiment')\n",
    "    axs[1].set_title('Account Tenure (Months)')\n",
    "    \n",
    "\n",
    "\n",
    "\n",
    "button.on_click(on_button_clicked)"
   ]
  },
  {
   "cell_type": "code",
   "execution_count": 21,
   "metadata": {
    "collapsed": false,
    "urth": {
     "dashboard": {
      "hidden": true,
      "layout": {}
     }
    }
   },
   "outputs": [],
   "source": [
    "# global_selected_cust_df"
   ]
  },
  {
   "cell_type": "code",
   "execution_count": 22,
   "metadata": {
    "collapsed": false,
    "urth": {
     "dashboard": {
      "layout": {
       "col": 0,
       "height": 4,
       "row": 11,
       "width": 10
      }
     }
    }
   },
   "outputs": [
    {
     "name": "stderr",
     "output_type": "stream",
     "text": [
      "Widget Javascript not detected.  It may not be installed properly. Did you enable the widgetsnbextension? If not, then run \"jupyter nbextension enable --py --sys-prefix widgetsnbextension\"\n"
     ]
    }
   ],
   "source": [
    "grade_top_row = widgets.HBox()\n",
    "\n",
    "hid_txt = widgets.HTML(\"Segment Name:\")\n",
    "hid_txt.font = 'helvetica'\n",
    "hid_txt.font_size = 30\n",
    "hid_txt.margin = 5\n",
    "algo_id_field = widgets.Text()\n",
    "algo_id_field.height = 35\n",
    "algo_id_field.value='Segment_1'\n",
    "\n",
    "grade_txt = widgets.HTML(\"Segment Type:\")\n",
    "grade_select = widgets.Dropdown(options=[\"Marketing\", \"Promotion\", \"Retension\"])\n",
    "\n",
    "\n",
    "\n",
    "grade_btn = widgets.Button(description=\"Create\")\n",
    "grade_btn.margin = 5\n",
    "grade_btn.button_style = 'info'\n",
    "\n",
    "\n",
    "grade_top_row.children = (hid_txt, algo_id_field, grade_txt, grade_select, grade_btn)\n",
    "grade_top_row.align = 'center'\n",
    "\n",
    "comment_field = widgets.Textarea(value='')\n",
    "comment_field.margin = 5\n",
    "comment_field.width = 378\n",
    "comment_field.cols = 55\n",
    "\n",
    "grade_form = widgets.VBox()\n",
    "grade_form.children = (grade_top_row, comment_field )\n",
    "\n",
    "\n",
    "def on_create_button_clicked(b):\n",
    "    # print(d3sankeyExample.selected_json)\n",
    "    if len(d3sankeyExample.selected_json) < 5 :\n",
    "        print('please select at least one node.')\n",
    "        return\n",
    "    new_seg = {'Seg_name': algo_id_field.value,\n",
    "               'Seg_type': grade_select.value,\n",
    "               'cust_ids': ','.join(global_selected_cust_df['cust_id'].tolist())\n",
    "              }\n",
    "    display.clear_output(wait=True)\n",
    "    # print(json.dumps(new_seg))\n",
    "    # print('<script> alert(\\'' + json.dumps(new_seg) + '\\'); </script>')\n",
    "    # HTML('<script> alert(\\'' + json.dumps(new_seg) + '\\'); </script>')\n",
    "    comment_field.value = json.dumps(new_seg)\n",
    "    \n",
    "\n",
    "\n",
    "\n",
    "grade_btn.on_click(on_create_button_clicked)\n",
    "\n",
    "\n",
    "display.display(grade_top_row)"
   ]
  },
  {
   "cell_type": "code",
   "execution_count": 23,
   "metadata": {
    "collapsed": false,
    "urth": {
     "dashboard": {
      "layout": {
       "col": 0,
       "height": 5,
       "row": 15,
       "width": 4
      }
     }
    }
   },
   "outputs": [
    {
     "name": "stderr",
     "output_type": "stream",
     "text": [
      "Widget Javascript not detected.  It may not be installed properly. Did you enable the widgetsnbextension? If not, then run \"jupyter nbextension enable --py --sys-prefix widgetsnbextension\"\n"
     ]
    }
   ],
   "source": [
    "display.display(comment_field)"
   ]
  }
 ],
 "metadata": {
  "kernelspec": {
   "display_name": "Python 3",
   "language": "python",
   "name": "python3"
  },
  "language_info": {
   "codemirror_mode": {
    "name": "ipython",
    "version": 3
   },
   "file_extension": ".py",
   "mimetype": "text/x-python",
   "name": "python",
   "nbconvert_exporter": "python",
   "pygments_lexer": "ipython3",
   "version": "3.5.1"
  },
  "urth": {
   "dashboard": {
    "cellMargin": 10,
    "defaultCellHeight": 20,
    "layout": "grid",
    "maxColumns": 12
   }
  },
  "widgets": {
   "state": {
    "02bccc5ec4654e6381d9a54885b251b1": {
     "views": []
    },
    "0cddbf9d2b9742e785b8dd4ead7a17c3": {
     "views": []
    },
    "10bb39fd98414500880e3a282d26053c": {
     "views": []
    },
    "23527ee8dcb2484289fbc6ca6b051e7b": {
     "views": []
    },
    "3c3eaa4b60e3448b8fdff5dd136ca656": {
     "views": []
    },
    "54cc8bca7eb149be9eb98ae4d7d0d126": {
     "views": []
    },
    "56feeb01b5484c14b1cadf2ca1fab609": {
     "views": []
    },
    "6f934b31e0b44e0c8bb35cc2c6d0bd34": {
     "views": []
    },
    "710c1032f59242df8ebeaddb073a94da": {
     "views": []
    },
    "7ec9f8b60a8a45958a39b657d8a323b2": {
     "views": []
    },
    "8ce1d6df9f3a45ec8b1af889e7f4c9bb": {
     "views": []
    },
    "8e068a64d51d4a5fb06ed1e34bea8134": {
     "views": []
    },
    "97585d9094b74b1c8f13233d236e47ef": {
     "views": []
    },
    "a82f71384d2a4a398cc616f65967698f": {
     "views": []
    },
    "b3e345d42e224bbe804176ab6eecc9e4": {
     "views": []
    },
    "ca74b7ac582c4b6985a364ffa1ec1e1c": {
     "views": []
    },
    "d78b56cac8744de88c5549103e3e0c88": {
     "views": []
    },
    "f2726d25f6d54322b18d7115716bfcc3": {
     "views": []
    },
    "f8a343350d9b492ebb8cacd86d4621e9": {
     "views": []
    },
    "f8c46cb8210c4cf1af2c318c0f18438d": {
     "views": []
    }
   },
   "version": "1.1.2"
  }
 },
 "nbformat": 4,
 "nbformat_minor": 0
}
