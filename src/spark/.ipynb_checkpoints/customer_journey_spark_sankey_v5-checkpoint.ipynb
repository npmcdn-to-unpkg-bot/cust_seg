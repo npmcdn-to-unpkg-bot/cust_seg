{
 "cells": [
  {
   "cell_type": "code",
   "execution_count": 13,
   "metadata": {
    "collapsed": true,
    "urth": {
     "dashboard": {
      "hidden": true,
      "layout": {}
     }
    }
   },
   "outputs": [],
   "source": [
    "import pandas as pd\n",
    "import json\n",
    "NUMBER_OF_NODES = 10\n",
    "\n",
    "lines = sc.textFile('file:///home/duan/github/customer_segmentation/data/journey_log/msnbc.numbered')\n",
    "lines_nonempty = lines.filter( lambda x: len(x) > 0 )\n",
    "\n",
    "cust_df = pd.DataFrame.from_csv('/home/duan/github/customer_segmentation/data/cust_profile_df/cust_sentiment_gender_df.csv')\n",
    "global_selected_cust_df = cust_df\n",
    "cust_journey_df=pd.DataFrame.from_csv('/home/duan/github/customer_segmentation/data/cust_profile_df/cust_journey_df.csv.new.1')\n"
   ]
  },
  {
   "cell_type": "code",
   "execution_count": 14,
   "metadata": {
    "collapsed": true,
    "urth": {
     "dashboard": {
      "hidden": true,
      "layout": {}
     }
    }
   },
   "outputs": [],
   "source": [
    "# Write the journey df to disk for later on computation.\n",
    "def build_journey_all(lines_nonempty):\n",
    "    wordcounts = build_journey_with_customer_filter(lines_nonempty, cust_list = None)\n",
    "    from pyspark.sql import SQLContext, Row\n",
    "    sqlContext = SQLContext(sc)\n",
    "    # Load a text file and convert each line to a Row.  \n",
    "    journey_rows = wordcounts.map(lambda p: Row(visitor_count=p[0], journey= p[1][0], visitor_list=p[1][1]))\n",
    "    # Infer the schema, and register the DataFrame as a table.\n",
    "    schemaPeople = sqlContext.createDataFrame(journey_rows)\n",
    "    # schemaPeople.registerTempTable(\"journey_table\")\n",
    "    cust_journey_df = schemaPeople.toPandas()\n",
    "    cust_journey_df.to_csv('/home/duan/github/customer_segmentation/data/cust_profile_df/cust_journey_df.csv.new.1')\n",
    "    return cust_journey_df\n",
    "# Only for first time, or schedule it every night.\n",
    "# cust_journey_df = build_journey_all(lines_nonempty)"
   ]
  },
  {
   "cell_type": "code",
   "execution_count": 15,
   "metadata": {
    "collapsed": false,
    "urth": {
     "dashboard": {
      "hidden": true,
      "layout": {}
     }
    }
   },
   "outputs": [],
   "source": [
    "from nvd3piewidget import (jouney_covered_check, \n",
    "                           collect_customer_from_journey, \n",
    "                           build_journey_with_customer_filter, \n",
    "                           selected_cust_sankey_json,\n",
    "                           selected_cust_sankey_json\n",
    "                           )\n",
    "from nvd3piewidget import D3SankeyWidget,NVD3PieWidget,NVD3BarWidget\n"
   ]
  },
  {
   "cell_type": "code",
   "execution_count": null,
   "metadata": {
    "collapsed": false,
    "urth": {
     "dashboard": {
      "hidden": true,
      "layout": {}
     }
    }
   },
   "outputs": [],
   "source": [
    "HTML('''\n",
    "<div id=\"allchart\" style=\"width:900px;height:450px;\">\n",
    "<div id=\"barchart\" style=\"width:401px;height:401px;\">\n",
    "    <svg style=\"width:400px;height:400px;\"></svg>\n",
    "</div>\n",
    "<div id=\"piechart\" style=\"width:401px;height:401px;\">\n",
    "    <svg style=\"width:400px;height:400px;\"></svg>\n",
    "</div>\n",
    "</div>\n",
    "\n",
    "''')"
   ]
  },
  {
   "cell_type": "code",
   "execution_count": 16,
   "metadata": {
    "collapsed": false,
    "urth": {
     "dashboard": {
      "layout": {
       "col": null,
       "height": 11,
       "row": 0,
       "width": null
      }
     }
    }
   },
   "outputs": [],
   "source": [
    "json_string = selected_cust_sankey_json(lines_nonempty, None)\n",
    "\n",
    "sankey_journey_widget = D3SankeyWidget(\n",
    "    node_link_json = json_string,\n",
    "    height = 300,\n",
    "    width = 760\n",
    ")\n",
    "sankey_journey_widget"
   ]
  },
  {
   "cell_type": "code",
   "execution_count": null,
   "metadata": {
    "collapsed": false,
    "urth": {
     "dashboard": {
      "hidden": true,
      "layout": {}
     }
    }
   },
   "outputs": [],
   "source": []
  },
  {
   "cell_type": "code",
   "execution_count": null,
   "metadata": {
    "collapsed": true,
    "urth": {
     "dashboard": {
      "hidden": true,
      "layout": {}
     }
    }
   },
   "outputs": [],
   "source": []
  },
  {
   "cell_type": "code",
   "execution_count": 26,
   "metadata": {
    "collapsed": false,
    "urth": {
     "dashboard": {
      "layout": {
       "col": 0,
       "height": 17,
       "row": 3,
       "width": null
      }
     }
    }
   },
   "outputs": [
    {
     "name": "stdout",
     "output_type": "stream",
     "text": [
      "         Sentiment Distribution\n"
     ]
    }
   ],
   "source": [
    "data_barchart=[{'key': 'Sentiment Historgram',\n",
    "  'values': [ \n",
    "   {'x': '1', 'y':  75 },\n",
    "   {'x': '2', 'y':  407 },\n",
    "   {'x': '3', 'y':  721 },\n",
    "   {'x': '4', 'y':  509 },\n",
    "   {'x': '5', 'y':  204 },\n",
    "   {'x': '6', 'y':  71 },\n",
    "   {'x': '7', 'y':  15 },\n",
    "   {'x': '8', 'y':  1 }],\n",
    "  'yAxis': '1'}]\n",
    "\n",
    "bar_chart = NVD3BarWidget(json_data=json.dumps(data_barchart))\n",
    "print('         Sentiment Distribution')\n",
    "bar_chart"
   ]
  },
  {
   "cell_type": "code",
   "execution_count": 18,
   "metadata": {
    "collapsed": false,
    "urth": {
     "dashboard": {
      "layout": {
       "col": 0,
       "height": 17,
       "row": 20,
       "width": null
      }
     }
    }
   },
   "outputs": [
    {
     "name": "stdout",
     "output_type": "stream",
     "text": [
      "         Gender Distribution\n"
     ]
    }
   ],
   "source": [
    "data_piechart=[{'key': 'Sentiment Historgram', \n",
    "                'values': [{'label': 'F', 'value': 2007},{'label': 'M', 'value': 107}]}];\n",
    "\n",
    "pie_chart = NVD3PieWidget(value=5, json_data=json.dumps(data_piechart))\n",
    "print('         Gender Distribution')\n",
    "pie_chart"
   ]
  },
  {
   "cell_type": "code",
   "execution_count": 19,
   "metadata": {
    "collapsed": true,
    "urth": {
     "dashboard": {
      "hidden": true,
      "layout": {}
     }
    }
   },
   "outputs": [],
   "source": [
    "def update_bar_chart(global_selected_cust_df):\n",
    "    hist1 = global_selected_cust_df['sentiment'].value_counts()\n",
    "    hist1.sort_index(ascending=True,inplace=True)\n",
    "    hist_dict=hist1.to_dict()\n",
    "    bar_value = [{\"y\": int(hist_dict[k]), \"x\": str(int(k))}  for k in hist_dict.keys() ]\n",
    "    data_barchart=[{\"values\": bar_value, \n",
    "                    \"key\": \"Sentiment Historgram\", \n",
    "                    \"yAxis\": \"1\"}]\n",
    "    bar_chart.json_data = json.dumps(data_barchart)\n"
   ]
  },
  {
   "cell_type": "code",
   "execution_count": 20,
   "metadata": {
    "collapsed": false,
    "urth": {
     "dashboard": {
      "hidden": true,
      "layout": {}
     }
    }
   },
   "outputs": [],
   "source": [
    "def update_pie_chart(global_selected_cust_df):\n",
    "    hist1 = global_selected_cust_df['gender'].value_counts()\n",
    "    # hist1.sort_index(ascending=True,inplace=True)\n",
    "    hist_dict=hist1.to_dict()\n",
    "    gender_dict = {'F':'Female', 'M':'Male'}\n",
    "    bar_value = [{\"value\": int(hist_dict[k]), \"label\": gender_dict[k]}  \n",
    "                 for k in hist_dict.keys() ]\n",
    "    data_piechart=[{\"values\": bar_value, \n",
    "                    \"key\": \"Sentiment Historgram\" }]\n",
    "    pie_chart.json_data = json.dumps(data_piechart)\n"
   ]
  },
  {
   "cell_type": "code",
   "execution_count": 21,
   "metadata": {
    "collapsed": false,
    "urth": {
     "dashboard": {
      "hidden": true,
      "layout": {}
     }
    }
   },
   "outputs": [],
   "source": [
    "def update_sankey_chart(global_selected_cust_df):\n",
    "    # global_selected_cust_df = cust_df[cust_df['gender'] == 'F']\n",
    "    new_json_string = selected_cust_sankey_json(lines_nonempty, global_selected_cust_df[['cust_id']] ,NUMBER_OF_NODES, sc)\n",
    "    sankey_journey_widget.node_link_json = new_json_string\n",
    "# sankey_journey_widget.node_link_json = json_string\n"
   ]
  },
  {
   "cell_type": "code",
   "execution_count": 22,
   "metadata": {
    "collapsed": false,
    "urth": {
     "dashboard": {
      "layout": {
       "col": 7,
       "height": 3,
       "row": 0,
       "width": 3
      }
     }
    }
   },
   "outputs": [],
   "source": [
    "# Buttons: Reset, Select\n",
    "import ipywidgets as widgets\n",
    "from IPython import display\n",
    "\n",
    "\n",
    "filter_by_journey_button = widgets.Button(description=\"Filter by Journey\")\n",
    "filter_by_journey_button.button_style = 'info'\n",
    "filter_by_journey_button.margin = 5\n",
    "filter_by_journey_button.height = 3\n",
    "\n",
    "display.display(filter_by_journey_button)\n",
    "\n",
    "\n",
    "\n",
    "def on_filter_by_journey_button_clicked(b):\n",
    "    global global_selected_cust_df\n",
    "    # print(d3sankeyExample.selected_json)\n",
    "    if len(sankey_journey_widget.selected_json) < 5 :\n",
    "        print('please select at least one node.')\n",
    "        return\n",
    "    ss_json = json.loads(sankey_journey_widget.selected_json)\n",
    "    new_ss = {k: v for k, v in ss_json.items() if v == \"y\"}\n",
    "    selected_journey=new_ss.keys()\n",
    "    selected_journey_df=cust_journey_df[cust_journey_df.apply(lambda x: jouney_covered_check(selected_journey,x['journey']) , axis=1)]\n",
    "    collecteddf = {'cust_id':  collect_customer_from_journey(selected_journey_df)}\n",
    "    df_new = pd.DataFrame(collecteddf, columns = ['cust_id' ])\n",
    "    df_new = df_new.apply(pd.to_numeric, errors='ignore').sort_values(by='cust_id')\n",
    "    collected_df = pd.merge(df_new, cust_df, how='inner', left_on='cust_id', right_on='cust_id')\n",
    "    global_selected_cust_df = collected_df\n",
    "    \n",
    "    update_bar_chart(global_selected_cust_df)\n",
    "    update_pie_chart(global_selected_cust_df)\n",
    "    update_sankey_chart(global_selected_cust_df)\n",
    "\n",
    "filter_by_journey_button.on_click(on_filter_by_journey_button_clicked)"
   ]
  },
  {
   "cell_type": "code",
   "execution_count": null,
   "metadata": {
    "collapsed": false,
    "urth": {
     "dashboard": {
      "hidden": true,
      "layout": {}
     }
    }
   },
   "outputs": [],
   "source": []
  },
  {
   "cell_type": "code",
   "execution_count": 24,
   "metadata": {
    "collapsed": false,
    "urth": {
     "dashboard": {
      "layout": {
       "col": 0,
       "height": 4,
       "row": 41,
       "width": 10
      }
     }
    }
   },
   "outputs": [],
   "source": [
    "grade_top_row = widgets.HBox()\n",
    "\n",
    "hid_txt = widgets.HTML(\"Segment Name:\")\n",
    "hid_txt.font = 'helvetica'\n",
    "hid_txt.font_size = 30\n",
    "hid_txt.margin = 5\n",
    "algo_id_field = widgets.Text()\n",
    "algo_id_field.height = 35\n",
    "algo_id_field.value='Segment_1'\n",
    "\n",
    "grade_txt = widgets.HTML(\"Segment Type:\")\n",
    "grade_select = widgets.Dropdown(options=[\"Marketing\", \"Promotion\", \"Retension\"])\n",
    "\n",
    "\n",
    "\n",
    "grade_btn = widgets.Button(description=\"Create Segment\")\n",
    "grade_btn.margin = 5\n",
    "grade_btn.button_style = 'info'\n",
    "\n",
    "\n",
    "grade_top_row.children = (hid_txt, algo_id_field, grade_txt, grade_select, grade_btn)\n",
    "grade_top_row.align = 'center'\n",
    "\n",
    "comment_field = widgets.Textarea(value='')\n",
    "comment_field.margin = 5\n",
    "comment_field.width = 378\n",
    "comment_field.cols = 55\n",
    "\n",
    "grade_form = widgets.VBox()\n",
    "grade_form.children = (grade_top_row, comment_field )\n",
    "\n",
    "\n",
    "def on_create_button_clicked(b):\n",
    "    # print(d3sankeyExample.selected_json)\n",
    "    if len(global_selected_cust_df['cust_id'].count()) < 2 :\n",
    "        print('Please select at least one customer.')\n",
    "        return\n",
    "    new_seg = {'Seg_name': algo_id_field.value,\n",
    "               'Seg_type': grade_select.value,\n",
    "               'cust_ids': ','.join(global_selected_cust_df['cust_id'].tolist())\n",
    "              }\n",
    "    display.clear_output(wait=True)\n",
    "    # print(json.dumps(new_seg))\n",
    "    # print('<script> alert(\\'' + json.dumps(new_seg) + '\\'); </script>')\n",
    "    # HTML('<script> alert(\\'' + json.dumps(new_seg) + '\\'); </script>')\n",
    "    comment_field.value = json.dumps(new_seg)\n",
    "    \n",
    "\n",
    "\n",
    "\n",
    "grade_btn.on_click(on_create_button_clicked)\n",
    "\n",
    "\n",
    "display.display(grade_top_row)"
   ]
  },
  {
   "cell_type": "code",
   "execution_count": 25,
   "metadata": {
    "collapsed": false,
    "urth": {
     "dashboard": {
      "layout": {
       "col": 0,
       "height": 6,
       "row": 45,
       "width": 4
      }
     }
    }
   },
   "outputs": [],
   "source": [
    "display.display(comment_field)"
   ]
  },
  {
   "cell_type": "code",
   "execution_count": null,
   "metadata": {
    "collapsed": false,
    "urth": {
     "dashboard": {
      "layout": {
       "col": 4,
       "height": 4,
       "row": 37,
       "width": 4
      }
     }
    }
   },
   "outputs": [],
   "source": []
  }
 ],
 "metadata": {
  "kernelspec": {
   "display_name": "Python 3",
   "language": "python",
   "name": "python3"
  },
  "language_info": {
   "codemirror_mode": {
    "name": "ipython",
    "version": 3
   },
   "file_extension": ".py",
   "mimetype": "text/x-python",
   "name": "python",
   "nbconvert_exporter": "python",
   "pygments_lexer": "ipython3",
   "version": "3.5.1"
  },
  "urth": {
   "dashboard": {
    "cellMargin": 10,
    "defaultCellHeight": 20,
    "layout": "grid",
    "maxColumns": 12
   }
  },
  "widgets": {
   "state": {
    "10ff7960fc67466ab0d90949918dec5a": {
     "views": []
    },
    "160336d1b05d468eacbec2b294cda56e": {
     "views": []
    },
    "1881dde3b2024665a07042b8cfc8a281": {
     "views": []
    },
    "24434c87adcd4df89828efd2252aff40": {
     "views": []
    },
    "2b20d4851f4d4223af81155e36d458d3": {
     "views": []
    },
    "3068b62bd21c40e583ee65f1c46be7dd": {
     "views": []
    },
    "3347f63725364bb8b9dffd83e42d3f27": {
     "views": []
    },
    "3ea7a077783d40aab52fff559b39a004": {
     "views": []
    },
    "416d842f59fb4b9aa1fc399adc88aee9": {
     "views": []
    },
    "446f2708d7bd4a2584ea8ff5220fcf5c": {
     "views": [
      {
       "cell_index": 8
      }
     ]
    },
    "467e0de1a220407d99d2fb8acf20b98a": {
     "views": []
    },
    "4cee399cb6ce4f6e9ec685436b3deb53": {
     "views": []
    },
    "5cc8996a80bd4b68ba383ae3c12e5a44": {
     "views": []
    },
    "629b7a8984124b93b3faf8dcf73f1b7c": {
     "views": [
      {
       "cell_index": 14
      }
     ]
    },
    "64e92a3e5d344984b02876053cbf1c31": {
     "views": []
    },
    "676e2db504f7433d8c987c7b0d7a52f2": {
     "views": []
    },
    "722942db20c848ba8f8b7c4ca1d088c5": {
     "views": []
    },
    "80150d301c3f4b21bebda541379cb560": {
     "views": []
    },
    "84aa29ec46b140b2980417b8759d19c3": {
     "views": []
    },
    "8f3cd92dae944e91966e9cec7a317f6a": {
     "views": []
    },
    "8fa0c3e98a564927a75f9cfad41e7873": {
     "views": []
    },
    "9182046480404de29445a3181d730448": {
     "views": []
    },
    "9af05659d4cc49fe95b71e8b1226befa": {
     "views": [
      {
       "cell_index": 4
      }
     ]
    },
    "9e24426a375f4f7eb03bcad5f6f86e62": {
     "views": []
    },
    "b437feb81cfa42b882d59aac201dc952": {
     "views": []
    },
    "b5e2912ffc8346b98f49809edbc1ad28": {
     "views": [
      {
       "cell_index": 7
      }
     ]
    },
    "bafe630e7aa24a52b4153a31cb42dbb7": {
     "views": []
    },
    "c11ed650c4ef4c91b82b0d1a07ce30c0": {
     "views": []
    },
    "cd759ef7139c493688a924067ffabd5b": {
     "views": []
    },
    "d3588420b5ef49fa883f7e36e8192b31": {
     "views": []
    },
    "d7af4df6c5e14c1287a3c5a5e34ef958": {
     "views": [
      {
       "cell_index": 12
      }
     ]
    },
    "db2f6c87cc094ac6a401ee2513491e46": {
     "views": []
    },
    "df5f4953bed44743aa795d277db3eeee": {
     "views": []
    },
    "e693bc38d4d44f5e87b821ca02d0575a": {
     "views": []
    },
    "e70cd367883b4b8faf054e41dd539149": {
     "views": [
      {
       "cell_index": 15
      }
     ]
    },
    "ead617985f3848e7b1b4be01ba887a19": {
     "views": []
    },
    "f0ba834277e84bd08b10f571af9fc8f2": {
     "views": []
    },
    "fdc4ee7fd5ea499db80912669d1aa9d2": {
     "views": []
    }
   },
   "version": "1.1.2"
  }
 },
 "nbformat": 4,
 "nbformat_minor": 0
}
