{
 "cells": [
  {
   "cell_type": "code",
   "execution_count": 2,
   "metadata": {
    "collapsed": false
   },
   "outputs": [],
   "source": [
    "NUMBER_OF_NODES = 10\n",
    "\n",
    "lines = sc.textFile('file:///home/duan/github/customer_segmentation/data/journey_log/msnbc.numbered')\n",
    "lines_nonempty = lines.filter( lambda x: len(x) > 0 )"
   ]
  },
  {
   "cell_type": "code",
   "execution_count": 3,
   "metadata": {
    "collapsed": false
   },
   "outputs": [],
   "source": [
    "\n",
    "channel_dict = {\n",
    "    1:'store_visit',\n",
    "    2:'phone_call',\n",
    "    3:'web_call',\n",
    "    4:'app',\n",
    "    5:'web_chat',\n",
    "    6:'facebook',\n",
    "    7:'twitter',\n",
    "    8:'others',\n",
    "    20:'buy',\n",
    "    21:'not_buy',\n",
    "}\n",
    "\n",
    "# channel_dict"
   ]
  },
  {
   "cell_type": "code",
   "execution_count": 4,
   "metadata": {
    "collapsed": false
   },
   "outputs": [],
   "source": [
    "# devide customer id and the path and build the key-value as (cust_id, 'path').  \n",
    "# input:= calc_path('1049  : 1 5 6 6 21')\n",
    "# result:=   ('store_visit:0,web_chat:1,facebook:2,facebook:3,not_buy', (1, '1049'))\n",
    "def devide_cust_id_path(z):\n",
    "    aa=z.split(':')\n",
    "    # customer_id = int(aa[0].strip())\n",
    "    return (int(aa[0].strip()),aa[1])\n",
    "\n",
    "#devide_cust_id_path('1049  : 1 5 6 6 21')\n",
    "#output: (1049, ' 1 5 6 6 21')"
   ]
  },
  {
   "cell_type": "code",
   "execution_count": 5,
   "metadata": {
    "collapsed": false
   },
   "outputs": [],
   "source": [
    "# decode the path and build the key-value as (path, (1, customer_id)). 1 will be used for later summary.\n",
    "def build_path2cust_list(z):\n",
    "    aa=z  #.split(':')\n",
    "    customer_id = str(aa[0])\n",
    "    x=aa[1].split()\n",
    "    y=''\n",
    "    for i in range(len(x)-1):\n",
    "        ch_id = int(x[i]) \n",
    "        y = y + channel_dict[ch_id]+':'+str(i) + \",\" \n",
    "        \n",
    "    y = y + channel_dict[int(x[len(x)-1]) ]\n",
    "    return (y,(1,customer_id))\n",
    "\n",
    "# build_path2cust_list((1049, ' 1 5 6 6 21'))\n",
    "# output: = ('store_visit:0,web_chat:1,facebook:2,facebook:3,not_buy', (1, '1049'))"
   ]
  },
  {
   "cell_type": "code",
   "execution_count": 6,
   "metadata": {
    "collapsed": false
   },
   "outputs": [],
   "source": [
    "# decode the path and build the key-value as (path, (1, customer_id)). 1 will be used for later summary.\n",
    "def build_path2cust_list_with_sentiment(z):\n",
    "    aa=z  #.split(':')\n",
    "    customer_id = str(aa[0])\n",
    "    x=aa[1][0].split()\n",
    "    y=''\n",
    "    for i in range(len(x)-1):\n",
    "        ch_id = int(x[i]) \n",
    "        y = y + channel_dict[ch_id]+':'+str(i) + \",\" \n",
    "        \n",
    "    y = y + channel_dict[int(x[len(x)-1]) ]\n",
    "    return (y,(1,customer_id))\n",
    "\n",
    "# build_path2cust_list_with_sentiment((520, (' 2 2 2 2 21 ', 3.0)))\n",
    "# output: = ('phone_call:0,phone_call:1,phone_call:2,phone_call:3,not_buy', (1, '520'))"
   ]
  },
  {
   "cell_type": "code",
   "execution_count": 7,
   "metadata": {
    "collapsed": false
   },
   "outputs": [
    {
     "data": {
      "text/plain": [
       "'\\n                 .reduceByKey(lambda x,y:reduce_jouney_count_concat(x,y))                 .map(lambda x:(x[1][0],(x[0],x[1][1]))).sortByKey(False)\\n'"
      ]
     },
     "execution_count": 7,
     "metadata": {},
     "output_type": "execute_result"
    }
   ],
   "source": [
    "\n",
    "'''\\\n",
    "\n",
    "                 .reduceByKey(lambda x,y:reduce_jouney_count_concat(x,y))\\\n",
    "                 .map(lambda x:(x[1][0],(x[0],x[1][1]))).sortByKey(False)\n",
    "'''                 "
   ]
  },
  {
   "cell_type": "code",
   "execution_count": 8,
   "metadata": {
    "collapsed": false
   },
   "outputs": [],
   "source": [
    "#wordcounts.take(1)"
   ]
  },
  {
   "cell_type": "code",
   "execution_count": 9,
   "metadata": {
    "collapsed": false,
    "scrolled": true
   },
   "outputs": [],
   "source": [
    "# decode the path and build the key-value as (path, (1, customer_id)). 1 will be used for later summary.\n",
    "# Deprecated.\n",
    "def calc_path(z):\n",
    "    aa=z.split(':')\n",
    "    customer_id = aa[0].strip()\n",
    "    x=aa[1].split()\n",
    "    y=''\n",
    "    for i in range(len(x)-1):\n",
    "        ch_id = int(x[i]) \n",
    "        y = y + channel_dict[ch_id]+':'+str(i) + \",\" \n",
    "        \n",
    "    y = y + channel_dict[int(x[len(x)-1]) ]\n",
    "    return (y,(1,customer_id))\n",
    "\n",
    "del calc_path\n",
    "# calc_path('1049  : 1 5 6 6 21')\n",
    "# result:=   ('store_visit:0,web_chat:1,facebook:2,facebook:3,not_buy', (1, '1049'))\n"
   ]
  },
  {
   "cell_type": "code",
   "execution_count": 10,
   "metadata": {
    "collapsed": true
   },
   "outputs": [],
   "source": [
    "# reduce the value of (1, customer_id) into (summary of int, list of customer)\n",
    "def reduce_jouney_count_concat(x,y): \n",
    "    return (x[0]+y[0],'{},{}'.format(x[1],y[1])) #,'testing'\n"
   ]
  },
  {
   "cell_type": "code",
   "execution_count": null,
   "metadata": {
    "collapsed": true
   },
   "outputs": [],
   "source": []
  },
  {
   "cell_type": "code",
   "execution_count": 11,
   "metadata": {
    "collapsed": false
   },
   "outputs": [],
   "source": [
    "def flatmap_jouney(z):\n",
    "    y=[]\n",
    "    x=z[1][0].split(',')\n",
    "    for i in range(len(x)- 1):\n",
    "        # print('{}-->{},1'.format(x[i],x[i+1],1))\n",
    "        y.append('{},{}={}'.format(x[i],x[i+1],z[0]))\n",
    "    return y\n",
    "#a = flatmap_jouney((5, ('facebook:0,no_buy:99', '9,20,21,25,30')))\n",
    "#['facebook:0,no_buy:99=5']"
   ]
  },
  {
   "cell_type": "code",
   "execution_count": 12,
   "metadata": {
    "collapsed": false
   },
   "outputs": [],
   "source": [
    "def split_map_journey(x):\n",
    "    z=x.split('=')\n",
    "    return (z[0],int(z[1]))\n",
    "# split_map_journey('facebook:0,no_buy:99=5')\n",
    "# ('facebook:0,no_buy:99', 5)"
   ]
  },
  {
   "cell_type": "code",
   "execution_count": 13,
   "metadata": {
    "collapsed": true
   },
   "outputs": [],
   "source": [
    "def flatmap_jouney_nodes(z):\n",
    "    y=[]\n",
    "    x=z[1][0].split(',')\n",
    "    for i in range(len(x)):\n",
    "        # print('{}-->{},1'.format(x[i],x[i+1],1))\n",
    "        y.append('{}'.format(x[i]))\n",
    "    return y\n",
    "\n"
   ]
  },
  {
   "cell_type": "code",
   "execution_count": 14,
   "metadata": {
    "collapsed": false
   },
   "outputs": [
    {
     "name": "stdout",
     "output_type": "stream",
     "text": [
      "941\n",
      "195\n",
      "30\n"
     ]
    }
   ],
   "source": [
    "def build_journey_all(lines_nonempty):\n",
    "    \n",
    "    # wordcounts = lines_nonempty.map(lambda x:calc_path(x)).reduceByKey(lambda x,y:reduce_jouney_count_concat(x,y)).map(lambda x:(x[1][0],(x[0],x[1][1]))).sortByKey(False)\n",
    "    wordcounts = lines_nonempty.map(lambda x:devide_cust_id_path(x)).map(lambda x:build_path2cust_list(x)).reduceByKey(lambda x,y:reduce_jouney_count_concat(x,y)).map(lambda x:(x[1][0],(x[0],x[1][1]))).sortByKey(False)\n",
    "    print(wordcounts.count())\n",
    "    #wordcounts.take(1)\n",
    "    sankey_links = wordcounts.flatMap(flatmap_jouney).map(split_map_journey).reduceByKey(lambda x,y:x+y).map(lambda x:(x[1],x[0])).sortByKey(False)\n",
    "    print(sankey_links.count())\n",
    "    # sankey_links.take(25)\n",
    "\n",
    "    sankey_nodes = wordcounts.flatMap(flatmap_jouney_nodes).map(lambda x: (x, 1)).reduceByKey(lambda x,y:x+y).map(lambda x:(x[1],x[0])).sortByKey(False)\n",
    "    print(sankey_nodes.count())\n",
    "    # sankey_nodes.collect()\n",
    "    return wordcounts,sankey_links, sankey_nodes\n",
    "\n",
    "\n",
    "wordcounts,sankey_links, sankey_nodes = build_journey_all(lines_nonempty)"
   ]
  },
  {
   "cell_type": "code",
   "execution_count": 15,
   "metadata": {
    "collapsed": false
   },
   "outputs": [],
   "source": [
    "# wordcounts.take(2)"
   ]
  },
  {
   "cell_type": "code",
   "execution_count": null,
   "metadata": {
    "collapsed": false
   },
   "outputs": [],
   "source": []
  },
  {
   "cell_type": "code",
   "execution_count": 16,
   "metadata": {
    "collapsed": true
   },
   "outputs": [],
   "source": [
    "def create_sankey_json(sankey_nodes,sankey_links, NUMBER_OF_NODES):\n",
    "    a = sankey_nodes.take(NUMBER_OF_NODES)\n",
    "    node_dict = {}\n",
    "    mynodes = []\n",
    "    for i in range(len(a)):\n",
    "        node_dict[a[i][1]] = i\n",
    "        mynodes.append({\"name\":a[i][1]})\n",
    "\n",
    "    ll = sankey_links.collect()\n",
    "    mylinks = []\n",
    "    # {\"source\":0,\"target\":1,\"value\":2}\n",
    "    for i in range(len(ll)):\n",
    "        if (ll[i][1].split(',')[0]  in node_dict.keys() and ll[i][1].split(',')[1]  in node_dict.keys()  ):\n",
    "            source_node = node_dict[ ll[i][1].split(',')[0]  ] \n",
    "            target_node = node_dict[ ll[i][1].split(',')[1]  ] \n",
    "            mylinks.append({\"source\":source_node,\"target\":target_node,\"value\":ll[i][0]})\n",
    "    pydata = {\"nodes\":mynodes,\n",
    "              \"links\":mylinks}\n",
    "    return pydata\n"
   ]
  },
  {
   "cell_type": "code",
   "execution_count": 17,
   "metadata": {
    "collapsed": false
   },
   "outputs": [],
   "source": [
    "pydata = create_sankey_json(sankey_nodes,sankey_links, NUMBER_OF_NODES)\n",
    "\n",
    "import json\n",
    "with open('/home/duan/github/customer_segmentation/data/sankey/sankey.json', 'w') as outfile:\n",
    "    json.dump(pydata, outfile)\n",
    "     "
   ]
  },
  {
   "cell_type": "code",
   "execution_count": null,
   "metadata": {
    "collapsed": true
   },
   "outputs": [],
   "source": []
  },
  {
   "cell_type": "code",
   "execution_count": 18,
   "metadata": {
    "collapsed": false
   },
   "outputs": [],
   "source": [
    "from pyspark.sql import SQLContext, Row\n",
    "sqlContext = SQLContext(sc)\n",
    "# Load a text file and convert each line to a Row.  \n",
    "journey_rows = wordcounts.map(lambda p: Row(visitor_count=p[0], journey= p[1][0], visitor_list=p[1][1]))\n",
    "\n",
    "# Infer the schema, and register the DataFrame as a table.\n",
    "schemaPeople = sqlContext.createDataFrame(journey_rows)\n",
    "schemaPeople.registerTempTable(\"journey_table\")"
   ]
  },
  {
   "cell_type": "code",
   "execution_count": 19,
   "metadata": {
    "collapsed": false,
    "scrolled": true
   },
   "outputs": [],
   "source": [
    "# teenagers = sqlContext.sql(\"SELECT * FROM journey_table WHERE visitor_count >= 600\")"
   ]
  },
  {
   "cell_type": "code",
   "execution_count": 20,
   "metadata": {
    "collapsed": true
   },
   "outputs": [],
   "source": [
    "cust_journey_df = schemaPeople.toPandas()"
   ]
  },
  {
   "cell_type": "code",
   "execution_count": 21,
   "metadata": {
    "collapsed": false
   },
   "outputs": [],
   "source": [
    "# cust_journey_df.to_csv('/home/duan/github/customer_segmentation/data/cust_profile_df/cust_journey_df.csv')\n",
    "orig_cust_journey_df = cust_journey_df\n",
    "# orig_cust_journey_df = pd.DataFrame.from_csv('/home/duan/sankey_proj/sankey_notebook/data/cust_profile_df/cust_journey_df.csv')"
   ]
  },
  {
   "cell_type": "code",
   "execution_count": 22,
   "metadata": {
    "collapsed": false,
    "scrolled": true
   },
   "outputs": [
    {
     "data": {
      "text/plain": [
       "journey          941\n",
       "visitor_count    941\n",
       "visitor_list     941\n",
       "dtype: int64"
      ]
     },
     "execution_count": 22,
     "metadata": {},
     "output_type": "execute_result"
    }
   ],
   "source": [
    "cust_journey_df.count()"
   ]
  },
  {
   "cell_type": "code",
   "execution_count": 23,
   "metadata": {
    "collapsed": false
   },
   "outputs": [
    {
     "data": {
      "text/plain": [
       "[('red2', (30, 50)), ('red', (20, 40))]"
      ]
     },
     "execution_count": 23,
     "metadata": {},
     "output_type": "execute_result"
    }
   ],
   "source": [
    "rdd = sc.parallelize([(\"red\",20),(\"red2\",30),(\"blue\", 100)])\n",
    "rdd2 = sc.parallelize([(\"red\",40),(\"red2\",50),(\"yellow\", 10000)])\n",
    "rdd.join(rdd2).collect()"
   ]
  },
  {
   "cell_type": "code",
   "execution_count": 24,
   "metadata": {
    "collapsed": true
   },
   "outputs": [],
   "source": [
    "def build_journey_with_customer_filter(lines_nonempty,cust_list):\n",
    "    cust_list_rdd = sc.parallelize(cust_list)\n",
    "    selected_cust_journey_lines  = 1\n",
    "    # TODO , TODO: map customer id first.\n",
    "\n",
    "\n",
    "    wordcounts = lines_nonempty.map(lambda x:devide_cust_id_path(x)).join(cust_list_rdd)\\\n",
    "                 .map(lambda x:build_path2cust_list_with_sentiment(x))\\\n",
    "                 .reduceByKey(lambda x,y:reduce_jouney_count_concat(x,y))\\\n",
    "                 .map(lambda x:(x[1][0],(x[0],x[1][1]))).sortByKey(False)\n",
    "    print(wordcounts.count())\n",
    "    #wordcounts.take(1)\n",
    "    sankey_links = wordcounts.flatMap(flatmap_jouney).map(split_map_journey).reduceByKey(lambda x,y:x+y).map(lambda x:(x[1],x[0])).sortByKey(False)\n",
    "    print(sankey_links.count())\n",
    "    # sankey_links.take(25)\n",
    "\n",
    "    sankey_nodes = wordcounts.flatMap(flatmap_jouney_nodes).map(lambda x: (x, 1)).reduceByKey(lambda x,y:x+y).map(lambda x:(x[1],x[0])).sortByKey(False)\n",
    "    print(sankey_nodes.count())\n",
    "    # sankey_nodes.collect()\n",
    "    return wordcounts,sankey_links, sankey_nodes\n"
   ]
  },
  {
   "cell_type": "code",
   "execution_count": 25,
   "metadata": {
    "collapsed": true
   },
   "outputs": [],
   "source": [
    "import pandas as pd\n",
    "import matplotlib.pyplot as plt\n",
    "import matplotlib\n",
    "matplotlib.style.use('ggplot')\n",
    "%matplotlib inline\n",
    "\n",
    "# cust_df = pd.DataFrame.from_csv('/home/duan/github/customer_segmentation/data/cust_profile_df/cust_telco_profile_df.csv')\n",
    "cust_df = pd.DataFrame.from_csv('/home/duan/github/customer_segmentation/data/cust_profile_df/cust_sentiment_gender_df.csv')\n",
    "\n"
   ]
  },
  {
   "cell_type": "code",
   "execution_count": 29,
   "metadata": {
    "collapsed": false
   },
   "outputs": [],
   "source": [
    "cust_list_df = cust_df[cust_df['gender'] == 'M'][['cust_id','sentiment']]\n",
    "cust_list = [tuple(x) for x in cust_list_df.values]\n",
    "# cust_list"
   ]
  },
  {
   "cell_type": "code",
   "execution_count": 40,
   "metadata": {
    "collapsed": false
   },
   "outputs": [
    {
     "name": "stdout",
     "output_type": "stream",
     "text": [
      "501\n",
      "190\n",
      "30\n"
     ]
    }
   ],
   "source": [
    "new_journey_rdd,new_sankey_links, new_sankey_nodes = build_journey_with_customer_filter(lines_nonempty,cust_list)\n",
    "new_sankey_json = create_sankey_json(new_sankey_nodes,new_sankey_links, NUMBER_OF_NODES)"
   ]
  },
  {
   "cell_type": "code",
   "execution_count": 31,
   "metadata": {
    "collapsed": false
   },
   "outputs": [],
   "source": [
    "import ipywidgets as widgets\n",
    "import traitlets # import CInt, Unicode\n",
    "from IPython.display import HTML\n",
    "from IPython import display\n",
    "\n",
    "class D3SankeyWidget(widgets.DOMWidget):\n",
    "    # the name of the requirejs module (no .js!)\n",
    "    _view_module = traitlets.Unicode(\n",
    "        'd3sankeyview').tag(sync=True)\n",
    "    # the name of the Backbone.View subclass to be used\n",
    "    _view_name = traitlets.Unicode(\n",
    "        'D3SankeyView').tag(sync=True) \n",
    "    \n",
    "    # the name of the CSS file to load with this widget\n",
    "    _view_style = traitlets.Unicode(\n",
    "        'nbextensions/ipythond3sankey/css/widget_d3sankey').tag(sync=True)\n",
    "    \n",
    "    # the actual value: lists of nodes and links\n",
    "    nodes = traitlets.List().tag(sync=True)\n",
    "    links = traitlets.List().tag(sync=True)\n",
    "    node_link_json = traitlets.Unicode('{}').tag(sync=True)\n",
    "\n",
    "    selected_json = traitlets.Unicode().tag(sync=True)\n",
    "    \n",
    "    # margins & size\n",
    "    margin_top = traitlets.Float(1).tag(sync=True)\n",
    "    margin_right = traitlets.Float(1).tag(sync=True)\n",
    "    margin_bottom = traitlets.Float(6).tag(sync=True)\n",
    "    margin_left = traitlets.Float(1).tag(sync=True)\n",
    "    width = traitlets.Float(960).tag(sync=True)\n",
    "    height = traitlets.Float(500).tag(sync=True)\n",
    "    \n",
    "    unit = traitlets.Unicode('').tag(sync=True)\n",
    "\n",
    "    "
   ]
  },
  {
   "cell_type": "code",
   "execution_count": 32,
   "metadata": {
    "collapsed": false
   },
   "outputs": [
    {
     "data": {
      "text/html": [
       "\n",
       "    <style>\n",
       "      .node rect {\n",
       "        fill-opacity: .9;\n",
       "        shape-rendering: crispEdges;\n",
       "        stroke-width: 0;\n",
       "      }\n",
       "      .node text {\n",
       "        text-shadow: 0 1px 0 #fff;\n",
       "      }\n",
       "      .link {\n",
       "        fill: none;\n",
       "        stroke: #000;\n",
       "        stroke-opacity: .2;\n",
       "      }\n",
       "    </style>\n"
      ],
      "text/plain": [
       "<IPython.core.display.HTML object>"
      ]
     },
     "execution_count": 32,
     "metadata": {},
     "output_type": "execute_result"
    }
   ],
   "source": [
    "HTML('''\n",
    "    <style>\n",
    "      .node rect {\n",
    "        fill-opacity: .9;\n",
    "        shape-rendering: crispEdges;\n",
    "        stroke-width: 0;\n",
    "      }\n",
    "      .node text {\n",
    "        text-shadow: 0 1px 0 #fff;\n",
    "      }\n",
    "      .link {\n",
    "        fill: none;\n",
    "        stroke: #000;\n",
    "        stroke-opacity: .2;\n",
    "      }\n",
    "    </style>\n",
    "''')\n",
    "    "
   ]
  },
  {
   "cell_type": "code",
   "execution_count": 33,
   "metadata": {
    "collapsed": false
   },
   "outputs": [
    {
     "data": {
      "application/javascript": [
       "require.config({\n",
       "  paths: {\n",
       "      d3: '/custom/d3sankey/js/d3',\n",
       "      jquery: '/custom/d3sankey/js/jquery',\n",
       "      underscore: '/custom/d3sankey/js/underscore',\n",
       "      sankey: '/custom/d3sankey/js/sankey',\n",
       "      d3_chart: '/custom/d3sankey/js/d3.chart',\n",
       "      d3_chart_sankey: '/custom/d3sankey/js/d3.chart.sankey',\n",
       "  },\n",
       "  shim: {\n",
       "    'sankey': { deps:  ['d3']},\n",
       "    'd3_chart': { deps:  ['d3']},\n",
       "    'd3_chart_sankey': { deps:  ['d3_chart']}\n",
       "  },\n",
       "});\n",
       "\n",
       "/* //cdnjs.cloudflare.com/ajax/libs/d3/3.4.8/d3.min\n",
       "  'jquery',\n",
       "  'underscore',\n",
       "\n",
       "  // ipython API\n",
       "  'widgets/js/widget',\n",
       "\n",
       "  // local imports\n",
       "  './utils',\n",
       "  './d3.min',\n",
       "  './sankey',\n",
       "*/\n",
       "      "
      ],
      "text/plain": [
       "<IPython.core.display.Javascript object>"
      ]
     },
     "metadata": {},
     "output_type": "display_data"
    }
   ],
   "source": [
    "%%javascript\n",
    "require.config({\n",
    "  paths: {\n",
    "      d3: '/custom/d3sankey/js/d3',\n",
    "      jquery: '/custom/d3sankey/js/jquery',\n",
    "      underscore: '/custom/d3sankey/js/underscore',\n",
    "      sankey: '/custom/d3sankey/js/sankey',\n",
    "      d3_chart: '/custom/d3sankey/js/d3.chart',\n",
    "      d3_chart_sankey: '/custom/d3sankey/js/d3.chart.sankey',\n",
    "  },\n",
    "  shim: {\n",
    "    'sankey': { deps:  ['d3']},\n",
    "    'd3_chart': { deps:  ['d3']},\n",
    "    'd3_chart_sankey': { deps:  ['d3_chart']}\n",
    "  },\n",
    "});\n",
    "\n",
    "/* //cdnjs.cloudflare.com/ajax/libs/d3/3.4.8/d3.min\n",
    "  'jquery',\n",
    "  'underscore',\n",
    "\n",
    "  // ipython API\n",
    "  'widgets/js/widget',\n",
    "\n",
    "  // local imports\n",
    "  './utils',\n",
    "  './d3.min',\n",
    "  './sankey',\n",
    "*/\n",
    "      "
   ]
  },
  {
   "cell_type": "code",
   "execution_count": 34,
   "metadata": {
    "collapsed": true
   },
   "outputs": [],
   "source": [
    "def jouney_covered_check(nodelist, journey):\n",
    "    jnodes = journey.split(',')\n",
    "    for anode in jnodes:\n",
    "        if not anode in nodelist:\n",
    "            return False\n",
    "    return True\n",
    "# jouney_covered_check({\"store_visit:0\":\"y\",\"store_visit:1\":\"y\",\"store_visit:2\":\"y\",\"buy:99\":\"y\"}.keys(), 'web_call:0,app:1,web_chat:2,no_buy:99') \n",
    "def collect_customer_from_journey(selected_journey_df):\n",
    "    selected_id = []\n",
    "    for index, row in selected_journey_df.iterrows(): \n",
    "        selected_id.extend(str(row['visitor_list']).split(','))\n",
    "    return list(set(selected_id))"
   ]
  },
  {
   "cell_type": "code",
   "execution_count": 35,
   "metadata": {
    "collapsed": false
   },
   "outputs": [
    {
     "data": {
      "application/javascript": [
       "// widget_d3sankey.js @ /home/duan/anaconda3/lib/python3.5/site-packages/ipythond3sankey/static/ipythond3sankey/js\n",
       "requirejs.undef('d3sankeyview');\n",
       "var global_json_data = {'test':'testduan'}\n",
       "var rect_selected = {}\n",
       "var rect_color = {}\n",
       "\n",
       "define('d3sankeyview', [\"jupyter-js-widgets\"], function(widgets) {\n",
       "  var D3SankeyView = widgets.DOMWidgetView.extend({\n",
       "    // namespace your CSS so that you don't break other people's stuff\n",
       "    className: 'D3SankeyView',\n",
       "\n",
       "    //loadCss: utils.loadCss,\n",
       "\n",
       "    // Initialize DOM, etc. called once per view creation,\n",
       "    // i.e. `display(widget)`\n",
       "    render: function() {\n",
       "\n",
       "      // add a stylesheet, if defined in `_view_style`\n",
       "      //this.loadCss();\n",
       "      var thatthis = this;\n",
       "      var graph = JSON.parse(this.model.get('node_link_json'));\n",
       "      console.log('started drawing for json: ' );\n",
       "      console.log( graph );\n",
       "\n",
       "      require(['d3','jquery', 'underscore', 'sankey','d3_chart','d3_chart_sankey'], \n",
       "              function(d3,$,_, sankey,d3_chart, d3_chart_sankey) {\n",
       "\n",
       "      \n",
       "      console.log('started margin_top 2.' + thatthis.model.get('margin_top'));\n",
       "      // console.log('started margin_top 3.' + this.model.get('margin_top'));\n",
       "      // setup\n",
       "      // XXX margins, width and height not updated\n",
       "      var margin = {top:    thatthis.model.get('margin_top'),\n",
       "                    right:  thatthis.model.get('margin_right'),\n",
       "                    bottom: thatthis.model.get('margin_bottom'),\n",
       "                    left:   thatthis.model.get('margin_left')},\n",
       "          width = thatthis.model.get('width') - margin.left - margin.right,\n",
       "          height = thatthis.model.get('height') - margin.top - margin.bottom;\n",
       "\n",
       "      thatthis.width = width;\n",
       "      thatthis.height = height;\n",
       "\n",
       "      var formatNumber = d3.format(\",.0f\"),\n",
       "          unit = thatthis.model.get('unit');\n",
       "\n",
       "      var format = function(d) { return formatNumber(d) + \" \" + unit; };\n",
       "      var color = d3.scale.category20();\n",
       "\n",
       "      var svg = d3.select(thatthis.$el[0]).append(\"svg\")\n",
       "          .attr(\"width\", width + margin.left + margin.right)\n",
       "          .attr(\"height\", height + margin.top + margin.bottom)\n",
       "          .append(\"g\")\n",
       "          .attr(\"transform\",\n",
       "                \"translate(\" + margin.left + \",\" + margin.top + \")\");\n",
       "    // Set the sankey diagram properties\n",
       "    var sankey = d3.sankey()\n",
       "        .nodeWidth(36)\n",
       "        .nodePadding(40)\n",
       "        .size([width, height]);\n",
       "\n",
       "var path = sankey.link();\n",
       "\n",
       "\n",
       "\n",
       "  //set up graph in same style as original example but empty\n",
       " console.log(JSON.stringify(graph));\n",
       "\n",
       "  sankey\n",
       "    .nodes(graph.nodes)\n",
       "    .links(graph.links)\n",
       "    .layout(32);\n",
       " console.log( 'add in the links' );\n",
       "\n",
       "// add in the links\n",
       "  var link = svg.append(\"g\").selectAll(\".link\")\n",
       "      .data(graph.links)\n",
       "    .enter().append(\"path\")\n",
       "      .attr(\"class\", \"link\")\n",
       "      .attr(\"d\", path)\n",
       "      .style(\"stroke-width\", function(d) { return Math.max(1, d.dy); })\n",
       "      .sort(function(a, b) { return b.dy - a.dy; });\n",
       "\n",
       "// add the link titles\n",
       "  link.append(\"title\")\n",
       "        .text(function(d) {\n",
       "    \t\treturn d.source.name + \" → \" + \n",
       "                d.target.name + \"\\n\" + format(d.value); });\n",
       " console.log( 'add in the nodes' );\n",
       "\n",
       "          \n",
       "// add in the nodes\n",
       "  var node = svg.append(\"g\").selectAll(\".node\")\n",
       "      .data(graph.nodes)\n",
       "    .enter().append(\"g\")\n",
       "      .attr(\"class\", \"node\")\n",
       "      .attr(\"transform\", function(d) { \n",
       "\t\t  return \"translate(\" + d.x + \",\" + d.y + \")\"; })\n",
       "    .call(d3.behavior.drag()\n",
       "      .origin(function(d) { return d; })\n",
       "      .on(\"dragstart\", function() { \n",
       "\t\t  this.parentNode.appendChild(this); })\n",
       "      .on(\"drag\", dragmove));\n",
       "\n",
       "// add the rectangles for the nodes\n",
       "  node.append(\"rect\")\n",
       "      .attr(\"height\", function(d) { return d.dy; })\n",
       "      .attr(\"width\", sankey.nodeWidth())\n",
       "      .style(\"fill\", function(d) { \n",
       "\t\t  return d.color = color(d.name.replace(/ .*/, \"\")); })\n",
       "      .style(\"stroke\", function(d) { \n",
       "\t\t  return d3.rgb(d.color).darker(2); })\n",
       "    .append(\"title\")\n",
       "      .text(function(d) { \n",
       "\t\t  return d.name + \"\\n\" + format(d.value); });\n",
       "\n",
       "// add in the title for the nodes\n",
       "  node.append(\"text\")\n",
       "      .attr(\"x\", -6)\n",
       "      .attr(\"y\", function(d) { return d.dy / 2; })\n",
       "      .attr(\"dy\", \".35em\")\n",
       "      .attr(\"text-anchor\", \"end\")\n",
       "      .attr(\"transform\", null)\n",
       "      .text(function(d) { return d.name; })\n",
       "    .filter(function(d) { return d.x < width / 2; })\n",
       "      .attr(\"x\", 6 + sankey.nodeWidth())\n",
       "      .attr(\"text-anchor\", \"start\");\n",
       "\n",
       "// the function for moving the nodes\n",
       "  function dragmove(d) {\n",
       "    d3.select(this).attr(\"transform\", \n",
       "        \"translate(\" + d.x + \",\" + (\n",
       "                d.y = Math.max(0, Math.min(height - d.dy, d3.event.y))\n",
       "            ) + \")\");\n",
       "    sankey.relayout();\n",
       "    link.attr(\"d\", path);\n",
       "  }\n",
       "           \n",
       "d3.selectAll(\"rect\")\n",
       ".on(\"click\",function(d,i){\n",
       "        // alert(\"clicked!\"+d.value+\":\"+ d.name);\n",
       "        console.log(\"clicked!\"+d.value+\":\"+ d.name);\n",
       "        console.log('current fill core is: ');\n",
       "        console.log(d3.select(this).style('fill'));\n",
       "        if (rect_selected[d.name]  === undefined) {\n",
       "            console.log('first time click');\n",
       "            rect_selected[d.name] ='y';\n",
       "            rect_color[d.name] = d3.select(this).style('fill');\n",
       "            d3.select(this).style('fill','red');\n",
       "        } else if (rect_selected[d.name]  == 'y') { \n",
       "            console.log('revert back to original color');\n",
       "            rect_selected[d.name] ='n';\n",
       "            d3.select(this).style('fill',rect_color[d.name]);\n",
       "        } else{\n",
       "            console.log('not first time click, but selected');\n",
       "            rect_selected[d.name] ='y';\n",
       "            rect_color[d.name] = d3.select(this).style('fill');\n",
       "            d3.select(this).style('fill','red');\n",
       "        }\n",
       "        console.log(JSON.stringify(rect_selected));\n",
       "        console.log( (rect_selected));\n",
       "    \n",
       "        console.log('current selected_json is: ');\n",
       "        console.log( thatthis.model.get('selected_json'));\n",
       "        thatthis.model.set('selected_json',JSON.stringify(rect_selected));\n",
       "\n",
       "        thatthis.touch();\n",
       "        console.log( thatthis.model.get('selected_json'));\n",
       "        \n",
       "    \n",
       "    })  \n",
       "//console.log('setup trigger is done 3');\n",
       "//console.log(d3.selectAll('rect'));\n",
       "\n",
       "          \n",
       "      return thatthis;\n",
       " \n",
       "      });\n",
       "    }, // /render\n",
       "\n",
       "    // Do things that are updated every time `this.model` is changed...\n",
       "    // from the front-end or backend.\n",
       "    update: function(options) {\n",
       "\n",
       "      console.log('update function called');\n",
       "         \n",
       "    }, // /update\n",
       "\n",
       "\n",
       "    // Tell Backbone to listen to events (none for now)\n",
       "    events: {\n",
       "    },\n",
       "\n",
       "  }); // /extend\n",
       "\n",
       "  // The requirej6s namespace.\n",
       "  return {\n",
       "    D3SankeyView: D3SankeyView\n",
       "  };\n",
       "});\n",
       "\n",
       "console.log(global_json_data)"
      ],
      "text/plain": [
       "<IPython.core.display.Javascript object>"
      ]
     },
     "metadata": {},
     "output_type": "display_data"
    }
   ],
   "source": [
    "%%javascript\n",
    "// widget_d3sankey.js @ /home/duan/anaconda3/lib/python3.5/site-packages/ipythond3sankey/static/ipythond3sankey/js\n",
    "requirejs.undef('d3sankeyview');\n",
    "var global_json_data = {'test':'testduan'}\n",
    "var rect_selected = {}\n",
    "var rect_color = {}\n",
    "\n",
    "define('d3sankeyview', [\"jupyter-js-widgets\"], function(widgets) {\n",
    "  var D3SankeyView = widgets.DOMWidgetView.extend({\n",
    "    // namespace your CSS so that you don't break other people's stuff\n",
    "    className: 'D3SankeyView',\n",
    "\n",
    "    //loadCss: utils.loadCss,\n",
    "\n",
    "    // Initialize DOM, etc. called once per view creation,\n",
    "    // i.e. `display(widget)`\n",
    "    render: function() {\n",
    "\n",
    "      // add a stylesheet, if defined in `_view_style`\n",
    "      //this.loadCss();\n",
    "      var thatthis = this;\n",
    "      var graph = JSON.parse(this.model.get('node_link_json'));\n",
    "      console.log('started drawing for json: ' );\n",
    "      console.log( graph );\n",
    "\n",
    "      require(['d3','jquery', 'underscore', 'sankey','d3_chart','d3_chart_sankey'], \n",
    "              function(d3,$,_, sankey,d3_chart, d3_chart_sankey) {\n",
    "\n",
    "      \n",
    "      console.log('started margin_top 2.' + thatthis.model.get('margin_top'));\n",
    "      // console.log('started margin_top 3.' + this.model.get('margin_top'));\n",
    "      // setup\n",
    "      // XXX margins, width and height not updated\n",
    "      var margin = {top:    thatthis.model.get('margin_top'),\n",
    "                    right:  thatthis.model.get('margin_right'),\n",
    "                    bottom: thatthis.model.get('margin_bottom'),\n",
    "                    left:   thatthis.model.get('margin_left')},\n",
    "          width = thatthis.model.get('width') - margin.left - margin.right,\n",
    "          height = thatthis.model.get('height') - margin.top - margin.bottom;\n",
    "\n",
    "      thatthis.width = width;\n",
    "      thatthis.height = height;\n",
    "\n",
    "      var formatNumber = d3.format(\",.0f\"),\n",
    "          unit = thatthis.model.get('unit');\n",
    "\n",
    "      var format = function(d) { return formatNumber(d) + \" \" + unit; };\n",
    "      var color = d3.scale.category20();\n",
    "\n",
    "      var svg = d3.select(thatthis.$el[0]).append(\"svg\")\n",
    "          .attr(\"width\", width + margin.left + margin.right)\n",
    "          .attr(\"height\", height + margin.top + margin.bottom)\n",
    "          .append(\"g\")\n",
    "          .attr(\"transform\",\n",
    "                \"translate(\" + margin.left + \",\" + margin.top + \")\");\n",
    "    // Set the sankey diagram properties\n",
    "    var sankey = d3.sankey()\n",
    "        .nodeWidth(36)\n",
    "        .nodePadding(40)\n",
    "        .size([width, height]);\n",
    "\n",
    "var path = sankey.link();\n",
    "\n",
    "\n",
    "\n",
    "  //set up graph in same style as original example but empty\n",
    " console.log(JSON.stringify(graph));\n",
    "\n",
    "  sankey\n",
    "    .nodes(graph.nodes)\n",
    "    .links(graph.links)\n",
    "    .layout(32);\n",
    " console.log( 'add in the links' );\n",
    "\n",
    "// add in the links\n",
    "  var link = svg.append(\"g\").selectAll(\".link\")\n",
    "      .data(graph.links)\n",
    "    .enter().append(\"path\")\n",
    "      .attr(\"class\", \"link\")\n",
    "      .attr(\"d\", path)\n",
    "      .style(\"stroke-width\", function(d) { return Math.max(1, d.dy); })\n",
    "      .sort(function(a, b) { return b.dy - a.dy; });\n",
    "\n",
    "// add the link titles\n",
    "  link.append(\"title\")\n",
    "        .text(function(d) {\n",
    "    \t\treturn d.source.name + \" → \" + \n",
    "                d.target.name + \"\\n\" + format(d.value); });\n",
    " console.log( 'add in the nodes' );\n",
    "\n",
    "          \n",
    "// add in the nodes\n",
    "  var node = svg.append(\"g\").selectAll(\".node\")\n",
    "      .data(graph.nodes)\n",
    "    .enter().append(\"g\")\n",
    "      .attr(\"class\", \"node\")\n",
    "      .attr(\"transform\", function(d) { \n",
    "\t\t  return \"translate(\" + d.x + \",\" + d.y + \")\"; })\n",
    "    .call(d3.behavior.drag()\n",
    "      .origin(function(d) { return d; })\n",
    "      .on(\"dragstart\", function() { \n",
    "\t\t  this.parentNode.appendChild(this); })\n",
    "      .on(\"drag\", dragmove));\n",
    "\n",
    "// add the rectangles for the nodes\n",
    "  node.append(\"rect\")\n",
    "      .attr(\"height\", function(d) { return d.dy; })\n",
    "      .attr(\"width\", sankey.nodeWidth())\n",
    "      .style(\"fill\", function(d) { \n",
    "\t\t  return d.color = color(d.name.replace(/ .*/, \"\")); })\n",
    "      .style(\"stroke\", function(d) { \n",
    "\t\t  return d3.rgb(d.color).darker(2); })\n",
    "    .append(\"title\")\n",
    "      .text(function(d) { \n",
    "\t\t  return d.name + \"\\n\" + format(d.value); });\n",
    "\n",
    "// add in the title for the nodes\n",
    "  node.append(\"text\")\n",
    "      .attr(\"x\", -6)\n",
    "      .attr(\"y\", function(d) { return d.dy / 2; })\n",
    "      .attr(\"dy\", \".35em\")\n",
    "      .attr(\"text-anchor\", \"end\")\n",
    "      .attr(\"transform\", null)\n",
    "      .text(function(d) { return d.name; })\n",
    "    .filter(function(d) { return d.x < width / 2; })\n",
    "      .attr(\"x\", 6 + sankey.nodeWidth())\n",
    "      .attr(\"text-anchor\", \"start\");\n",
    "\n",
    "// the function for moving the nodes\n",
    "  function dragmove(d) {\n",
    "    d3.select(this).attr(\"transform\", \n",
    "        \"translate(\" + d.x + \",\" + (\n",
    "                d.y = Math.max(0, Math.min(height - d.dy, d3.event.y))\n",
    "            ) + \")\");\n",
    "    sankey.relayout();\n",
    "    link.attr(\"d\", path);\n",
    "  }\n",
    "           \n",
    "d3.selectAll(\"rect\")\n",
    ".on(\"click\",function(d,i){\n",
    "        // alert(\"clicked!\"+d.value+\":\"+ d.name);\n",
    "        console.log(\"clicked!\"+d.value+\":\"+ d.name);\n",
    "        console.log('current fill core is: ');\n",
    "        console.log(d3.select(this).style('fill'));\n",
    "        if (rect_selected[d.name]  === undefined) {\n",
    "            console.log('first time click');\n",
    "            rect_selected[d.name] ='y';\n",
    "            rect_color[d.name] = d3.select(this).style('fill');\n",
    "            d3.select(this).style('fill','red');\n",
    "        } else if (rect_selected[d.name]  == 'y') { \n",
    "            console.log('revert back to original color');\n",
    "            rect_selected[d.name] ='n';\n",
    "            d3.select(this).style('fill',rect_color[d.name]);\n",
    "        } else{\n",
    "            console.log('not first time click, but selected');\n",
    "            rect_selected[d.name] ='y';\n",
    "            rect_color[d.name] = d3.select(this).style('fill');\n",
    "            d3.select(this).style('fill','red');\n",
    "        }\n",
    "        console.log(JSON.stringify(rect_selected));\n",
    "        console.log( (rect_selected));\n",
    "    \n",
    "        console.log('current selected_json is: ');\n",
    "        console.log( thatthis.model.get('selected_json'));\n",
    "        thatthis.model.set('selected_json',JSON.stringify(rect_selected));\n",
    "\n",
    "        thatthis.touch();\n",
    "        console.log( thatthis.model.get('selected_json'));\n",
    "        \n",
    "    \n",
    "    })  \n",
    "//console.log('setup trigger is done 3');\n",
    "//console.log(d3.selectAll('rect'));\n",
    "\n",
    "          \n",
    "      return thatthis;\n",
    " \n",
    "      });\n",
    "    }, // /render\n",
    "\n",
    "    // Do things that are updated every time `this.model` is changed...\n",
    "    // from the front-end or backend.\n",
    "    update: function(options) {\n",
    "\n",
    "      console.log('update function called');\n",
    "         \n",
    "    }, // /update\n",
    "\n",
    "\n",
    "    // Tell Backbone to listen to events (none for now)\n",
    "    events: {\n",
    "    },\n",
    "\n",
    "  }); // /extend\n",
    "\n",
    "  // The requirej6s namespace.\n",
    "  return {\n",
    "    D3SankeyView: D3SankeyView\n",
    "  };\n",
    "});\n",
    "\n",
    "console.log(global_json_data)"
   ]
  },
  {
   "cell_type": "code",
   "execution_count": 42,
   "metadata": {
    "collapsed": false
   },
   "outputs": [],
   "source": [
    "\n",
    "import json\n",
    "#with open('/home/duan/sankey_proj/sankey_notebook/data/sample_sankey.json', 'r') as afile:\n",
    "#with open('/home/duan/sankey_proj/sankey_notebook/data/sankey.json', 'r') as afile:\n",
    "with open('/home/duan/github/customer_segmentation/data/sankey/sankey.json', 'r') as afile:\n",
    "    pydata = json.load(afile)\n",
    "json_string = json.dumps(pydata) #pydata\n",
    "\n",
    "d3sankeyExample = D3SankeyWidget(\n",
    "    node_link_json = json_string,\n",
    "    height = 300,\n",
    "    width = 760\n",
    ")\n",
    "d3sankeyExample"
   ]
  },
  {
   "cell_type": "code",
   "execution_count": 37,
   "metadata": {
    "collapsed": false
   },
   "outputs": [],
   "source": [
    "# Buttons: Reset, Select\n",
    "\n",
    "button = widgets.Button(description=\"Update\")\n",
    "button.button_style = 'info'\n",
    "button.margin = 5\n",
    "button.height = 3\n",
    "\n",
    "display.display(button)\n",
    "\n",
    "\n",
    "\n",
    "def on_button_clicked(b):\n",
    "    global global_selected_cust_df\n",
    "    # print(d3sankeyExample.selected_json)\n",
    "    if len(d3sankeyExample.selected_json) < 5 :\n",
    "        print('please select at least one node.')\n",
    "        return\n",
    "    ss_json = json.loads(d3sankeyExample.selected_json)\n",
    "    new_ss = {k: v for k, v in ss_json.items() if v == \"y\"}\n",
    "    selected_journey=new_ss.keys()\n",
    "    selected_journey_df=cust_journey_df[cust_journey_df.apply(lambda x: jouney_covered_check(selected_journey,x['journey']) , axis=1)]\n",
    "    collecteddf = {'cust_id':  collect_customer_from_journey(selected_journey_df)}\n",
    "    df_new = pd.DataFrame(collecteddf, columns = ['cust_id' ])\n",
    "    global_selected_cust_df = df_new\n",
    "    df_new = df_new.apply(pd.to_numeric, errors='ignore').sort_values(by='cust_id')\n",
    "    collected_df = pd.merge(df_new, cust_df, how='inner', left_on='cust_id', right_on='cust_id.1')\n",
    "    \n",
    "    \n",
    "    display.clear_output(wait=True)\n",
    "    fig, axs = plt.subplots(2,1,figsize=(3,4))\n",
    "    collected_df['sentiment'].hist(ax=axs[0])\n",
    "    collected_df['Day Mins'].hist(ax=axs[1])\n",
    "\n",
    "    axs[0].set_title('Post Journey Sentiment')\n",
    "    axs[1].set_title('Account Tenure (Months)')\n",
    "    \n",
    "\n",
    "\n",
    "\n",
    "button.on_click(on_button_clicked)"
   ]
  },
  {
   "cell_type": "code",
   "execution_count": 38,
   "metadata": {
    "collapsed": true
   },
   "outputs": [],
   "source": [
    "grade_top_row = widgets.HBox()\n",
    "\n",
    "hid_txt = widgets.HTML(\"Segment Name:\")\n",
    "hid_txt.font = 'helvetica'\n",
    "hid_txt.font_size = 30\n",
    "hid_txt.margin = 5\n",
    "algo_id_field = widgets.Text()\n",
    "algo_id_field.height = 35\n",
    "algo_id_field.value='Segment_1'\n",
    "\n",
    "grade_txt = widgets.HTML(\"Segment Type:\")\n",
    "grade_select = widgets.Dropdown(options=[\"Marketing\", \"Promotion\", \"Retension\"])\n",
    "\n",
    "\n",
    "\n",
    "grade_btn = widgets.Button(description=\"Create\")\n",
    "grade_btn.margin = 5\n",
    "grade_btn.button_style = 'info'\n",
    "\n",
    "\n",
    "grade_top_row.children = (hid_txt, algo_id_field, grade_txt, grade_select, grade_btn)\n",
    "grade_top_row.align = 'center'\n",
    "\n",
    "comment_field = widgets.Textarea(value='')\n",
    "comment_field.margin = 5\n",
    "comment_field.width = 378\n",
    "comment_field.cols = 55\n",
    "\n",
    "grade_form = widgets.VBox()\n",
    "grade_form.children = (grade_top_row, comment_field )\n",
    "\n",
    "\n",
    "def on_create_button_clicked(b):\n",
    "    # print(d3sankeyExample.selected_json)\n",
    "    if len(d3sankeyExample.selected_json) < 5 :\n",
    "        print('please select at least one node.')\n",
    "        return\n",
    "    new_seg = {'Seg_name': algo_id_field.value,\n",
    "               'Seg_type': grade_select.value,\n",
    "               'cust_ids': ','.join(global_selected_cust_df['cust_id'].tolist())\n",
    "              }\n",
    "    display.clear_output(wait=True)\n",
    "    # print(json.dumps(new_seg))\n",
    "    # print('<script> alert(\\'' + json.dumps(new_seg) + '\\'); </script>')\n",
    "    # HTML('<script> alert(\\'' + json.dumps(new_seg) + '\\'); </script>')\n",
    "    comment_field.value = json.dumps(new_seg)\n",
    "    \n",
    "\n",
    "\n",
    "\n",
    "grade_btn.on_click(on_create_button_clicked)\n",
    "\n",
    "\n",
    "display.display(grade_top_row)"
   ]
  },
  {
   "cell_type": "code",
   "execution_count": 39,
   "metadata": {
    "collapsed": true
   },
   "outputs": [],
   "source": [
    "display.display(comment_field)"
   ]
  },
  {
   "cell_type": "code",
   "execution_count": 43,
   "metadata": {
    "collapsed": true
   },
   "outputs": [],
   "source": [
    "json_string = json.dumps(new_sankey_json) #pydata\n",
    "\n",
    "new_jouney_sankey_widget = D3SankeyWidget(\n",
    "    node_link_json = json_string,\n",
    "    height = 300,\n",
    "    width = 760\n",
    ")\n",
    "new_jouney_sankey_widget"
   ]
  }
 ],
 "metadata": {
  "kernelspec": {
   "display_name": "Python 3",
   "language": "python",
   "name": "python3"
  },
  "language_info": {
   "codemirror_mode": {
    "name": "ipython",
    "version": 3
   },
   "file_extension": ".py",
   "mimetype": "text/x-python",
   "name": "python",
   "nbconvert_exporter": "python",
   "pygments_lexer": "ipython3",
   "version": "3.5.1"
  },
  "widgets": {
   "state": {
    "0d2c1692968f41488fd391e1eb552ba5": {
     "views": []
    },
    "11bccb14223d41ad9aaa2225d453353f": {
     "views": []
    },
    "15b804598b0c49a3bf1ca9b78257096b": {
     "views": []
    },
    "310d76bc130d4274afdfb19211c1cbb9": {
     "views": []
    },
    "3d3a6440348440bdbd97444dda7b15c4": {
     "views": []
    },
    "3de3ab52b435496589016c6c0712af44": {
     "views": []
    },
    "4c517b29d12c4c6ca80f483fff2a6e3a": {
     "views": []
    },
    "533dcc472093463e8880045638266c88": {
     "views": []
    },
    "62329b73818f4cd3be4e04ae6f9f6b5d": {
     "views": []
    },
    "6e790f4ca0034096b7e33fcbd06fe8cd": {
     "views": []
    },
    "74e313de6a1d4e7c9e18615203452c2d": {
     "views": []
    },
    "7b2b44a8f6c049de917808532b1d72cf": {
     "views": []
    },
    "8d43b1b1beb74170ba3e2231b882d99b": {
     "views": []
    },
    "90dc73563b2147a6aab40a793efc7f9c": {
     "views": [
      {
       "cell_index": 34
      }
     ]
    },
    "924b70e809024122849f99edc983e619": {
     "views": []
    },
    "afcd4a4e88e045acae362d3376a30ac5": {
     "views": [
      {
       "cell_index": 37
      }
     ]
    },
    "b9d969be71d746c5b9c6b69d61558c37": {
     "views": [
      {
       "cell_index": 36
      }
     ]
    },
    "c0701c32e81e4b3a9d50ea873d19c754": {
     "views": []
    },
    "d83070e3ac0245f98711bb9918c8754e": {
     "views": []
    },
    "e7fbfc670e034e1faa16476f48002577": {
     "views": [
      {
       "cell_index": 35
      }
     ]
    },
    "ec1ddda5e04c43c29a545e8b911c94a9": {
     "views": []
    },
    "f07527fce523442682d42a48a6de8c18": {
     "views": []
    },
    "f0db7343cc834647bc3a6e50c4efb726": {
     "views": []
    },
    "fecc087e6618480fbf5b7949e01e82ac": {
     "views": [
      {
       "cell_index": 38
      }
     ]
    }
   },
   "version": "1.1.2"
  }
 },
 "nbformat": 4,
 "nbformat_minor": 0
}
