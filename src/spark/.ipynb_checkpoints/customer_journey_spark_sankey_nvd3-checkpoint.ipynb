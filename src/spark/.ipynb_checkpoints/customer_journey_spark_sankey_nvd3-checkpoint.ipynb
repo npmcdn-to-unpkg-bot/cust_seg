{
 "cells": [
  {
   "cell_type": "code",
   "execution_count": 8,
   "metadata": {
    "collapsed": true,
    "urth": {
     "dashboard": {
      "hidden": true,
      "layout": {}
     }
    }
   },
   "outputs": [],
   "source": [
    "import pandas as pd\n",
    "import json\n",
    "import ipywidgets as widgets\n",
    "from IPython import display\n",
    "\n",
    "NUMBER_OF_NODES = 10\n",
    "\n",
    "lines = sc.textFile('file:///home/duan/github/customer_segmentation/data/journey_log/msnbc.numbered')\n",
    "lines_nonempty = lines.filter( lambda x: len(x) > 0 )\n",
    "\n",
    "cust_df = pd.DataFrame.from_csv('/home/duan/github/customer_segmentation/data/cust_profile_df/cust_sentiment_gender_df.csv')\n",
    "global_selected_cust_df = cust_df\n",
    "cust_journey_df=pd.DataFrame.from_csv('/home/duan/github/customer_segmentation/data/cust_profile_df/cust_journey_df.csv.new.1')\n"
   ]
  },
  {
   "cell_type": "code",
   "execution_count": 9,
   "metadata": {
    "collapsed": true,
    "urth": {
     "dashboard": {
      "hidden": true,
      "layout": {}
     }
    }
   },
   "outputs": [],
   "source": [
    "# Write the journey df to disk for later on computation.\n",
    "def build_journey_all(lines_nonempty):\n",
    "    wordcounts = build_journey_with_customer_filter(lines_nonempty, cust_list = None)\n",
    "    from pyspark.sql import SQLContext, Row\n",
    "    sqlContext = SQLContext(sc)\n",
    "    # Load a text file and convert each line to a Row.  \n",
    "    journey_rows = wordcounts.map(lambda p: Row(visitor_count=p[0], journey= p[1][0], visitor_list=p[1][1]))\n",
    "    # Infer the schema, and register the DataFrame as a table.\n",
    "    schemaPeople = sqlContext.createDataFrame(journey_rows)\n",
    "    # schemaPeople.registerTempTable(\"journey_table\")\n",
    "    cust_journey_df = schemaPeople.toPandas()\n",
    "    cust_journey_df.to_csv('/home/duan/github/customer_segmentation/data/cust_profile_df/cust_journey_df.csv.new.1')\n",
    "    return cust_journey_df\n",
    "# Only for first time, or schedule it every night.\n",
    "# cust_journey_df = build_journey_all(lines_nonempty)"
   ]
  },
  {
   "cell_type": "code",
   "execution_count": 10,
   "metadata": {
    "collapsed": false,
    "urth": {
     "dashboard": {
      "hidden": true,
      "layout": {}
     }
    }
   },
   "outputs": [],
   "source": [
    "from nvd3piewidget import (jouney_covered_check, \n",
    "                           collect_customer_from_journey, \n",
    "                           build_journey_with_customer_filter, \n",
    "                           selected_cust_sankey_json,\n",
    "                           selected_cust_sankey_json\n",
    "                           )\n",
    "from nvd3piewidget import D3SankeyWidget,NVD3PieWidget,NVD3BarWidget\n"
   ]
  },
  {
   "cell_type": "code",
   "execution_count": 11,
   "metadata": {
    "collapsed": true,
    "urth": {
     "dashboard": {
      "hidden": true,
      "layout": {}
     }
    }
   },
   "outputs": [],
   "source": [
    "def update_bar_chart(global_selected_cust_df):\n",
    "    hist1 = global_selected_cust_df['sentiment'].value_counts()\n",
    "    hist1.sort_index(ascending=True,inplace=True)\n",
    "    hist_dict=hist1.to_dict()\n",
    "    bar_value = [{\"y\": int(hist_dict[k]), \"x\": str(int(k))}  for k in hist_dict.keys() ]\n",
    "    data_barchart=[{\"values\": bar_value, \n",
    "                    \"key\": \"Sentiment Historgram\", \n",
    "                    \"yAxis\": \"1\"}]\n",
    "    bar_chart.json_data = json.dumps(data_barchart)\n",
    "def update_pie_chart(global_selected_cust_df):\n",
    "    hist1 = global_selected_cust_df['gender'].value_counts()\n",
    "    # hist1.sort_index(ascending=True,inplace=True)\n",
    "    hist_dict=hist1.to_dict()\n",
    "    gender_dict = {'F':'Female', 'M':'Male'}\n",
    "    bar_value = [{\"value\": int(hist_dict[k]), \"label\": gender_dict[k]}  \n",
    "                 for k in hist_dict.keys() ]\n",
    "    data_piechart=[{\"values\": bar_value, \n",
    "                    \"key\": \"Sentiment Historgram\" }]\n",
    "    pie_chart.json_data = json.dumps(data_piechart)\n",
    "\n",
    "def update_sankey_chart(global_selected_cust_df):\n",
    "    new_json_string = selected_cust_sankey_json(lines_nonempty, global_selected_cust_df[['cust_id']] ,NUMBER_OF_NODES, sc)\n",
    "    sankey_journey_widget.node_link_json = new_json_string\n",
    "# sankey_journey_widget.node_link_json = json_string\n",
    "# update_sankey_chart(global_selected_cust_df[global_selected_cust_df['gender']  == 'M' ] )\n",
    "\n",
    "def update_all_chart(global_selected_cust_df):\n",
    "    update_bar_chart(global_selected_cust_df)\n",
    "    update_pie_chart(global_selected_cust_df)\n",
    "    update_sankey_chart(global_selected_cust_df)\n",
    "    cust_count_string = '# of Customers: ' + str(global_selected_cust_df['cust_id'].count() )\n",
    "    comment_field.value = cust_count_string\n"
   ]
  },
  {
   "cell_type": "code",
   "execution_count": 12,
   "metadata": {
    "collapsed": false,
    "urth": {
     "dashboard": {
      "layout": {
       "col": 0,
       "height": 13,
       "row": 0,
       "width": null
      }
     }
    }
   },
   "outputs": [
    {
     "data": {
      "text/html": [
       "\n",
       "<style>\n",
       "#allchart {\n",
       "   height: 350px;\n",
       "   overflow: hidden;\n",
       "}\n",
       "#barchart {\n",
       "    width: 420px;\n",
       "    height: 350px;\n",
       "    float: right;\n",
       "}\n",
       "#piechart {\n",
       "    float: none; /* not needed, just for clarification */\n",
       "    height: 350px;\n",
       "    width: 420px;\n",
       "    overflow: hidden;\n",
       "</style>\n",
       "\n",
       "<div id=\"allchart\" >\n",
       "    <div id=\"barchart\"  >  &nbsp; &nbsp;  Sentiment Distribution\n",
       "        <svg ></svg>\n",
       "    </div>\n",
       "    <div id=\"piechart\"  > &nbsp; &nbsp; &nbsp; &nbsp; &nbsp; &nbsp;  Gender Distribution\n",
       "        <svg ></svg>\n",
       "    </div>\n",
       "</div>\n",
       "\n"
      ],
      "text/plain": [
       "<IPython.core.display.HTML object>"
      ]
     },
     "execution_count": 12,
     "metadata": {},
     "output_type": "execute_result"
    }
   ],
   "source": [
    "from IPython.display import HTML\n",
    "HTML('''\n",
    "<style>\n",
    "#allchart {\n",
    "   height: 350px;\n",
    "   overflow: hidden;\n",
    "}\n",
    "#barchart {\n",
    "    width: 420px;\n",
    "    height: 350px;\n",
    "    float: right;\n",
    "}\n",
    "#piechart {\n",
    "    float: none; /* not needed, just for clarification */\n",
    "    height: 350px;\n",
    "    width: 420px;\n",
    "    overflow: hidden;\n",
    "</style>\n",
    "\n",
    "<div id=\"allchart\" >\n",
    "    <div id=\"barchart\"  >  &nbsp; &nbsp;  Sentiment Distribution\n",
    "        <svg ></svg>\n",
    "    </div>\n",
    "    <div id=\"piechart\"  > &nbsp; &nbsp; &nbsp; &nbsp; &nbsp; &nbsp;  Gender Distribution\n",
    "        <svg ></svg>\n",
    "    </div>\n",
    "</div>\n",
    "\n",
    "''')"
   ]
  },
  {
   "cell_type": "code",
   "execution_count": 13,
   "metadata": {
    "collapsed": false,
    "urth": {
     "dashboard": {
      "layout": {
       "col": 0,
       "height": 11,
       "row": 13,
       "width": null
      }
     }
    }
   },
   "outputs": [],
   "source": [
    "json_string = selected_cust_sankey_json(lines_nonempty, None)\n",
    "sankey_journey_widget = D3SankeyWidget(node_link_json = json_string, height = 300, width = 960 )\n",
    "display.display(sankey_journey_widget)"
   ]
  },
  {
   "cell_type": "code",
   "execution_count": 14,
   "metadata": {
    "collapsed": false,
    "urth": {
     "dashboard": {
      "hidden": true,
      "layout": {}
     }
    }
   },
   "outputs": [],
   "source": [
    "data_barchart=[{'key': 'Sentiment Historgram',\n",
    "  'values': [    {'x': '1', 'y':  75 },\n",
    "   {'x': '2', 'y':  407 }, \n",
    "   {'x': '5', 'y':  204 }, \n",
    "   {'x': '7', 'y':  15 },\n",
    "   {'x': '8', 'y':  1 }],'yAxis': '1'}]\n",
    "\n",
    "bar_chart = NVD3BarWidget(json_data=json.dumps(data_barchart))\n",
    "# print('         Sentiment Distribution')\n",
    "display.display(bar_chart)\n",
    "update_bar_chart(global_selected_cust_df)"
   ]
  },
  {
   "cell_type": "code",
   "execution_count": 15,
   "metadata": {
    "collapsed": false,
    "urth": {
     "dashboard": {
      "hidden": true,
      "layout": {}
     }
    }
   },
   "outputs": [],
   "source": [
    "data_piechart=[{'key': 'Sentiment Historgram', \n",
    "                'values': [{'label': 'F', 'value': 2007},{'label': 'M', 'value': 107}]}];\n",
    "\n",
    "pie_chart = NVD3PieWidget(value=5, json_data=json.dumps(data_piechart))\n",
    "# print('         Gender Distribution')\n",
    "display.display(pie_chart)\n",
    "update_pie_chart(global_selected_cust_df)"
   ]
  },
  {
   "cell_type": "code",
   "execution_count": null,
   "metadata": {
    "collapsed": true,
    "urth": {
     "dashboard": {
      "hidden": true,
      "layout": {}
     }
    }
   },
   "outputs": [],
   "source": []
  },
  {
   "cell_type": "code",
   "execution_count": null,
   "metadata": {
    "collapsed": false,
    "urth": {
     "dashboard": {
      "hidden": true,
      "layout": {}
     }
    }
   },
   "outputs": [],
   "source": []
  },
  {
   "cell_type": "code",
   "execution_count": null,
   "metadata": {
    "collapsed": false,
    "urth": {
     "dashboard": {
      "hidden": true,
      "layout": {}
     }
    }
   },
   "outputs": [],
   "source": []
  },
  {
   "cell_type": "code",
   "execution_count": 16,
   "metadata": {
    "collapsed": false,
    "urth": {
     "dashboard": {
      "hidden": true,
      "layout": {}
     }
    }
   },
   "outputs": [
    {
     "data": {
      "text/plain": [
       "\"\\nglobal_selected_cust_df = cust_df[cust_df['gender']  == 'F' ]\\n\\nupdate_bar_chart(global_selected_cust_df)\\nupdate_pie_chart(global_selected_cust_df)\\nupdate_sankey_chart(global_selected_cust_df)\\n\""
      ]
     },
     "execution_count": 16,
     "metadata": {},
     "output_type": "execute_result"
    }
   ],
   "source": [
    "'''\n",
    "global_selected_cust_df = cust_df[cust_df['gender']  == 'F' ]\n",
    "\n",
    "update_bar_chart(global_selected_cust_df)\n",
    "update_pie_chart(global_selected_cust_df)\n",
    "update_sankey_chart(global_selected_cust_df)\n",
    "'''"
   ]
  },
  {
   "cell_type": "code",
   "execution_count": 17,
   "metadata": {
    "collapsed": false,
    "urth": {
     "dashboard": {
      "layout": {
       "col": 0,
       "height": 2,
       "row": 24,
       "width": 2
      }
     }
    }
   },
   "outputs": [],
   "source": [
    "# Buttons: Reset, Select\n",
    "\n",
    "\n",
    "filter_by_journey_button = widgets.Button(description=\"Filter by Journey\")\n",
    "filter_by_journey_button.button_style = 'info'\n",
    "filter_by_journey_button.margin = 5\n",
    "filter_by_journey_button.height = 3\n",
    "\n",
    "display.display(filter_by_journey_button)\n",
    "\n",
    "\n",
    "\n",
    "def on_filter_by_journey_button_clicked(b):\n",
    "    global global_selected_cust_df\n",
    "    # print(d3sankeyExample.selected_json)\n",
    "    if len(sankey_journey_widget.selected_json) < 3 :\n",
    "        print('please select at least one node.')\n",
    "        return\n",
    "    ss_json = json.loads(sankey_journey_widget.selected_json)\n",
    "    new_ss = {k: v for k, v in ss_json.items() if v == \"y\"}\n",
    "    selected_journey=new_ss.keys()\n",
    "    selected_journey_df=cust_journey_df[cust_journey_df.apply(lambda x: jouney_covered_check(selected_journey,x['journey']) , axis=1)]\n",
    "    collecteddf = {'cust_id':  collect_customer_from_journey(selected_journey_df)}\n",
    "    df_new = pd.DataFrame(collecteddf, columns = ['cust_id' ])\n",
    "    df_new = df_new.apply(pd.to_numeric, errors='ignore').sort_values(by='cust_id')\n",
    "    collected_df = pd.merge(df_new, cust_df, how='inner', left_on='cust_id', right_on='cust_id')\n",
    "    global_selected_cust_df = collected_df\n",
    "    \n",
    "    update_all_chart(global_selected_cust_df) \n",
    "\n",
    "filter_by_journey_button.on_click(on_filter_by_journey_button_clicked)"
   ]
  },
  {
   "cell_type": "code",
   "execution_count": 18,
   "metadata": {
    "collapsed": false,
    "urth": {
     "dashboard": {
      "hidden": true,
      "layout": {}
     }
    }
   },
   "outputs": [],
   "source": [
    "# global_selected_cust_df=cust_df"
   ]
  },
  {
   "cell_type": "code",
   "execution_count": 19,
   "metadata": {
    "collapsed": false,
    "scrolled": true,
    "urth": {
     "dashboard": {
      "layout": {
       "col": 2,
       "height": 2,
       "row": 24,
       "width": 2
      }
     }
    }
   },
   "outputs": [],
   "source": [
    "\n",
    "filter_by_gender_button = widgets.Button(description=\"Filter by Gender\")\n",
    "filter_by_gender_button.button_style = 'info'\n",
    "filter_by_gender_button.margin = 5\n",
    "filter_by_gender_button.height = 3\n",
    "\n",
    "display.display(filter_by_gender_button)\n",
    "\n",
    "\n",
    "\n",
    "def on_filter_by_gender_button_clicked(b):\n",
    "    global global_selected_cust_df\n",
    "    if len(pie_chart.selected_json) < 3 :\n",
    "        print('please select at least one gender.')\n",
    "        return\n",
    "    ss_json = json.loads(pie_chart.selected_json)\n",
    "    new_ss = {k: v for k, v in ss_json.items() if v == \"y\"}\n",
    "    reverse_gender_dict = {'Female':'F', 'Male':'M'}\n",
    "    selected_gender=reverse_gender_dict [ list(new_ss.keys())[0] ]\n",
    "    #print('gender=' + selected_gender)\n",
    "\n",
    "    global_selected_cust_df = global_selected_cust_df[global_selected_cust_df['gender']== selected_gender] # == 'F'\n",
    "    \n",
    "    if(global_selected_cust_df['cust_id'].count() < 1):\n",
    "        print('found no match, do not update charts')\n",
    "        return\n",
    "    # print(global_selected_cust_df.count()))\n",
    "    update_all_chart(global_selected_cust_df) \n",
    "\n",
    "filter_by_gender_button.on_click(on_filter_by_gender_button_clicked)"
   ]
  },
  {
   "cell_type": "code",
   "execution_count": 20,
   "metadata": {
    "collapsed": false,
    "urth": {
     "dashboard": {
      "layout": {
       "col": 4,
       "height": 2,
       "row": 24,
       "width": 2
      }
     }
    }
   },
   "outputs": [],
   "source": [
    "\n",
    "filter_reset_button = widgets.Button(description=\"Reset Filters\")\n",
    "filter_reset_button.button_style = 'info'\n",
    "filter_reset_button.margin = 5\n",
    "filter_reset_button.height = 3\n",
    "\n",
    "display.display(filter_reset_button)\n",
    "\n",
    "\n",
    "\n",
    "def on_filter_reset_button_clicked(b):\n",
    "    global global_selected_cust_df\n",
    "    global cust_df\n",
    "    \n",
    "    global_selected_cust_df = cust_df\n",
    "    update_all_chart(global_selected_cust_df) \n",
    "\n",
    "filter_reset_button.on_click(on_filter_reset_button_clicked)"
   ]
  },
  {
   "cell_type": "code",
   "execution_count": 21,
   "metadata": {
    "collapsed": false,
    "urth": {
     "dashboard": {
      "hidden": true,
      "layout": {}
     }
    }
   },
   "outputs": [
    {
     "data": {
      "text/plain": [
       "'\\nss_json = json.loads(pie_chart.selected_json)\\nnew_ss = {k: v for k, v in ss_json.items() if v == \"y\"}\\nselected_gender=list(new_ss.keys())[0]\\nglobal_selected_cust_df = global_selected_cust_df[global_selected_cust_df[\\'gender\\'] \\n                                                  == selected_gender] # == \\'F\\'\\nupdate_bar_chart(global_selected_cust_df)\\nupdate_pie_chart(global_selected_cust_df)\\nupdate_sankey_chart(global_selected_cust_df)\\n\\n'"
      ]
     },
     "execution_count": 21,
     "metadata": {},
     "output_type": "execute_result"
    }
   ],
   "source": [
    "'''\n",
    "ss_json = json.loads(pie_chart.selected_json)\n",
    "new_ss = {k: v for k, v in ss_json.items() if v == \"y\"}\n",
    "selected_gender=list(new_ss.keys())[0]\n",
    "global_selected_cust_df = global_selected_cust_df[global_selected_cust_df['gender'] \n",
    "                                                  == selected_gender] # == 'F'\n",
    "update_bar_chart(global_selected_cust_df)\n",
    "update_pie_chart(global_selected_cust_df)\n",
    "update_sankey_chart(global_selected_cust_df)\n",
    "\n",
    "'''"
   ]
  },
  {
   "cell_type": "code",
   "execution_count": 22,
   "metadata": {
    "collapsed": false,
    "urth": {
     "dashboard": {
      "layout": {
       "col": 0,
       "height": 3,
       "row": 27,
       "width": 12
      }
     }
    }
   },
   "outputs": [],
   "source": [
    "grade_top_row = widgets.HBox()\n",
    "\n",
    "hid_txt = widgets.HTML(\"Segment Name:\")\n",
    "hid_txt.font = 'helvetica'\n",
    "hid_txt.font_size = 30\n",
    "hid_txt.margin = 5\n",
    "algo_id_field = widgets.Text()\n",
    "algo_id_field.height = 35\n",
    "algo_id_field.value='Segment_1'\n",
    "\n",
    "grade_txt = widgets.HTML(\"Segment Type:\")\n",
    "grade_select = widgets.Dropdown(options=[\"Marketing\", \"Promotion\", \"Retension\"])\n",
    "\n",
    "\n",
    "\n",
    "grade_btn = widgets.Button(description=\"Create Segment\")\n",
    "grade_btn.margin = 5\n",
    "grade_btn.button_style = 'info'\n",
    "\n",
    "\n",
    "grade_top_row.children = (hid_txt, algo_id_field, grade_txt, grade_select, grade_btn)\n",
    "grade_top_row.align = 'center'\n",
    "\n",
    "comment_field = widgets.Textarea(value='')\n",
    "comment_field.margin = 5\n",
    "comment_field.width = 378\n",
    "comment_field.cols = 55\n",
    "\n",
    "grade_form = widgets.VBox()\n",
    "grade_form.children = (grade_top_row, comment_field )\n",
    "\n",
    "\n",
    "def on_create_button_clicked(b):\n",
    "    # print(d3sankeyExample.selected_json)\n",
    "    if global_selected_cust_df['cust_id'].count() < 2 :\n",
    "        print('Please select at least one customer.')\n",
    "        return\n",
    "    cust_list1 = global_selected_cust_df['cust_id'].tolist()\n",
    "    cust_list = [str(int(x)) for x in cust_list1]\n",
    "    # print(cust_list)\n",
    "    new_seg = {'Seg_name': algo_id_field.value,\n",
    "               'Seg_type': grade_select.value,\n",
    "               'cust_ids': ','.join(cust_list)\n",
    "              }\n",
    "    display.clear_output(wait=True) \n",
    "    comment_field.value = json.dumps(new_seg)\n",
    "    \n",
    "\n",
    "display.display(grade_top_row)\n",
    "grade_btn.on_click(on_create_button_clicked)\n"
   ]
  },
  {
   "cell_type": "code",
   "execution_count": 23,
   "metadata": {
    "collapsed": false,
    "urth": {
     "dashboard": {
      "layout": {
       "col": 7,
       "height": 3,
       "row": 24,
       "width": 4
      }
     }
    }
   },
   "outputs": [],
   "source": [
    "display.display(comment_field)"
   ]
  }
 ],
 "metadata": {
  "kernelspec": {
   "display_name": "Python 3",
   "language": "python",
   "name": "python3"
  },
  "language_info": {
   "codemirror_mode": {
    "name": "ipython",
    "version": 3
   },
   "file_extension": ".py",
   "mimetype": "text/x-python",
   "name": "python",
   "nbconvert_exporter": "python",
   "pygments_lexer": "ipython3",
   "version": "3.5.1"
  },
  "urth": {
   "dashboard": {
    "cellMargin": 10,
    "defaultCellHeight": 20,
    "layout": "grid",
    "maxColumns": 12
   }
  },
  "widgets": {
   "state": {},
   "version": "1.1.2"
  }
 },
 "nbformat": 4,
 "nbformat_minor": 0
}
