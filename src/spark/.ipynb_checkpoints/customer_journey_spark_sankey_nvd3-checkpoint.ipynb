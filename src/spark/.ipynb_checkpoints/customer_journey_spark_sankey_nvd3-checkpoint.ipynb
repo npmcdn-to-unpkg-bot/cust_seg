{
 "cells": [
  {
   "cell_type": "code",
   "execution_count": 50,
   "metadata": {
    "collapsed": true,
    "urth": {
     "dashboard": {
      "hidden": true,
      "layout": {}
     }
    }
   },
   "outputs": [],
   "source": [
    "import pandas as pd\n",
    "import json\n",
    "import ipywidgets as widgets\n",
    "from IPython import display\n",
    "\n",
    "NUMBER_OF_NODES = 10\n",
    "\n",
    "lines = sc.textFile('file:///home/duan/github/customer_segmentation/data/journey_log/msnbc.numbered')\n",
    "lines_nonempty = lines.filter( lambda x: len(x) > 0 )\n",
    "\n",
    "cust_df = pd.DataFrame.from_csv('/home/duan/github/customer_segmentation/data/cust_profile_df/cust_sentiment_gender_df.csv')\n",
    "global_selected_cust_df = cust_df\n",
    "cust_journey_df=pd.DataFrame.from_csv('/home/duan/github/customer_segmentation/data/cust_profile_df/cust_journey_df.csv.new.1')\n"
   ]
  },
  {
   "cell_type": "code",
   "execution_count": 51,
   "metadata": {
    "collapsed": true,
    "urth": {
     "dashboard": {
      "hidden": true,
      "layout": {}
     }
    }
   },
   "outputs": [],
   "source": [
    "# Write the journey df to disk for later on computation.\n",
    "def build_journey_all(lines_nonempty):\n",
    "    wordcounts = build_journey_with_customer_filter(lines_nonempty, cust_list = None)\n",
    "    from pyspark.sql import SQLContext, Row\n",
    "    sqlContext = SQLContext(sc)\n",
    "    # Load a text file and convert each line to a Row.  \n",
    "    journey_rows = wordcounts.map(lambda p: Row(visitor_count=p[0], journey= p[1][0], visitor_list=p[1][1]))\n",
    "    # Infer the schema, and register the DataFrame as a table.\n",
    "    schemaPeople = sqlContext.createDataFrame(journey_rows)\n",
    "    # schemaPeople.registerTempTable(\"journey_table\")\n",
    "    cust_journey_df = schemaPeople.toPandas()\n",
    "    cust_journey_df.to_csv('/home/duan/github/customer_segmentation/data/cust_profile_df/cust_journey_df.csv.new.1')\n",
    "    return cust_journey_df\n",
    "# Only for first time, or schedule it every night.\n",
    "# cust_journey_df = build_journey_all(lines_nonempty)"
   ]
  },
  {
   "cell_type": "code",
   "execution_count": 52,
   "metadata": {
    "collapsed": false,
    "urth": {
     "dashboard": {
      "hidden": true,
      "layout": {}
     }
    }
   },
   "outputs": [],
   "source": [
    "from nvd3piewidget import (jouney_covered_check, \n",
    "                           collect_customer_from_journey, \n",
    "                           build_journey_with_customer_filter, \n",
    "                           selected_cust_sankey_json,\n",
    "                           selected_cust_sankey_json\n",
    "                           )\n",
    "from nvd3piewidget import D3SankeyWidget,NVD3PieWidget,NVD3BarWidget\n"
   ]
  },
  {
   "cell_type": "code",
   "execution_count": 53,
   "metadata": {
    "collapsed": true,
    "urth": {
     "dashboard": {
      "hidden": true,
      "layout": {}
     }
    }
   },
   "outputs": [],
   "source": [
    "def update_bar_chart(global_selected_cust_df):\n",
    "    hist1 = global_selected_cust_df['sentiment'].value_counts()\n",
    "    hist1.sort_index(ascending=True,inplace=True)\n",
    "    hist_dict=hist1.to_dict()\n",
    "    bar_value = [{\"y\": int(hist_dict[k]), \"x\": str(int(k))}  for k in hist_dict.keys() ]\n",
    "    data_barchart=[{\"values\": bar_value, \n",
    "                    \"key\": \"Sentiment Historgram\", \n",
    "                    \"yAxis\": \"1\"}]\n",
    "    bar_chart.json_data = json.dumps(data_barchart)\n",
    "def update_pie_chart(global_selected_cust_df):\n",
    "    hist1 = global_selected_cust_df['gender'].value_counts()\n",
    "    # hist1.sort_index(ascending=True,inplace=True)\n",
    "    hist_dict=hist1.to_dict()\n",
    "    gender_dict = {'F':'Female', 'M':'Male'}\n",
    "    bar_value = [{\"value\": int(hist_dict[k]), \"label\": gender_dict[k]}  \n",
    "                 for k in hist_dict.keys() ]\n",
    "    data_piechart=[{\"values\": bar_value, \n",
    "                    \"key\": \"Sentiment Historgram\" }]\n",
    "    pie_chart.json_data = json.dumps(data_piechart)\n",
    "\n",
    "def update_sankey_chart(global_selected_cust_df):\n",
    "    new_json_string = selected_cust_sankey_json(lines_nonempty, global_selected_cust_df[['cust_id']] ,NUMBER_OF_NODES, sc)\n",
    "    sankey_journey_widget.node_link_json = new_json_string\n",
    "# sankey_journey_widget.node_link_json = json_string\n",
    "# update_sankey_chart(global_selected_cust_df[global_selected_cust_df['gender']  == 'M' ] )\n",
    "\n",
    "def update_all_chart(global_selected_cust_df):\n",
    "    update_bar_chart(global_selected_cust_df)\n",
    "    update_pie_chart(global_selected_cust_df)\n",
    "    update_sankey_chart(global_selected_cust_df)\n",
    "    cust_count_string = '# of Customers: ' + str(global_selected_cust_df['cust_id'].count() )\n",
    "    comment_field.value = cust_count_string\n"
   ]
  },
  {
   "cell_type": "code",
   "execution_count": 54,
   "metadata": {
    "collapsed": false,
    "urth": {
     "dashboard": {
      "layout": {
       "col": 0,
       "height": 13,
       "row": 0,
       "width": null
      }
     }
    }
   },
   "outputs": [
    {
     "data": {
      "text/html": [
       "\n",
       "<style>\n",
       "#allchart {\n",
       "   height: 350px;\n",
       "   overflow: hidden;\n",
       "}\n",
       "#barchart {\n",
       "    width: 420px;\n",
       "    height: 350px;\n",
       "    float: right;\n",
       "}\n",
       "#piechart {\n",
       "    float: none; /* not needed, just for clarification */\n",
       "    height: 350px;\n",
       "    width: 420px;\n",
       "    overflow: hidden;\n",
       "</style>\n",
       "\n",
       "<div id=\"allchart\" >\n",
       "    <div id=\"barchart\"  >  &nbsp; &nbsp;  Sentiment Distribution\n",
       "        <svg ></svg>\n",
       "    </div>\n",
       "    <div id=\"piechart\"  > &nbsp; &nbsp; &nbsp; &nbsp; &nbsp; &nbsp;  Gender Distribution\n",
       "        <svg ></svg>\n",
       "    </div>\n",
       "</div>\n",
       "\n"
      ],
      "text/plain": [
       "<IPython.core.display.HTML object>"
      ]
     },
     "execution_count": 54,
     "metadata": {},
     "output_type": "execute_result"
    }
   ],
   "source": [
    "from IPython.display import HTML\n",
    "HTML('''\n",
    "<style>\n",
    "#allchart {\n",
    "   height: 350px;\n",
    "   overflow: hidden;\n",
    "}\n",
    "#barchart {\n",
    "    width: 420px;\n",
    "    height: 350px;\n",
    "    float: right;\n",
    "}\n",
    "#piechart {\n",
    "    float: none; /* not needed, just for clarification */\n",
    "    height: 350px;\n",
    "    width: 420px;\n",
    "    overflow: hidden;\n",
    "</style>\n",
    "\n",
    "<div id=\"allchart\" >\n",
    "    <div id=\"barchart\"  >  &nbsp; &nbsp;  Sentiment Distribution\n",
    "        <svg ></svg>\n",
    "    </div>\n",
    "    <div id=\"piechart\"  > &nbsp; &nbsp; &nbsp; &nbsp; &nbsp; &nbsp;  Gender Distribution\n",
    "        <svg ></svg>\n",
    "    </div>\n",
    "</div>\n",
    "\n",
    "''')"
   ]
  },
  {
   "cell_type": "code",
   "execution_count": 55,
   "metadata": {
    "collapsed": false,
    "urth": {
     "dashboard": {
      "layout": {
       "col": 0,
       "height": 11,
       "row": 13,
       "width": null
      }
     }
    }
   },
   "outputs": [],
   "source": [
    "json_string = selected_cust_sankey_json(lines_nonempty, None)\n",
    "sankey_journey_widget = D3SankeyWidget(node_link_json = json_string, height = 300, width = 960 )\n",
    "display.display(sankey_journey_widget)"
   ]
  },
  {
   "cell_type": "code",
   "execution_count": 56,
   "metadata": {
    "collapsed": false,
    "urth": {
     "dashboard": {
      "hidden": true,
      "layout": {}
     }
    }
   },
   "outputs": [],
   "source": [
    "data_barchart=[{'key': 'Sentiment Historgram',\n",
    "  'values': [    {'x': '1', 'y':  75 },\n",
    "   {'x': '2', 'y':  407 }, \n",
    "   {'x': '5', 'y':  204 }, \n",
    "   {'x': '7', 'y':  15 },\n",
    "   {'x': '8', 'y':  1 }],'yAxis': '1'}]\n",
    "\n",
    "bar_chart = NVD3BarWidget(json_data=json.dumps(data_barchart))\n",
    "# print('         Sentiment Distribution')\n",
    "display.display(bar_chart)\n",
    "update_bar_chart(global_selected_cust_df)"
   ]
  },
  {
   "cell_type": "code",
   "execution_count": 57,
   "metadata": {
    "collapsed": false,
    "urth": {
     "dashboard": {
      "hidden": true,
      "layout": {}
     }
    }
   },
   "outputs": [],
   "source": [
    "data_piechart=[{'key': 'Sentiment Historgram', \n",
    "                'values': [{'label': 'F', 'value': 2007},{'label': 'M', 'value': 107}]}];\n",
    "\n",
    "pie_chart = NVD3PieWidget(value=5, json_data=json.dumps(data_piechart))\n",
    "# print('         Gender Distribution')\n",
    "display.display(pie_chart)\n",
    "update_pie_chart(global_selected_cust_df)"
   ]
  },
  {
   "cell_type": "code",
   "execution_count": null,
   "metadata": {
    "collapsed": true,
    "urth": {
     "dashboard": {
      "hidden": true,
      "layout": {}
     }
    }
   },
   "outputs": [],
   "source": []
  },
  {
   "cell_type": "code",
   "execution_count": null,
   "metadata": {
    "collapsed": false,
    "urth": {
     "dashboard": {
      "hidden": true,
      "layout": {}
     }
    }
   },
   "outputs": [],
   "source": []
  },
  {
   "cell_type": "code",
   "execution_count": null,
   "metadata": {
    "collapsed": false,
    "urth": {
     "dashboard": {
      "hidden": true,
      "layout": {}
     }
    }
   },
   "outputs": [],
   "source": []
  },
  {
   "cell_type": "code",
   "execution_count": 58,
   "metadata": {
    "collapsed": false,
    "urth": {
     "dashboard": {
      "hidden": true,
      "layout": {}
     }
    }
   },
   "outputs": [
    {
     "data": {
      "text/plain": [
       "\"\\nglobal_selected_cust_df = cust_df[cust_df['gender']  == 'F' ]\\n\\nupdate_bar_chart(global_selected_cust_df)\\nupdate_pie_chart(global_selected_cust_df)\\nupdate_sankey_chart(global_selected_cust_df)\\n\""
      ]
     },
     "execution_count": 58,
     "metadata": {},
     "output_type": "execute_result"
    }
   ],
   "source": [
    "'''\n",
    "global_selected_cust_df = cust_df[cust_df['gender']  == 'F' ]\n",
    "\n",
    "update_bar_chart(global_selected_cust_df)\n",
    "update_pie_chart(global_selected_cust_df)\n",
    "update_sankey_chart(global_selected_cust_df)\n",
    "'''"
   ]
  },
  {
   "cell_type": "code",
   "execution_count": 59,
   "metadata": {
    "collapsed": false,
    "urth": {
     "dashboard": {
      "layout": {
       "col": 0,
       "height": 2,
       "row": 24,
       "width": 2
      }
     }
    }
   },
   "outputs": [],
   "source": [
    "# Buttons: Reset, Select\n",
    "\n",
    "\n",
    "filter_by_journey_button = widgets.Button(description=\"Filter by Journey\")\n",
    "filter_by_journey_button.button_style = 'info'\n",
    "filter_by_journey_button.margin = 5\n",
    "filter_by_journey_button.height = 3\n",
    "\n",
    "display.display(filter_by_journey_button)\n",
    "\n",
    "\n",
    "\n",
    "def on_filter_by_journey_button_clicked(b):\n",
    "    global global_selected_cust_df\n",
    "    # print(d3sankeyExample.selected_json)\n",
    "    if len(sankey_journey_widget.selected_json) < 3 :\n",
    "        print('please select at least one node.')\n",
    "        return\n",
    "    ss_json = json.loads(sankey_journey_widget.selected_json)\n",
    "    new_ss = {k: v for k, v in ss_json.items() if v == \"y\"}\n",
    "    selected_journey=new_ss.keys()\n",
    "    selected_journey_df=cust_journey_df[cust_journey_df.apply(lambda x: jouney_covered_check(selected_journey,x['journey']) , axis=1)]\n",
    "    collecteddf = {'cust_id':  collect_customer_from_journey(selected_journey_df)}\n",
    "    df_new = pd.DataFrame(collecteddf, columns = ['cust_id' ])\n",
    "    df_new = df_new.apply(pd.to_numeric, errors='ignore').sort_values(by='cust_id')\n",
    "    collected_df = pd.merge(df_new, cust_df, how='inner', left_on='cust_id', right_on='cust_id')\n",
    "    global_selected_cust_df = collected_df\n",
    "    \n",
    "    update_all_chart(global_selected_cust_df) \n",
    "\n",
    "filter_by_journey_button.on_click(on_filter_by_journey_button_clicked)"
   ]
  },
  {
   "cell_type": "code",
   "execution_count": 60,
   "metadata": {
    "collapsed": false,
    "urth": {
     "dashboard": {
      "hidden": true,
      "layout": {}
     }
    }
   },
   "outputs": [],
   "source": [
    "# global_selected_cust_df=cust_df"
   ]
  },
  {
   "cell_type": "code",
   "execution_count": 61,
   "metadata": {
    "collapsed": false,
    "scrolled": true,
    "urth": {
     "dashboard": {
      "layout": {
       "col": 2,
       "height": 2,
       "row": 24,
       "width": 2
      }
     }
    }
   },
   "outputs": [],
   "source": [
    "\n",
    "filter_by_gender_button = widgets.Button(description=\"Filter by Gender\")\n",
    "filter_by_gender_button.button_style = 'info'\n",
    "filter_by_gender_button.margin = 5\n",
    "filter_by_gender_button.height = 3\n",
    "\n",
    "display.display(filter_by_gender_button)\n",
    "\n",
    "\n",
    "\n",
    "def on_filter_by_gender_button_clicked(b):\n",
    "    global global_selected_cust_df\n",
    "    if len(pie_chart.selected_json) < 3 :\n",
    "        print('please select at least one gender.')\n",
    "        return\n",
    "    ss_json = json.loads(pie_chart.selected_json)\n",
    "    new_ss = {k: v for k, v in ss_json.items() if v == \"y\"}\n",
    "    reverse_gender_dict = {'Female':'F', 'Male':'M'}\n",
    "    selected_gender=reverse_gender_dict [ list(new_ss.keys())[0] ]\n",
    "    #print('gender=' + selected_gender)\n",
    "\n",
    "    global_selected_cust_df = global_selected_cust_df[global_selected_cust_df['gender']== selected_gender] # == 'F'\n",
    "    \n",
    "    if(global_selected_cust_df['cust_id'].count() < 1):\n",
    "        print('found no match, do not update charts')\n",
    "        return\n",
    "    # print(global_selected_cust_df.count()))\n",
    "    update_all_chart(global_selected_cust_df) \n",
    "\n",
    "filter_by_gender_button.on_click(on_filter_by_gender_button_clicked)"
   ]
  },
  {
   "cell_type": "code",
   "execution_count": 62,
   "metadata": {
    "collapsed": false,
    "urth": {
     "dashboard": {
      "layout": {
       "col": 4,
       "height": 2,
       "row": 24,
       "width": 2
      }
     }
    }
   },
   "outputs": [],
   "source": [
    "\n",
    "filter_reset_button = widgets.Button(description=\"Reset Filters\")\n",
    "filter_reset_button.button_style = 'info'\n",
    "filter_reset_button.margin = 5\n",
    "filter_reset_button.height = 3\n",
    "\n",
    "display.display(filter_reset_button)\n",
    "\n",
    "\n",
    "\n",
    "def on_filter_reset_button_clicked(b):\n",
    "    global global_selected_cust_df\n",
    "    global cust_df\n",
    "    \n",
    "    global_selected_cust_df = cust_df\n",
    "    update_all_chart(global_selected_cust_df) \n",
    "\n",
    "filter_reset_button.on_click(on_filter_reset_button_clicked)"
   ]
  },
  {
   "cell_type": "code",
   "execution_count": 63,
   "metadata": {
    "collapsed": false,
    "urth": {
     "dashboard": {
      "hidden": true,
      "layout": {}
     }
    }
   },
   "outputs": [
    {
     "data": {
      "text/plain": [
       "'\\nss_json = json.loads(pie_chart.selected_json)\\nnew_ss = {k: v for k, v in ss_json.items() if v == \"y\"}\\nselected_gender=list(new_ss.keys())[0]\\nglobal_selected_cust_df = global_selected_cust_df[global_selected_cust_df[\\'gender\\'] \\n                                                  == selected_gender] # == \\'F\\'\\nupdate_bar_chart(global_selected_cust_df)\\nupdate_pie_chart(global_selected_cust_df)\\nupdate_sankey_chart(global_selected_cust_df)\\n\\n'"
      ]
     },
     "execution_count": 63,
     "metadata": {},
     "output_type": "execute_result"
    }
   ],
   "source": [
    "'''\n",
    "ss_json = json.loads(pie_chart.selected_json)\n",
    "new_ss = {k: v for k, v in ss_json.items() if v == \"y\"}\n",
    "selected_gender=list(new_ss.keys())[0]\n",
    "global_selected_cust_df = global_selected_cust_df[global_selected_cust_df['gender'] \n",
    "                                                  == selected_gender] # == 'F'\n",
    "update_bar_chart(global_selected_cust_df)\n",
    "update_pie_chart(global_selected_cust_df)\n",
    "update_sankey_chart(global_selected_cust_df)\n",
    "\n",
    "'''"
   ]
  },
  {
   "cell_type": "code",
   "execution_count": 64,
   "metadata": {
    "collapsed": false,
    "urth": {
     "dashboard": {
      "layout": {
       "col": 0,
       "height": 3,
       "row": 27,
       "width": 12
      }
     }
    }
   },
   "outputs": [],
   "source": [
    "grade_top_row = widgets.HBox()\n",
    "\n",
    "hid_txt = widgets.HTML(\"Segment Name:\")\n",
    "hid_txt.font = 'helvetica'\n",
    "hid_txt.font_size = 30\n",
    "hid_txt.margin = 5\n",
    "algo_id_field = widgets.Text()\n",
    "algo_id_field.height = 35\n",
    "algo_id_field.value='Segment_1'\n",
    "\n",
    "grade_txt = widgets.HTML(\"Segment Type:\")\n",
    "grade_select = widgets.Dropdown(options=[\"Marketing\", \"Promotion\", \"Retension\"])\n",
    "\n",
    "\n",
    "\n",
    "grade_btn = widgets.Button(description=\"Create Segment\")\n",
    "grade_btn.margin = 5\n",
    "grade_btn.button_style = 'info'\n",
    "\n",
    "\n",
    "grade_top_row.children = (hid_txt, algo_id_field, grade_txt, grade_select, grade_btn)\n",
    "grade_top_row.align = 'center'\n",
    "\n",
    "comment_field = widgets.Textarea(value='')\n",
    "comment_field.margin = 5\n",
    "comment_field.width = 378\n",
    "comment_field.cols = 55\n",
    "\n",
    "grade_form = widgets.VBox()\n",
    "grade_form.children = (grade_top_row, comment_field )\n",
    "\n",
    "\n",
    "def on_create_button_clicked(b):\n",
    "    # print(d3sankeyExample.selected_json)\n",
    "    if global_selected_cust_df['cust_id'].count() < 2 :\n",
    "        print('Please select at least one customer.')\n",
    "        return\n",
    "    cust_list1 = global_selected_cust_df['cust_id'].tolist()\n",
    "    cust_list = [str(int(x)) for x in cust_list1]\n",
    "    # print(cust_list)\n",
    "    new_seg = {'Seg_name': algo_id_field.value,\n",
    "               'Seg_type': grade_select.value,\n",
    "               'cust_ids': ','.join(cust_list)\n",
    "              }\n",
    "    display.clear_output(wait=True) \n",
    "    comment_field.value = json.dumps(new_seg)\n",
    "    \n",
    "\n",
    "display.display(grade_top_row)\n",
    "grade_btn.on_click(on_create_button_clicked)\n"
   ]
  },
  {
   "cell_type": "code",
   "execution_count": 65,
   "metadata": {
    "collapsed": false,
    "urth": {
     "dashboard": {
      "layout": {
       "col": 7,
       "height": 3,
       "row": 24,
       "width": 4
      }
     }
    }
   },
   "outputs": [],
   "source": [
    "display.display(comment_field)\n",
    "cust_count_string = '# of Customers: ' + str(global_selected_cust_df['cust_id'].count() )\n",
    "comment_field.value = cust_count_string"
   ]
  }
 ],
 "metadata": {
  "kernelspec": {
   "display_name": "Python 3",
   "language": "python",
   "name": "python3"
  },
  "language_info": {
   "codemirror_mode": {
    "name": "ipython",
    "version": 3
   },
   "file_extension": ".py",
   "mimetype": "text/x-python",
   "name": "python",
   "nbconvert_exporter": "python",
   "pygments_lexer": "ipython3",
   "version": "3.5.1"
  },
  "urth": {
   "dashboard": {
    "cellMargin": 10,
    "defaultCellHeight": 20,
    "layout": "grid",
    "maxColumns": 12
   }
  },
  "widgets": {
   "state": {
    "005baee6e42c42faab7f4e9d11a22b91": {
     "views": []
    },
    "00e0270fa3cb457cb99776af418230c3": {
     "views": []
    },
    "03eb947b605141a78c7caec8b50b32b4": {
     "views": [
      {
       "cell_index": 5
      }
     ]
    },
    "0461b280649f49f28ae81b4bb4104a0c": {
     "views": []
    },
    "0d5eb4c4149f42f8a05d2de9c32c2c66": {
     "views": []
    },
    "0e951bdc788d4c25a570a2675706882b": {
     "views": []
    },
    "10c7bfe9e6a043fdb9faacd4c473331f": {
     "views": [
      {
       "cell_index": 14
      }
     ]
    },
    "10d9f468e1744ad78d14c3cf6b53980d": {
     "views": []
    },
    "17a9a6a4b83a405585b3982aba6e248e": {
     "views": []
    },
    "186e6901be344e05bbaef95a3518f0f6": {
     "views": []
    },
    "1d3f6fc010304fbd828b38790339be3e": {
     "views": [
      {
       "cell_index": 17
      }
     ]
    },
    "1f88dfe257324d0c987d9a42a477012d": {
     "views": []
    },
    "1f9d5d7f8c9b486a8771182dd9da8374": {
     "views": []
    },
    "22bd5aec65d343e8a0bcbd1a83054b9c": {
     "views": []
    },
    "22d45ca36b3541ba921c898d9d77922d": {
     "views": []
    },
    "24d3e53069cc4b2489d82288ec350803": {
     "views": []
    },
    "275a9c9b91fc4dee9efc3d55491538a9": {
     "views": []
    },
    "2c3daa445d9d4159adfd2d35afa0c084": {
     "views": []
    },
    "2c57d1bf06574ed0929a0e04a56beca0": {
     "views": []
    },
    "305372a8338a4c68af251d89d254e0ca": {
     "views": []
    },
    "3209f30cccf24003978b4f199a70e09b": {
     "views": []
    },
    "32e4720cde2b41c18de93bebc98cc27d": {
     "views": []
    },
    "3378ee5a344641c48ce36269bd6f9f13": {
     "views": []
    },
    "349e071afc1e44e09aa8b3b066b50b68": {
     "views": []
    },
    "35b7f2c8214e425ab40f24d2e1852831": {
     "views": []
    },
    "3d8daf02e3bf420092192bcc28d5bf90": {
     "views": []
    },
    "3e83b5f2315f49a597e92270531f6db6": {
     "views": []
    },
    "3eee796c91c24958b1fb66a756f4d200": {
     "views": []
    },
    "3fe0a6e66c6442ecbd0651ddd7b64b7e": {
     "views": []
    },
    "40b555ce5edf454ea22f9d4ec48272f1": {
     "views": []
    },
    "43c7785bd8e74dc5aa98b5047cf0dd40": {
     "views": []
    },
    "47271f12eda04a8280594ba5637582af": {
     "views": []
    },
    "47d3b4141de8449b86b7c3568bd54b72": {
     "views": []
    },
    "48020d64f5b748b681cc6ff89869ed65": {
     "views": []
    },
    "485f6cef249e49c2867b969b6ca75b19": {
     "views": []
    },
    "49d45d6aaf714823a7c167051a43450a": {
     "views": []
    },
    "4a035d0594714d03a6d55bc8e754a5c2": {
     "views": []
    },
    "4cc35a94b8cf49a4b2d402341522337c": {
     "views": []
    },
    "4de04aafff5b4aa0babed5cbef4522a4": {
     "views": []
    },
    "5026bb647b63435bac49e53e6fa00f83": {
     "views": []
    },
    "52d6c21f073e4d498e3652ec2465e82d": {
     "views": []
    },
    "52eb76f2f9e04dfabff0a6570437e12d": {
     "views": []
    },
    "533a433c379c4501896848ef09ffc6fa": {
     "views": [
      {
       "cell_index": 7
      }
     ]
    },
    "5355a3e44670469fb3fa8e771c768f7d": {
     "views": []
    },
    "570ee3f8df104625bab9597a6f69988e": {
     "views": [
      {
       "cell_index": 18
      }
     ]
    },
    "57218e761c7546c29dc28d083c4ac715": {
     "views": []
    },
    "5aa50280a6af4e998d21a3caaab7547c": {
     "views": []
    },
    "5ace86a40726498285976596828053d2": {
     "views": []
    },
    "5db7e20eb433475a815f0960ff23d499": {
     "views": []
    },
    "5e35ddd0d8b54436a9bdf94813277895": {
     "views": []
    },
    "5e7fbe580bf148de92f8acbf59da6c13": {
     "views": []
    },
    "64141fc731d84de3b0bf4ed825932f91": {
     "views": []
    },
    "6698c25a0a5943f49a868eea2a89a798": {
     "views": []
    },
    "6a1f18c19a9a4d28b9ddc87bb409c6da": {
     "views": []
    },
    "6a45423bd48d47a28586d1c50bbb85d8": {
     "views": []
    },
    "6f59a2edfdbe4a3db281ea6862d35647": {
     "views": []
    },
    "6f692c5fb9eb4ba78382a3ccc7579f8d": {
     "views": []
    },
    "6f69aafbd7d74ffba97e2f2e166d2110": {
     "views": []
    },
    "703d7d2f6c184e5c803e7c16f325066d": {
     "views": []
    },
    "710d3d510c174d3cae0c612836ff56ba": {
     "views": []
    },
    "7149bb5212a84559a27c2220dbe9da07": {
     "views": []
    },
    "742f269e54b14399a09d879054bb04d3": {
     "views": []
    },
    "7452d023ae0d4f87b593afc1e7556417": {
     "views": []
    },
    "745923b459084991b652db1be7461002": {
     "views": []
    },
    "790606c11bf2436caa1101691f054986": {
     "views": []
    },
    "7a5e3f6be9804a108c904b4d44e83fca": {
     "views": []
    },
    "8502d10652c6495ab18a003df4c917ea": {
     "views": []
    },
    "854594ffb59f446ebdd46d2e436deb1a": {
     "views": []
    },
    "879b44c4229341428fc8950164734633": {
     "views": []
    },
    "88d9c0b9c6954a24bc37a77f8a33a788": {
     "views": []
    },
    "896d343511a84ef48a8104cce23433ba": {
     "views": []
    },
    "8fba069013aa492fbbdab47f1995b5a2": {
     "views": []
    },
    "93ba6c36e6f14e8cb5b8249ea4636f6e": {
     "views": []
    },
    "995d691aa41c4df3baf24643b07475ad": {
     "views": []
    },
    "99b4846dfea845fe9bfdbc20e4de4976": {
     "views": []
    },
    "9cc2420064864d02abe4c7b4f86d7850": {
     "views": []
    },
    "9e83f3ab112a454384494bc357d83b06": {
     "views": []
    },
    "9ec95e31ac3147708cda030281d5ac5b": {
     "views": []
    },
    "a07599fff1804a11825c2f3b745a5017": {
     "views": [
      {
       "cell_index": 12
      }
     ]
    },
    "a1c242e28a7d416f97385d16799066bf": {
     "views": []
    },
    "a25e829bff684d41adc3ee794eb88f70": {
     "views": []
    },
    "a2a2a0c7735946e6b435eb60b8681e61": {
     "views": []
    },
    "a48b81038ca24c828b7a24f18acb53a2": {
     "views": []
    },
    "a6c5f1e6b6e74dc9ad235fd53bdd96ac": {
     "views": []
    },
    "b040fbe7f59049a68f86b4c6c14052e0": {
     "views": []
    },
    "b1701d775cbf41899fb87cbd91f3294a": {
     "views": [
      {
       "cell_index": 15
      }
     ]
    },
    "b57dae9af94d4628bce75ceb37662242": {
     "views": []
    },
    "b68603082374460f8b4dbacac2f8c05d": {
     "views": []
    },
    "bbd710b9d2a44253b37c27a5033fed58": {
     "views": []
    },
    "bcb95f26ffa047228a59bb8c0a0b8c58": {
     "views": [
      {
       "cell_index": 6
      }
     ]
    },
    "bf1cec4753164e3f9b6af50e1c90e74b": {
     "views": []
    },
    "c08000f3a56c4b8383f8cfaa60241013": {
     "views": []
    },
    "c7b27b5522d7457bbf02dfa28690f51e": {
     "views": []
    },
    "c86ebd834d3a4a76b9f34bef274cd515": {
     "views": []
    },
    "c91cbb09917d446689d9b40528c4f0c2": {
     "views": []
    },
    "c9f18d4a69d647c69cb289d370125a57": {
     "views": []
    },
    "d4ded89fd9a1488d85a7edc28c817ac0": {
     "views": []
    },
    "dcfe6bd95f8c4bd68cc9f9dfd97497e8": {
     "views": []
    },
    "decd60211ab545ecaaaf3449dbd3d9aa": {
     "views": []
    },
    "ded9bd9b1ef84b62a7c2eb3100c798e6": {
     "views": []
    },
    "dfd1211c0d23457fb242c5e4f894cce6": {
     "views": []
    },
    "e13ea1607d3c44d2b7429e36398b56c1": {
     "views": []
    },
    "e65c98a0c8eb4c5fa2d0ad5f922b18b8": {
     "views": []
    },
    "e7b019b5d5f74489b1eebf48a5f3eedf": {
     "views": []
    },
    "e9b104817dfd4637b6a95eefb5fafbc8": {
     "views": []
    },
    "ecfe1466ced74d1b9246ed6c13353cb5": {
     "views": []
    },
    "ef2e0b85c62b469bad624c43dc12a83e": {
     "views": []
    },
    "f283035d84024f99b35fb32f3c25a147": {
     "views": []
    },
    "f5286259f16e42fd95220d1a45696897": {
     "views": []
    },
    "f5f4fc76def74433a1e3e48a56cf33f4": {
     "views": []
    },
    "f714138e118349c09b952dd4b7339459": {
     "views": []
    },
    "fc073b1cd94040838fb8623cf473ba9a": {
     "views": []
    }
   },
   "version": "1.1.2"
  }
 },
 "nbformat": 4,
 "nbformat_minor": 0
}
