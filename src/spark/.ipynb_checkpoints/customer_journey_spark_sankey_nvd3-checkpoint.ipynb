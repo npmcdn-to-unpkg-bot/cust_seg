{
 "cells": [
  {
   "cell_type": "code",
   "execution_count": 58,
   "metadata": {
    "collapsed": true,
    "urth": {
     "dashboard": {
      "hidden": true,
      "layout": {}
     }
    }
   },
   "outputs": [],
   "source": [
    "import pandas as pd\n",
    "import json\n",
    "import ipywidgets as widgets\n",
    "from IPython import display\n",
    "\n",
    "NUMBER_OF_NODES = 10\n",
    "\n",
    "lines = sc.textFile('file:///home/duan/github/customer_segmentation/data/journey_log/month-20160501.numbered')\n",
    "lines_nonempty = lines.filter( lambda x: len(x) > 0 )\n",
    "\n",
    "cust_df = pd.DataFrame.from_csv('/home/duan/github/customer_segmentation/data/cust_profile_df/cust_sentiment_gender_df.csv')\n",
    "global_selected_cust_df = cust_df\n",
    "cust_journey_df=pd.DataFrame.from_csv('/home/duan/github/customer_segmentation/data/cust_profile_df/cust_journey_df.csv.new.1')\n"
   ]
  },
  {
   "cell_type": "code",
   "execution_count": 59,
   "metadata": {
    "collapsed": true,
    "urth": {
     "dashboard": {
      "hidden": true,
      "layout": {}
     }
    }
   },
   "outputs": [],
   "source": [
    "# Write the journey df to disk for later on computation.\n",
    "def build_journey_all(lines_nonempty):\n",
    "    wordcounts = build_journey_with_customer_filter(lines_nonempty, cust_list = None)\n",
    "    from pyspark.sql import SQLContext, Row\n",
    "    sqlContext = SQLContext(sc)\n",
    "    # Load a text file and convert each line to a Row.  \n",
    "    journey_rows = wordcounts.map(lambda p: Row(visitor_count=p[0], journey= p[1][0], visitor_list=p[1][1]))\n",
    "    # Infer the schema, and register the DataFrame as a table.\n",
    "    schemaPeople = sqlContext.createDataFrame(journey_rows)\n",
    "    # schemaPeople.registerTempTable(\"journey_table\")\n",
    "    cust_journey_df = schemaPeople.toPandas()\n",
    "    cust_journey_df.to_csv('/home/duan/github/customer_segmentation/data/cust_profile_df/cust_journey_df.csv.new.1')\n",
    "    return cust_journey_df\n",
    "# Only for first time, or schedule it every night.\n",
    "# cust_journey_df = build_journey_all(lines_nonempty)"
   ]
  },
  {
   "cell_type": "code",
   "execution_count": 60,
   "metadata": {
    "collapsed": false,
    "urth": {
     "dashboard": {
      "hidden": true,
      "layout": {}
     }
    }
   },
   "outputs": [],
   "source": [
    "from nvd3piewidget import (jouney_covered_check, \n",
    "                           collect_customer_from_journey, \n",
    "                           build_journey_with_customer_filter, \n",
    "                           selected_cust_sankey_json,\n",
    "                           selected_cust_sankey_json\n",
    "                           )\n",
    "from nvd3piewidget import D3SankeyWidget,NVD3PieWidget,NVD3BarWidget\n"
   ]
  },
  {
   "cell_type": "code",
   "execution_count": 61,
   "metadata": {
    "collapsed": true,
    "urth": {
     "dashboard": {
      "hidden": true,
      "layout": {}
     }
    }
   },
   "outputs": [],
   "source": [
    "def update_bar_chart(global_selected_cust_df):\n",
    "    hist1 = global_selected_cust_df['sentiment'].value_counts()\n",
    "    hist1.sort_index(ascending=True,inplace=True)\n",
    "    hist_dict=hist1.to_dict()\n",
    "    bar_value = [{\"y\": int(hist_dict[k]), \"x\": str(int(k))}  for k in hist_dict.keys() ]\n",
    "    data_barchart=[{\"values\": bar_value, \n",
    "                    \"key\": \"Sentiment Historgram\", \n",
    "                    \"yAxis\": \"1\"}]\n",
    "    bar_chart.json_data = json.dumps(data_barchart)\n",
    "def update_pie_chart(global_selected_cust_df):\n",
    "    hist1 = global_selected_cust_df['gender'].value_counts()\n",
    "    # hist1.sort_index(ascending=True,inplace=True)\n",
    "    hist_dict=hist1.to_dict()\n",
    "    gender_dict = {'F':'Female', 'M':'Male'}\n",
    "    bar_value = [{\"value\": int(hist_dict[k]), \"label\": gender_dict[k]}  \n",
    "                 for k in hist_dict.keys() ]\n",
    "    data_piechart=[{\"values\": bar_value, \n",
    "                    \"key\": \"Sentiment Historgram\" }]\n",
    "    pie_chart.json_data = json.dumps(data_piechart)\n",
    "\n",
    "def update_sankey_chart(global_selected_cust_df):\n",
    "    new_json_string = selected_cust_sankey_json(lines_nonempty, global_selected_cust_df[['cust_id']] ,NUMBER_OF_NODES, sc)\n",
    "    sankey_journey_widget.node_link_json = new_json_string\n",
    "# sankey_journey_widget.node_link_json = json_string\n",
    "# update_sankey_chart(global_selected_cust_df[global_selected_cust_df['gender']  == 'M' ] )\n",
    "\n",
    "def update_all_chart(global_selected_cust_df):\n",
    "    update_bar_chart(global_selected_cust_df)\n",
    "    update_pie_chart(global_selected_cust_df)\n",
    "    update_sankey_chart(global_selected_cust_df)\n",
    "    cust_count_string = '# of Customers: ' + str(global_selected_cust_df['cust_id'].count() )\n",
    "    comment_field.value = cust_count_string\n"
   ]
  },
  {
   "cell_type": "code",
   "execution_count": 62,
   "metadata": {
    "collapsed": false,
    "urth": {
     "dashboard": {
      "layout": {
       "col": 0,
       "height": 13,
       "row": 0,
       "width": null
      }
     }
    }
   },
   "outputs": [
    {
     "data": {
      "text/html": [
       "\n",
       "<style>\n",
       "#allchart {\n",
       "   height: 350px;\n",
       "   overflow: hidden;\n",
       "}\n",
       "#barchart {\n",
       "    width: 420px;\n",
       "    height: 350px;\n",
       "    float: right;\n",
       "}\n",
       "#piechart {\n",
       "    float: none; /* not needed, just for clarification */\n",
       "    height: 350px;\n",
       "    width: 420px;\n",
       "    overflow: hidden;\n",
       "</style>\n",
       "\n",
       "<div id=\"allchart\" >\n",
       "    <div id=\"barchart\"  >  &nbsp; &nbsp;  Sentiment Distribution\n",
       "        <svg ></svg>\n",
       "    </div>\n",
       "    <div id=\"piechart\"  > &nbsp; &nbsp; &nbsp; &nbsp; &nbsp; &nbsp;  Gender Distribution\n",
       "        <svg ></svg>\n",
       "    </div>\n",
       "</div>\n",
       "\n"
      ],
      "text/plain": [
       "<IPython.core.display.HTML object>"
      ]
     },
     "execution_count": 62,
     "metadata": {},
     "output_type": "execute_result"
    }
   ],
   "source": [
    "from IPython.display import HTML\n",
    "HTML('''\n",
    "<style>\n",
    "#allchart {\n",
    "   height: 350px;\n",
    "   overflow: hidden;\n",
    "}\n",
    "#barchart {\n",
    "    width: 420px;\n",
    "    height: 350px;\n",
    "    float: right;\n",
    "}\n",
    "#piechart {\n",
    "    float: none; /* not needed, just for clarification */\n",
    "    height: 350px;\n",
    "    width: 420px;\n",
    "    overflow: hidden;\n",
    "</style>\n",
    "\n",
    "<div id=\"allchart\" >\n",
    "    <div id=\"barchart\"  >  &nbsp; &nbsp;  Sentiment Distribution\n",
    "        <svg ></svg>\n",
    "    </div>\n",
    "    <div id=\"piechart\"  > &nbsp; &nbsp; &nbsp; &nbsp; &nbsp; &nbsp;  Gender Distribution\n",
    "        <svg ></svg>\n",
    "    </div>\n",
    "</div>\n",
    "\n",
    "''')"
   ]
  },
  {
   "cell_type": "code",
   "execution_count": 63,
   "metadata": {
    "collapsed": false,
    "urth": {
     "dashboard": {
      "layout": {
       "col": 0,
       "height": 11,
       "row": 13,
       "width": null
      }
     }
    }
   },
   "outputs": [],
   "source": [
    "json_string = selected_cust_sankey_json(lines_nonempty, None)\n",
    "sankey_journey_widget = D3SankeyWidget(node_link_json = json_string, height = 300, width = 960 )\n",
    "display.display(sankey_journey_widget)"
   ]
  },
  {
   "cell_type": "code",
   "execution_count": 64,
   "metadata": {
    "collapsed": false,
    "urth": {
     "dashboard": {
      "hidden": true,
      "layout": {}
     }
    }
   },
   "outputs": [],
   "source": [
    "data_barchart=[{'key': 'Sentiment Historgram',\n",
    "  'values': [    {'x': '1', 'y':  75 },\n",
    "   {'x': '2', 'y':  407 }, \n",
    "   {'x': '5', 'y':  204 }, \n",
    "   {'x': '7', 'y':  15 },\n",
    "   {'x': '8', 'y':  1 }],'yAxis': '1'}]\n",
    "\n",
    "bar_chart = NVD3BarWidget(json_data=json.dumps(data_barchart))\n",
    "# print('         Sentiment Distribution')\n",
    "display.display(bar_chart)\n",
    "update_bar_chart(global_selected_cust_df)"
   ]
  },
  {
   "cell_type": "code",
   "execution_count": 65,
   "metadata": {
    "collapsed": false,
    "urth": {
     "dashboard": {
      "hidden": true,
      "layout": {}
     }
    }
   },
   "outputs": [],
   "source": [
    "data_piechart=[{'key': 'Sentiment Historgram', \n",
    "                'values': [{'label': 'F', 'value': 2007},{'label': 'M', 'value': 107}]}];\n",
    "\n",
    "pie_chart = NVD3PieWidget(value=5, json_data=json.dumps(data_piechart))\n",
    "# print('         Gender Distribution')\n",
    "display.display(pie_chart)\n",
    "update_pie_chart(global_selected_cust_df)"
   ]
  },
  {
   "cell_type": "code",
   "execution_count": null,
   "metadata": {
    "collapsed": true,
    "urth": {
     "dashboard": {
      "hidden": true,
      "layout": {}
     }
    }
   },
   "outputs": [],
   "source": []
  },
  {
   "cell_type": "code",
   "execution_count": null,
   "metadata": {
    "collapsed": false,
    "urth": {
     "dashboard": {
      "hidden": true,
      "layout": {}
     }
    }
   },
   "outputs": [],
   "source": []
  },
  {
   "cell_type": "code",
   "execution_count": null,
   "metadata": {
    "collapsed": false,
    "urth": {
     "dashboard": {
      "hidden": true,
      "layout": {}
     }
    }
   },
   "outputs": [],
   "source": []
  },
  {
   "cell_type": "code",
   "execution_count": 66,
   "metadata": {
    "collapsed": false,
    "urth": {
     "dashboard": {
      "hidden": true,
      "layout": {}
     }
    }
   },
   "outputs": [
    {
     "data": {
      "text/plain": [
       "\"\\nglobal_selected_cust_df = cust_df[cust_df['gender']  == 'F' ]\\n\\nupdate_bar_chart(global_selected_cust_df)\\nupdate_pie_chart(global_selected_cust_df)\\nupdate_sankey_chart(global_selected_cust_df)\\n\""
      ]
     },
     "execution_count": 66,
     "metadata": {},
     "output_type": "execute_result"
    }
   ],
   "source": [
    "'''\n",
    "global_selected_cust_df = cust_df[cust_df['gender']  == 'F' ]\n",
    "\n",
    "update_bar_chart(global_selected_cust_df)\n",
    "update_pie_chart(global_selected_cust_df)\n",
    "update_sankey_chart(global_selected_cust_df)\n",
    "'''"
   ]
  },
  {
   "cell_type": "code",
   "execution_count": 67,
   "metadata": {
    "collapsed": false,
    "urth": {
     "dashboard": {
      "layout": {
       "col": 0,
       "height": 2,
       "row": 24,
       "width": 2
      }
     }
    }
   },
   "outputs": [],
   "source": [
    "# Buttons: Reset, Select\n",
    "\n",
    "\n",
    "filter_by_journey_button = widgets.Button(description=\"Filter by Journey\")\n",
    "filter_by_journey_button.button_style = 'info'\n",
    "filter_by_journey_button.margin = 5\n",
    "filter_by_journey_button.height = 3\n",
    "\n",
    "display.display(filter_by_journey_button)\n",
    "\n",
    "\n",
    "\n",
    "def on_filter_by_journey_button_clicked(b):\n",
    "    global global_selected_cust_df\n",
    "    # print(d3sankeyExample.selected_json)\n",
    "    if len(sankey_journey_widget.selected_json) < 3 :\n",
    "        print('please select at least one node.')\n",
    "        return\n",
    "    ss_json = json.loads(sankey_journey_widget.selected_json)\n",
    "    new_ss = {k: v for k, v in ss_json.items() if v == \"y\"}\n",
    "    selected_journey=new_ss.keys()\n",
    "    selected_journey_df=cust_journey_df[cust_journey_df.apply(lambda x: jouney_covered_check(selected_journey,x['journey']) , axis=1)]\n",
    "    collecteddf = {'cust_id':  collect_customer_from_journey(selected_journey_df)}\n",
    "    df_new = pd.DataFrame(collecteddf, columns = ['cust_id' ])\n",
    "    df_new = df_new.apply(pd.to_numeric, errors='ignore').sort_values(by='cust_id')\n",
    "    collected_df = pd.merge(df_new, cust_df, how='inner', left_on='cust_id', right_on='cust_id')\n",
    "    global_selected_cust_df = collected_df\n",
    "    \n",
    "    update_all_chart(global_selected_cust_df) \n",
    "\n",
    "filter_by_journey_button.on_click(on_filter_by_journey_button_clicked)"
   ]
  },
  {
   "cell_type": "code",
   "execution_count": 70,
   "metadata": {
    "collapsed": false,
    "scrolled": false,
    "urth": {
     "dashboard": {
      "layout": {
       "col": 0,
       "height": 8,
       "row": 30,
       "width": 4
      }
     }
    }
   },
   "outputs": [
    {
     "data": {
      "text/plain": [
       "'\\nss_json = json.loads(sankey_journey_widget.selected_json)\\nnew_ss = {k: v for k, v in ss_json.items() if v == \"y\"}\\nselected_journey=new_ss.keys()\\nselected_journey_df=cust_journey_df[cust_journey_df.apply(lambda x: jouney_covered_check(selected_journey,x[\\'journey\\']) , axis=1)]\\nselected_journey_df\\n\\njouney_covered_check(selected_journey,x[\\'journey\\'])\\n \\nselected_journey\\n'"
      ]
     },
     "execution_count": 70,
     "metadata": {},
     "output_type": "execute_result"
    }
   ],
   "source": [
    "'''\n",
    "ss_json = json.loads(sankey_journey_widget.selected_json)\n",
    "new_ss = {k: v for k, v in ss_json.items() if v == \"y\"}\n",
    "selected_journey=new_ss.keys()\n",
    "selected_journey_df=cust_journey_df[cust_journey_df.apply(lambda x: jouney_covered_check(selected_journey,x['journey']) , axis=1)]\n",
    "selected_journey_df\n",
    "\n",
    "jouney_covered_check(selected_journey,x['journey'])\n",
    " \n",
    "selected_journey\n",
    "'''"
   ]
  },
  {
   "cell_type": "code",
   "execution_count": null,
   "metadata": {
    "collapsed": false,
    "urth": {
     "dashboard": {
      "hidden": true,
      "layout": {}
     }
    }
   },
   "outputs": [],
   "source": []
  },
  {
   "cell_type": "code",
   "execution_count": null,
   "metadata": {
    "collapsed": false,
    "urth": {
     "dashboard": {
      "hidden": true,
      "layout": {}
     }
    }
   },
   "outputs": [],
   "source": []
  },
  {
   "cell_type": "code",
   "execution_count": null,
   "metadata": {
    "collapsed": false,
    "urth": {
     "dashboard": {
      "layout": {
       "col": 4,
       "height": 6,
       "row": 30,
       "width": 4
      }
     }
    }
   },
   "outputs": [],
   "source": []
  },
  {
   "cell_type": "code",
   "execution_count": null,
   "metadata": {
    "collapsed": false,
    "scrolled": false,
    "urth": {
     "dashboard": {
      "layout": {
       "col": 4,
       "height": 4,
       "row": 36,
       "width": 7
      }
     }
    }
   },
   "outputs": [],
   "source": []
  },
  {
   "cell_type": "code",
   "execution_count": 71,
   "metadata": {
    "collapsed": false,
    "urth": {
     "dashboard": {
      "hidden": true,
      "layout": {}
     }
    }
   },
   "outputs": [],
   "source": [
    "#cust_journey_df[cust_journey_df.apply(lambda x: len(x['journey'])< 12  , axis=1)]\n",
    "# cust_journey_df.iloc[779]\n",
    "# cust_journey_df = cust_journey_df.drop(cust_journey_df.index[[779]])"
   ]
  },
  {
   "cell_type": "code",
   "execution_count": 72,
   "metadata": {
    "collapsed": false,
    "scrolled": true,
    "urth": {
     "dashboard": {
      "layout": {
       "col": 2,
       "height": 2,
       "row": 24,
       "width": 2
      }
     }
    }
   },
   "outputs": [],
   "source": [
    "\n",
    "filter_by_gender_button = widgets.Button(description=\"Filter by Gender\")\n",
    "filter_by_gender_button.button_style = 'info'\n",
    "filter_by_gender_button.margin = 5\n",
    "filter_by_gender_button.height = 3\n",
    "\n",
    "display.display(filter_by_gender_button)\n",
    "\n",
    "\n",
    "\n",
    "def on_filter_by_gender_button_clicked(b):\n",
    "    global global_selected_cust_df\n",
    "    if len(pie_chart.selected_json) < 3 :\n",
    "        print('please select at least one gender.')\n",
    "        return\n",
    "    ss_json = json.loads(pie_chart.selected_json)\n",
    "    new_ss = {k: v for k, v in ss_json.items() if v == \"y\"}\n",
    "    reverse_gender_dict = {'Female':'F', 'Male':'M'}\n",
    "    selected_gender=reverse_gender_dict [ list(new_ss.keys())[0] ]\n",
    "    #print('gender=' + selected_gender)\n",
    "\n",
    "    global_selected_cust_df = global_selected_cust_df[global_selected_cust_df['gender']== selected_gender] # == 'F'\n",
    "    \n",
    "    if(global_selected_cust_df['cust_id'].count() < 1):\n",
    "        print('found no match, do not update charts')\n",
    "        return\n",
    "    # print(global_selected_cust_df.count()))\n",
    "    update_all_chart(global_selected_cust_df) \n",
    "\n",
    "filter_by_gender_button.on_click(on_filter_by_gender_button_clicked)"
   ]
  },
  {
   "cell_type": "code",
   "execution_count": 73,
   "metadata": {
    "collapsed": false,
    "urth": {
     "dashboard": {
      "layout": {
       "col": 4,
       "height": 2,
       "row": 24,
       "width": 2
      }
     }
    }
   },
   "outputs": [],
   "source": [
    "\n",
    "filter_reset_button = widgets.Button(description=\"Reset Filters\")\n",
    "filter_reset_button.button_style = 'info'\n",
    "filter_reset_button.margin = 5\n",
    "filter_reset_button.height = 3\n",
    "\n",
    "display.display(filter_reset_button)\n",
    "\n",
    "\n",
    "\n",
    "def on_filter_reset_button_clicked(b):\n",
    "    global global_selected_cust_df\n",
    "    global cust_df\n",
    "    \n",
    "    global_selected_cust_df = cust_df\n",
    "    update_all_chart(global_selected_cust_df) \n",
    "\n",
    "filter_reset_button.on_click(on_filter_reset_button_clicked)"
   ]
  },
  {
   "cell_type": "code",
   "execution_count": 74,
   "metadata": {
    "collapsed": false,
    "urth": {
     "dashboard": {
      "hidden": true,
      "layout": {}
     }
    }
   },
   "outputs": [
    {
     "data": {
      "text/plain": [
       "'\\nss_json = json.loads(pie_chart.selected_json)\\nnew_ss = {k: v for k, v in ss_json.items() if v == \"y\"}\\nselected_gender=list(new_ss.keys())[0]\\nglobal_selected_cust_df = global_selected_cust_df[global_selected_cust_df[\\'gender\\'] \\n                                                  == selected_gender] # == \\'F\\'\\nupdate_bar_chart(global_selected_cust_df)\\nupdate_pie_chart(global_selected_cust_df)\\nupdate_sankey_chart(global_selected_cust_df)\\n\\n'"
      ]
     },
     "execution_count": 74,
     "metadata": {},
     "output_type": "execute_result"
    }
   ],
   "source": [
    "'''\n",
    "ss_json = json.loads(pie_chart.selected_json)\n",
    "new_ss = {k: v for k, v in ss_json.items() if v == \"y\"}\n",
    "selected_gender=list(new_ss.keys())[0]\n",
    "global_selected_cust_df = global_selected_cust_df[global_selected_cust_df['gender'] \n",
    "                                                  == selected_gender] # == 'F'\n",
    "update_bar_chart(global_selected_cust_df)\n",
    "update_pie_chart(global_selected_cust_df)\n",
    "update_sankey_chart(global_selected_cust_df)\n",
    "\n",
    "'''"
   ]
  },
  {
   "cell_type": "code",
   "execution_count": 75,
   "metadata": {
    "collapsed": false,
    "urth": {
     "dashboard": {
      "layout": {
       "col": 0,
       "height": 3,
       "row": 27,
       "width": 12
      }
     }
    }
   },
   "outputs": [],
   "source": [
    "grade_top_row = widgets.HBox()\n",
    "\n",
    "hid_txt = widgets.HTML(\"Segment Name:\")\n",
    "hid_txt.font = 'helvetica'\n",
    "hid_txt.font_size = 30\n",
    "hid_txt.margin = 5\n",
    "algo_id_field = widgets.Text()\n",
    "algo_id_field.height = 35\n",
    "algo_id_field.value='Segment_1'\n",
    "\n",
    "grade_txt = widgets.HTML(\"Segment Type:\")\n",
    "grade_select = widgets.Dropdown(options=[\"Marketing\", \"Promotion\", \"Retension\"])\n",
    "\n",
    "\n",
    "\n",
    "grade_btn = widgets.Button(description=\"Create Segment\")\n",
    "grade_btn.margin = 5\n",
    "grade_btn.button_style = 'info'\n",
    "\n",
    "\n",
    "grade_top_row.children = (hid_txt, algo_id_field, grade_txt, grade_select, grade_btn)\n",
    "grade_top_row.align = 'center'\n",
    "\n",
    "comment_field = widgets.Textarea(value='')\n",
    "comment_field.margin = 5\n",
    "comment_field.width = 378\n",
    "comment_field.cols = 55\n",
    "\n",
    "grade_form = widgets.VBox()\n",
    "grade_form.children = (grade_top_row, comment_field )\n",
    "\n",
    "\n",
    "def on_create_button_clicked(b):\n",
    "    # print(d3sankeyExample.selected_json)\n",
    "    if global_selected_cust_df['cust_id'].count() < 2 :\n",
    "        print('Please select at least one customer.')\n",
    "        return\n",
    "    cust_list1 = global_selected_cust_df['cust_id'].tolist()\n",
    "    cust_list = [str(int(x)) for x in cust_list1]\n",
    "    # print(cust_list)\n",
    "    new_seg = {'Seg_name': algo_id_field.value,\n",
    "               'Seg_type': grade_select.value,\n",
    "               'cust_ids': ','.join(cust_list)\n",
    "              }\n",
    "    display.clear_output(wait=True) \n",
    "    comment_field.value = json.dumps(new_seg)\n",
    "    \n",
    "\n",
    "display.display(grade_top_row)\n",
    "grade_btn.on_click(on_create_button_clicked)\n"
   ]
  },
  {
   "cell_type": "code",
   "execution_count": 76,
   "metadata": {
    "collapsed": false,
    "urth": {
     "dashboard": {
      "layout": {
       "col": 7,
       "height": 3,
       "row": 24,
       "width": 4
      }
     }
    }
   },
   "outputs": [],
   "source": [
    "display.display(comment_field)\n",
    "cust_count_string = '# of Customers: ' + str(global_selected_cust_df['cust_id'].count() )\n",
    "comment_field.value = cust_count_string"
   ]
  }
 ],
 "metadata": {
  "kernelspec": {
   "display_name": "Python 3",
   "language": "python",
   "name": "python3"
  },
  "language_info": {
   "codemirror_mode": {
    "name": "ipython",
    "version": 3
   },
   "file_extension": ".py",
   "mimetype": "text/x-python",
   "name": "python",
   "nbconvert_exporter": "python",
   "pygments_lexer": "ipython3",
   "version": "3.5.1"
  },
  "urth": {
   "dashboard": {
    "cellMargin": 10,
    "defaultCellHeight": 20,
    "layout": "grid",
    "maxColumns": 12
   }
  },
  "widgets": {
   "state": {
    "014c8ecee4f74536a68f785203d46395": {
     "views": []
    },
    "06ad0ddcbd204c8fb76a79633e894178": {
     "views": []
    },
    "0a3b8ae305df4966955ecaa117c06ede": {
     "views": []
    },
    "14361b69b02b4db1a56580b0aeea08bc": {
     "views": []
    },
    "15cf4a00c34a4baab050fe103b6ebcbe": {
     "views": []
    },
    "188228e011d84ebe82ec63eaa811335a": {
     "views": []
    },
    "287843d41e82412f97b0cfdce085f99b": {
     "views": []
    },
    "2b65b32602d442c0af045dade44c7ef0": {
     "views": []
    },
    "2e7025a5731043bc86c6e3456d18c9dc": {
     "views": []
    },
    "30d782a9ac18417dada526e6234a0448": {
     "views": []
    },
    "30f2e54b4fc64cf2bd527f275eef368e": {
     "views": []
    },
    "3b5dcea2355942769a2981de66390d5b": {
     "views": []
    },
    "3bb68d37a7ed48bfbcdba18e14f2fc65": {
     "views": []
    },
    "4056fb6c00db4b84b3187a0e8ad2a6fc": {
     "views": []
    },
    "406b5722c01e425b9b35d1f2a8980a40": {
     "views": []
    },
    "4182f5b1ab6b4d22a102eac276bf6fe1": {
     "views": []
    },
    "442eb60767aa4f01bc3a05cdd05da450": {
     "views": []
    },
    "45b67b3b765340818eed1c6662338bdb": {
     "views": []
    },
    "4601d5c095934499b76e6d815cd29442": {
     "views": []
    },
    "475de1af467b400186386fc68f9ab5e6": {
     "views": []
    },
    "48a1019801fe4b499abebcb0e91d4a6c": {
     "views": [
      {
       "cell_index": 23
      }
     ]
    },
    "4b4277df95f54170b751f6515e724136": {
     "views": []
    },
    "4ed2a87568664fd29c6503087b710ded": {
     "views": []
    },
    "520d303a6f0b4cbdb878c3da1f1f721f": {
     "views": []
    },
    "5494552a1a2046d8954ceca68ae7cde3": {
     "views": []
    },
    "55b1df7ef9c647cba5624214f6587d7f": {
     "views": []
    },
    "57a4f87dcd10443087bcf7e416db2af2": {
     "views": []
    },
    "593600094f104efe8a45ff3c465448e5": {
     "views": []
    },
    "59b5fad0c5b546818f36459b8220ef3f": {
     "views": []
    },
    "5eb7a2a7794a41358206f18172efb732": {
     "views": []
    },
    "602c6485e61f4d0ba83ba522e3ce2751": {
     "views": []
    },
    "60f1ecc36b434b878c8bf39e8a5b293c": {
     "views": []
    },
    "619a637c73d8467d9ad183c14bf8c2be": {
     "views": []
    },
    "68f73183f1854d60b38df3801a9eeb8d": {
     "views": []
    },
    "6d4082b73f6843799ef31615df9ee1f7": {
     "views": []
    },
    "6f76b072d7ee4694829f27b3d8e1751a": {
     "views": []
    },
    "7bc61f194af24596a57004c6e2da265e": {
     "views": [
      {
       "cell_index": 20
      }
     ]
    },
    "7f53515d8d7a4fd990b5a5133f1e1988": {
     "views": []
    },
    "87e598e9a7e34b2eb23f88a9d6d81bb3": {
     "views": [
      {
       "cell_index": 7
      }
     ]
    },
    "88e43da5b9b8459493a865851a98fb77": {
     "views": []
    },
    "8b1e052eb6ce4790b671b0bdf618b9d4": {
     "views": []
    },
    "8e7241eaf70147eca66a911a88fe3134": {
     "views": []
    },
    "9034b316dff04feca7256bcfffa24bc9": {
     "views": []
    },
    "9159c16fdd5a44209b5a7928bfb237bf": {
     "views": []
    },
    "9a395c26325c44ae903559d59d40ce53": {
     "views": [
      {
       "cell_index": 6
      }
     ]
    },
    "9f5cf023a14d459db30111e019788ba6": {
     "views": []
    },
    "a48c0aeb627c499d96783ee8f67f8797": {
     "views": []
    },
    "aa9baade59c94554987c2787f27fa792": {
     "views": [
      {
       "cell_index": 5
      }
     ]
    },
    "ae0cb40900fb40febb1a61d0466cbb8d": {
     "views": [
      {
       "cell_index": 19
      }
     ]
    },
    "b4470177f938451b856d3bc6f11e7f1e": {
     "views": []
    },
    "b50c5ddec0c342549af52873fcad296d": {
     "views": []
    },
    "bfa450b9a93340a19a6f0790e8da4307": {
     "views": []
    },
    "ca8d15ee4c1f4954932a1895994f4ae2": {
     "views": []
    },
    "d0fa7532e505493c952714ccc9d8ab97": {
     "views": []
    },
    "d2be03ac85414d7aa4ff8dd0e04f580c": {
     "views": []
    },
    "d39a6fe5388e47b69430113a2ff8976f": {
     "views": [
      {
       "cell_index": 22
      }
     ]
    },
    "d8f42f5335e14fe0915f884b4d13d98a": {
     "views": []
    },
    "d8f798c4b7264b698d88386d9b1e3d9b": {
     "views": [
      {
       "cell_index": 12
      }
     ]
    },
    "da4c0628ecb94d8483d5951f4c3185d2": {
     "views": []
    },
    "dcec6f407d374367b7fde1ecc564d19c": {
     "views": []
    },
    "f009b38a82544366b70404c8c6ee1963": {
     "views": []
    },
    "f5485c53d1e5484683f276f6f46d9ed9": {
     "views": []
    },
    "fd2af6ba26394ac9bc92a5f2925c8531": {
     "views": []
    },
    "febc5d416a134c38a4d15d7b3883bdb3": {
     "views": []
    }
   },
   "version": "1.1.2"
  }
 },
 "nbformat": 4,
 "nbformat_minor": 0
}
