{
 "cells": [
  {
   "cell_type": "code",
   "execution_count": 37,
   "metadata": {
    "collapsed": false,
    "urth": {
     "dashboard": {
      "hidden": true,
      "layout": {}
     }
    }
   },
   "outputs": [],
   "source": [
    "import pandas as pd\n",
    "import json\n",
    "import ipywidgets as widgets\n",
    "from IPython import display\n",
    "\n",
    "NUMBER_OF_NODES = 10\n",
    "\n",
    "lines = sc.textFile('file:///home/duan/github/customer_segmentation/data/journey_log/month-20160501.numbered')\n",
    "lines_nonempty = lines.filter( lambda x: len(x) > 0 )\n",
    "\n",
    "cust_df = pd.DataFrame.from_csv('/home/duan/github/customer_segmentation/data/cust_profile_df/cust_sentiment_gender_df.csv')\n",
    "global_selected_cust_df = cust_df\n",
    "cust_journey_df=pd.DataFrame.from_csv('/home/duan/github/customer_segmentation/data/cust_profile_df/cust_journey_df.csv')\n"
   ]
  },
  {
   "cell_type": "code",
   "execution_count": 38,
   "metadata": {
    "collapsed": true,
    "urth": {
     "dashboard": {
      "hidden": true,
      "layout": {}
     }
    }
   },
   "outputs": [],
   "source": [
    "# del create_sankey_json"
   ]
  },
  {
   "cell_type": "code",
   "execution_count": 39,
   "metadata": {
    "collapsed": false,
    "urth": {
     "dashboard": {
      "hidden": true,
      "layout": {}
     }
    }
   },
   "outputs": [],
   "source": [
    "from nvd3piewidget import (jouney_covered_check, \n",
    "                           collect_customer_from_journey, \n",
    "                           build_journey_with_customer_filter,\n",
    "                           create_sankey_json\n",
    "                          )\n",
    "from nvd3piewidget import D3SankeyWidget,NVD3PieWidget,NVD3BarWidget\n"
   ]
  },
  {
   "cell_type": "code",
   "execution_count": 40,
   "metadata": {
    "collapsed": false,
    "urth": {
     "dashboard": {
      "hidden": true,
      "layout": {}
     }
    }
   },
   "outputs": [],
   "source": [
    "# Write the journey df to disk for later on computation.\n",
    "def build_journey_all(lines_nonempty):\n",
    "    wordcounts = build_journey_with_customer_filter(lines_nonempty, cust_list_rdd = None)\n",
    "    from pyspark.sql import SQLContext, Row\n",
    "    sqlContext = SQLContext(sc)\n",
    "    # Load a text file and convert each line to a Row.  \n",
    "    journey_rows = wordcounts.map(lambda p: Row(visitor_count=p[0], journey= p[1][0], visitor_list=p[1][1]))\n",
    "    # Infer the schema, and register the DataFrame as a table.\n",
    "    schemaPeople = sqlContext.createDataFrame(journey_rows)\n",
    "    # schemaPeople.registerTempTable(\"journey_table\")\n",
    "    cust_journey_df = schemaPeople.toPandas()\n",
    "    cust_journey_df.to_csv('/home/duan/github/customer_segmentation/data/cust_profile_df/cust_journey_df.csv.new.1')\n",
    "    return cust_journey_df\n",
    "# Only for first time, or schedule it every night.\n",
    "# cust_journey_df = build_journey_all(lines_nonempty)"
   ]
  },
  {
   "cell_type": "code",
   "execution_count": 41,
   "metadata": {
    "collapsed": true,
    "urth": {
     "dashboard": {
      "hidden": true,
      "layout": {}
     }
    }
   },
   "outputs": [],
   "source": [
    "def selected_cust_sankey_json(lines_nonempty, selected_cust_df,NUMBER_OF_NODES=10, sc=None, rank_assending = False):\n",
    "    if selected_cust_df is None:\n",
    "        cust_list_rdd = None\n",
    "    else:\n",
    "        cust_list = [tuple(x) for x in selected_cust_df[['cust_id','cust_id']].values]\n",
    "        cust_list_rdd = sc.parallelize(cust_list)\n",
    "    # print('testing sankey' + str(rank_assending))\n",
    "    new_journey_rdd = build_journey_with_customer_filter(lines_nonempty,cust_list_rdd, rank_assending = rank_assending) # ,new_sankey_links, new_sankey_nodes\n",
    "    new_sankey_json = create_sankey_json(new_journey_rdd, NUMBER_OF_NODES) # , rank_assending = rank_assending, sc=sc\n",
    "    return json.dumps(new_sankey_json)\n"
   ]
  },
  {
   "cell_type": "code",
   "execution_count": 42,
   "metadata": {
    "collapsed": true,
    "urth": {
     "dashboard": {
      "hidden": true,
      "layout": {}
     }
    }
   },
   "outputs": [],
   "source": [
    "def find_rare_journey_dict():\n",
    "    journey_rdd = build_journey_with_customer_filter(lines_nonempty,None, rank_assending = True) # ,new_sankey_links, new_sankey_nodes\n",
    "    journey_rdd.take(10)\n",
    "    sankey_links = sc.parallelize(journey_rdd.take(10)).flatMap(flatmap_jouney).map(split_map_journey).reduceByKey(lambda x,y:x+y).map(lambda x:(x[1],x[0])).sortByKey(False)\n",
    "    sankey_nodes = sc.parallelize(journey_rdd.take(10)).flatMap(flatmap_jouney_nodes).map(lambda x: (x, 1)).reduceByKey(lambda x,y:x+y).map(lambda x:(x[1],x[0])).sortByKey(False)\n",
    "    return build_json_from_node_list_and_link(sankey_links,sankey_nodes, NUMBER_OF_NODES)\n",
    "\n"
   ]
  },
  {
   "cell_type": "code",
   "execution_count": 43,
   "metadata": {
    "collapsed": false,
    "urth": {
     "dashboard": {
      "hidden": true,
      "layout": {}
     }
    }
   },
   "outputs": [
    {
     "data": {
      "text/plain": [
       "10"
      ]
     },
     "execution_count": 43,
     "metadata": {},
     "output_type": "execute_result"
    }
   ],
   "source": [
    "NUMBER_OF_NODES"
   ]
  },
  {
   "cell_type": "code",
   "execution_count": 44,
   "metadata": {
    "collapsed": false,
    "urth": {
     "dashboard": {
      "hidden": true,
      "layout": {}
     }
    }
   },
   "outputs": [
    {
     "data": {
      "text/plain": [
       "10"
      ]
     },
     "execution_count": 44,
     "metadata": {},
     "output_type": "execute_result"
    }
   ],
   "source": [
    "NUMBER_OF_NODES"
   ]
  },
  {
   "cell_type": "code",
   "execution_count": 45,
   "metadata": {
    "collapsed": true,
    "urth": {
     "dashboard": {
      "hidden": true,
      "layout": {}
     }
    }
   },
   "outputs": [],
   "source": [
    "def update_bar_chart(global_selected_cust_df):\n",
    "    hist1 = global_selected_cust_df['sentiment'].value_counts()\n",
    "    hist1.sort_index(ascending=True,inplace=True)\n",
    "    hist_dict=hist1.to_dict()\n",
    "    bar_value = [{\"y\": int(hist_dict[k]), \"x\": str(int(k))}  for k in hist_dict.keys() ]\n",
    "    data_barchart=[{\"values\": bar_value, \n",
    "                    \"key\": \"Sentiment Historgram\", \n",
    "                    \"yAxis\": \"1\"}]\n",
    "    bar_chart.json_data = json.dumps(data_barchart)\n",
    "def update_pie_chart(global_selected_cust_df):\n",
    "    hist1 = global_selected_cust_df['gender'].value_counts()\n",
    "    # hist1.sort_index(ascending=True,inplace=True)\n",
    "    hist_dict=hist1.to_dict()\n",
    "    gender_dict = {'F':'Female', 'M':'Male'}\n",
    "    bar_value = [{\"value\": int(hist_dict[k]), \"label\": gender_dict[k]}  \n",
    "                 for k in hist_dict.keys() ]\n",
    "    data_piechart=[{\"values\": bar_value, \n",
    "                    \"key\": \"Sentiment Historgram\" }]\n",
    "    pie_chart.json_data = json.dumps(data_piechart)\n",
    "\n",
    "def update_sankey_chart(global_selected_cust_df, rank_assending = False):\n",
    "    \n",
    "    new_json_string = selected_cust_sankey_json(lines_nonempty, global_selected_cust_df[['cust_id']] ,NUMBER_OF_NODES, sc, rank_assending)\n",
    "    sankey_journey_widget.node_link_json = new_json_string\n",
    "# sankey_journey_widget.node_link_json = json_string\n",
    "# update_sankey_chart(global_selected_cust_df[global_selected_cust_df['gender']  == 'M' ] )\n",
    "\n",
    "def update_all_chart(global_selected_cust_df):\n",
    "    update_bar_chart(global_selected_cust_df)\n",
    "    update_pie_chart(global_selected_cust_df)\n",
    "    update_sankey_chart(global_selected_cust_df)\n",
    "    cust_count_string = '# of Customers: ' + str(global_selected_cust_df['cust_id'].count() )\n",
    "    comment_field.value = cust_count_string\n"
   ]
  },
  {
   "cell_type": "code",
   "execution_count": 46,
   "metadata": {
    "collapsed": false,
    "urth": {
     "dashboard": {
      "layout": {
       "col": 0,
       "height": 13,
       "row": 0,
       "width": null
      }
     }
    }
   },
   "outputs": [
    {
     "data": {
      "text/html": [
       "\n",
       "<style>\n",
       "#allchart {\n",
       "   height: 350px;\n",
       "   overflow: hidden;\n",
       "}\n",
       "#barchart {\n",
       "    width: 420px;\n",
       "    height: 350px;\n",
       "    float: right;\n",
       "}\n",
       "#piechart {\n",
       "    float: none; /* not needed, just for clarification */\n",
       "    height: 350px;\n",
       "    width: 420px;\n",
       "    overflow: hidden;\n",
       "</style>\n",
       "\n",
       "<div id=\"allchart\" >\n",
       "    <div id=\"barchart\"  >  &nbsp; &nbsp;  Sentiment Distribution\n",
       "        <svg ></svg>\n",
       "    </div>\n",
       "    <div id=\"piechart\"  > &nbsp; &nbsp; &nbsp; &nbsp; &nbsp; &nbsp;  Gender Distribution\n",
       "        <svg ></svg>\n",
       "    </div>\n",
       "</div>\n",
       "\n"
      ],
      "text/plain": [
       "<IPython.core.display.HTML object>"
      ]
     },
     "execution_count": 46,
     "metadata": {},
     "output_type": "execute_result"
    }
   ],
   "source": [
    "from IPython.display import HTML\n",
    "HTML('''\n",
    "<style>\n",
    "#allchart {\n",
    "   height: 350px;\n",
    "   overflow: hidden;\n",
    "}\n",
    "#barchart {\n",
    "    width: 420px;\n",
    "    height: 350px;\n",
    "    float: right;\n",
    "}\n",
    "#piechart {\n",
    "    float: none; /* not needed, just for clarification */\n",
    "    height: 350px;\n",
    "    width: 420px;\n",
    "    overflow: hidden;\n",
    "</style>\n",
    "\n",
    "<div id=\"allchart\" >\n",
    "    <div id=\"barchart\"  >  &nbsp; &nbsp;  Sentiment Distribution\n",
    "        <svg ></svg>\n",
    "    </div>\n",
    "    <div id=\"piechart\"  > &nbsp; &nbsp; &nbsp; &nbsp; &nbsp; &nbsp;  Gender Distribution\n",
    "        <svg ></svg>\n",
    "    </div>\n",
    "</div>\n",
    "\n",
    "''')"
   ]
  },
  {
   "cell_type": "code",
   "execution_count": 47,
   "metadata": {
    "collapsed": false,
    "scrolled": true,
    "urth": {
     "dashboard": {
      "layout": {
       "col": 0,
       "height": 11,
       "row": 13,
       "width": null
      }
     }
    }
   },
   "outputs": [],
   "source": [
    "json_string = selected_cust_sankey_json(lines_nonempty, None)\n",
    "sankey_journey_widget = D3SankeyWidget(node_link_json = json_string, height = 300, width = 960 )\n",
    "display.display(sankey_journey_widget)"
   ]
  },
  {
   "cell_type": "code",
   "execution_count": 48,
   "metadata": {
    "collapsed": false,
    "urth": {
     "dashboard": {
      "hidden": true,
      "layout": {}
     }
    }
   },
   "outputs": [],
   "source": [
    "data_barchart=[{'key': 'Sentiment Historgram',\n",
    "  'values': [    {'x': '1', 'y':  75 },\n",
    "   {'x': '2', 'y':  407 }, \n",
    "   {'x': '5', 'y':  204 }, \n",
    "   {'x': '7', 'y':  15 },\n",
    "   {'x': '8', 'y':  1 }],'yAxis': '1'}]\n",
    "\n",
    "bar_chart = NVD3BarWidget(json_data=json.dumps(data_barchart))\n",
    "# print('         Sentiment Distribution')\n",
    "display.display(bar_chart)\n",
    "update_bar_chart(global_selected_cust_df)"
   ]
  },
  {
   "cell_type": "code",
   "execution_count": 49,
   "metadata": {
    "collapsed": false,
    "urth": {
     "dashboard": {
      "hidden": true,
      "layout": {}
     }
    }
   },
   "outputs": [],
   "source": [
    "data_piechart=[{'key': 'Sentiment Historgram', \n",
    "                'values': [{'label': 'F', 'value': 2007},{'label': 'M', 'value': 107}]}];\n",
    "\n",
    "pie_chart = NVD3PieWidget(value=5, json_data=json.dumps(data_piechart))\n",
    "# print('         Gender Distribution')\n",
    "display.display(pie_chart)\n",
    "update_pie_chart(global_selected_cust_df)"
   ]
  },
  {
   "cell_type": "code",
   "execution_count": null,
   "metadata": {
    "collapsed": true,
    "urth": {
     "dashboard": {
      "hidden": true,
      "layout": {}
     }
    }
   },
   "outputs": [],
   "source": []
  },
  {
   "cell_type": "code",
   "execution_count": null,
   "metadata": {
    "collapsed": false,
    "urth": {
     "dashboard": {
      "hidden": true,
      "layout": {}
     }
    }
   },
   "outputs": [],
   "source": []
  },
  {
   "cell_type": "code",
   "execution_count": null,
   "metadata": {
    "collapsed": false,
    "urth": {
     "dashboard": {
      "hidden": true,
      "layout": {}
     }
    }
   },
   "outputs": [],
   "source": []
  },
  {
   "cell_type": "code",
   "execution_count": 50,
   "metadata": {
    "collapsed": false,
    "urth": {
     "dashboard": {
      "hidden": true,
      "layout": {}
     }
    }
   },
   "outputs": [
    {
     "data": {
      "text/plain": [
       "\"\\nglobal_selected_cust_df = cust_df[cust_df['gender']  == 'F' ]\\n\\nupdate_bar_chart(global_selected_cust_df)\\nupdate_pie_chart(global_selected_cust_df)\\nupdate_sankey_chart(global_selected_cust_df)\\n\""
      ]
     },
     "execution_count": 50,
     "metadata": {},
     "output_type": "execute_result"
    }
   ],
   "source": [
    "'''\n",
    "global_selected_cust_df = cust_df[cust_df['gender']  == 'F' ]\n",
    "\n",
    "update_bar_chart(global_selected_cust_df)\n",
    "update_pie_chart(global_selected_cust_df)\n",
    "update_sankey_chart(global_selected_cust_df)\n",
    "'''"
   ]
  },
  {
   "cell_type": "code",
   "execution_count": 51,
   "metadata": {
    "collapsed": false,
    "urth": {
     "dashboard": {
      "layout": {
       "col": 0,
       "height": 2,
       "row": 24,
       "width": 2
      }
     }
    }
   },
   "outputs": [],
   "source": [
    "# Buttons: Reset, Select\n",
    "\n",
    "\n",
    "filter_by_journey_button = widgets.Button(description=\"Filter by Journey\")\n",
    "filter_by_journey_button.button_style = 'info'\n",
    "filter_by_journey_button.margin = 5\n",
    "filter_by_journey_button.height = 3\n",
    "\n",
    "display.display(filter_by_journey_button)\n",
    "\n",
    "\n",
    "\n",
    "def on_filter_by_journey_button_clicked(b):\n",
    "    global global_selected_cust_df\n",
    "    # print(d3sankeyExample.selected_json)\n",
    "    if len(sankey_journey_widget.selected_json) < 3 :\n",
    "        print('please select at least one node.')\n",
    "        return\n",
    "    ss_json = json.loads(sankey_journey_widget.selected_json)\n",
    "    new_ss = {k: v for k, v in ss_json.items() if v == \"y\"}\n",
    "    selected_journey=new_ss.keys()\n",
    "    selected_journey_df=cust_journey_df[cust_journey_df.apply(lambda x: jouney_covered_check(selected_journey,x['journey']) , axis=1)]\n",
    "    collecteddf = {'cust_id':  collect_customer_from_journey(selected_journey_df)}\n",
    "    df_new = pd.DataFrame(collecteddf, columns = ['cust_id' ])\n",
    "    df_new = df_new.apply(pd.to_numeric, errors='ignore').sort_values(by='cust_id')\n",
    "    collected_df = pd.merge(df_new, cust_df, how='inner', left_on='cust_id', right_on='cust_id')\n",
    "    global_selected_cust_df = collected_df\n",
    "    \n",
    "    update_all_chart(global_selected_cust_df) \n",
    "\n",
    "filter_by_journey_button.on_click(on_filter_by_journey_button_clicked)"
   ]
  },
  {
   "cell_type": "code",
   "execution_count": 52,
   "metadata": {
    "collapsed": false,
    "urth": {
     "dashboard": {
      "layout": {
       "col": 0,
       "height": 4,
       "row": 34,
       "width": 7
      }
     }
    }
   },
   "outputs": [],
   "source": [
    "# cust_journey_df[cust_journey_df['journey'] == 'phone_call:0,app:1,phone_call:2,web_chat:3,buy']"
   ]
  },
  {
   "cell_type": "code",
   "execution_count": null,
   "metadata": {
    "collapsed": false,
    "urth": {
     "dashboard": {
      "layout": {
       "col": 0,
       "height": 4,
       "row": 38,
       "width": 7
      }
     }
    }
   },
   "outputs": [],
   "source": []
  },
  {
   "cell_type": "code",
   "execution_count": null,
   "metadata": {
    "collapsed": false,
    "urth": {
     "dashboard": {
      "hidden": true,
      "layout": {}
     }
    }
   },
   "outputs": [],
   "source": []
  },
  {
   "cell_type": "code",
   "execution_count": null,
   "metadata": {
    "collapsed": false,
    "urth": {
     "dashboard": {
      "layout": {
       "col": 8,
       "height": 4,
       "row": 34,
       "width": 4
      }
     }
    }
   },
   "outputs": [],
   "source": [
    " "
   ]
  },
  {
   "cell_type": "code",
   "execution_count": null,
   "metadata": {
    "collapsed": false,
    "urth": {
     "dashboard": {
      "hidden": true,
      "layout": {}
     }
    }
   },
   "outputs": [],
   "source": [
    " "
   ]
  },
  {
   "cell_type": "code",
   "execution_count": null,
   "metadata": {
    "collapsed": false,
    "urth": {
     "dashboard": {
      "layout": {
       "col": 8,
       "height": 4,
       "row": 38,
       "width": 4
      }
     }
    }
   },
   "outputs": [],
   "source": [
    " "
   ]
  },
  {
   "cell_type": "code",
   "execution_count": null,
   "metadata": {
    "collapsed": false,
    "urth": {
     "dashboard": {
      "hidden": true,
      "layout": {}
     }
    }
   },
   "outputs": [],
   "source": []
  },
  {
   "cell_type": "code",
   "execution_count": 53,
   "metadata": {
    "collapsed": false,
    "urth": {
     "dashboard": {
      "hidden": true,
      "layout": {}
     }
    }
   },
   "outputs": [
    {
     "data": {
      "text/plain": [
       "'ss_json = json.loads(sankey_journey_widget.selected_json)\\nnew_ss = {k: v for k, v in ss_json.items() if v == \"y\"}\\nselected_journey=new_ss.keys()\\nselected_journey_df=cust_journey_df[cust_journey_df.apply(lambda x: jouney_covered_check(selected_journey,x[\\'journey\\']) , axis=1)]\\ncollecteddf = {\\'cust_id\\':  collect_customer_from_journey(selected_journey_df)}\\n\\ndf_new = pd.DataFrame(collecteddf, columns = [\\'cust_id\\' ])\\ndf_new = df_new.apply(pd.to_numeric, errors=\\'ignore\\').sort_values(by=\\'cust_id\\')\\ncollected_df = pd.merge(df_new, cust_df, how=\\'inner\\', left_on=\\'cust_id\\', right_on=\\'cust_id\\')\\n'"
      ]
     },
     "execution_count": 53,
     "metadata": {},
     "output_type": "execute_result"
    }
   ],
   "source": [
    "'''ss_json = json.loads(sankey_journey_widget.selected_json)\n",
    "new_ss = {k: v for k, v in ss_json.items() if v == \"y\"}\n",
    "selected_journey=new_ss.keys()\n",
    "selected_journey_df=cust_journey_df[cust_journey_df.apply(lambda x: jouney_covered_check(selected_journey,x['journey']) , axis=1)]\n",
    "collecteddf = {'cust_id':  collect_customer_from_journey(selected_journey_df)}\n",
    "\n",
    "df_new = pd.DataFrame(collecteddf, columns = ['cust_id' ])\n",
    "df_new = df_new.apply(pd.to_numeric, errors='ignore').sort_values(by='cust_id')\n",
    "collected_df = pd.merge(df_new, cust_df, how='inner', left_on='cust_id', right_on='cust_id')\n",
    "'''"
   ]
  },
  {
   "cell_type": "code",
   "execution_count": 54,
   "metadata": {
    "collapsed": false,
    "urth": {
     "dashboard": {
      "hidden": true,
      "layout": {}
     }
    }
   },
   "outputs": [],
   "source": [
    "# selected_journey\n",
    "# del flatmap_jouney_nodes\n",
    "from nvd3piewidget import (flatmap_jouney_nodes,flatmap_jouney,split_map_journey\n",
    "                           )"
   ]
  },
  {
   "cell_type": "code",
   "execution_count": 55,
   "metadata": {
    "collapsed": false,
    "scrolled": true,
    "urth": {
     "dashboard": {
      "layout": {
       "col": 0,
       "height": 4,
       "row": 30,
       "width": 8
      }
     }
    }
   },
   "outputs": [],
   "source": [
    "# selected_journey_df"
   ]
  },
  {
   "cell_type": "code",
   "execution_count": 56,
   "metadata": {
    "collapsed": false,
    "scrolled": true,
    "urth": {
     "dashboard": {
      "hidden": true,
      "layout": {}
     }
    }
   },
   "outputs": [
    {
     "data": {
      "text/plain": [
       "['buy:99', 'store_visit:0', 'store_visit:1', 'store_visit:2']"
      ]
     },
     "execution_count": 56,
     "metadata": {},
     "output_type": "execute_result"
    }
   ],
   "source": [
    "a=sorted(['store_visit:1', 'buy:99', 'store_visit:0', 'store_visit:2'])\n",
    "a"
   ]
  },
  {
   "cell_type": "code",
   "execution_count": 57,
   "metadata": {
    "collapsed": false,
    "urth": {
     "dashboard": {
      "hidden": true,
      "layout": {}
     }
    }
   },
   "outputs": [
    {
     "data": {
      "text/plain": [
       "False"
      ]
     },
     "execution_count": 57,
     "metadata": {},
     "output_type": "execute_result"
    }
   ],
   "source": [
    "'a' == 'b'"
   ]
  },
  {
   "cell_type": "code",
   "execution_count": 58,
   "metadata": {
    "collapsed": false,
    "urth": {
     "dashboard": {
      "hidden": true,
      "layout": {}
     }
    }
   },
   "outputs": [],
   "source": [
    "def jouney_covered_check(nodelist, journey):\n",
    "    jnodes = journey.split(',')\n",
    "    if(len(nodelist) != len(jnodes)):\n",
    "        return False\n",
    "    a = sorted(jnodes)\n",
    "    #print(a)\n",
    "    b = sorted(nodelist)\n",
    "    #print(b)\n",
    "    for i in range(len(jnodes)):\n",
    "        if a[i] != b[i]:\n",
    "            #print(i)\n",
    "            #print(jnodes[i] + '=' + nodelist[i])\n",
    "            return False\n",
    "    return True\n",
    "# jouney_covered_check(['store_visit:1', 'buy:99', 'store_visit:0', 'store_visit:2'],'store_visit:0,store_visit:1,buy')\n",
    "# jouney_covered_check(['store_visit:1', 'buy', 'store_visit:0' ],'store_visit:0,store_visit:1,buy')"
   ]
  },
  {
   "cell_type": "code",
   "execution_count": null,
   "metadata": {
    "collapsed": false,
    "urth": {
     "dashboard": {
      "hidden": true,
      "layout": {}
     }
    }
   },
   "outputs": [],
   "source": []
  },
  {
   "cell_type": "code",
   "execution_count": null,
   "metadata": {
    "collapsed": false,
    "urth": {
     "dashboard": {
      "layout": {
       "col": 8,
       "height": 4,
       "row": 30,
       "width": 4
      }
     }
    }
   },
   "outputs": [],
   "source": []
  },
  {
   "cell_type": "code",
   "execution_count": 59,
   "metadata": {
    "collapsed": false,
    "urth": {
     "dashboard": {
      "hidden": true,
      "layout": {}
     }
    }
   },
   "outputs": [],
   "source": [
    "def jouney_containing_selected_node_check(selcted_nodelist, journey):\n",
    "    jnodes = journey.split(',')\n",
    "    for anode in jnodes:\n",
    "        # print(anode)\n",
    "        if anode in selcted_nodelist:\n",
    "            return True\n",
    "    return False\n",
    "# jouney_containing_selected_node_check(['store_visit:0'],'store_visit:0,store_visit:1,buy')"
   ]
  },
  {
   "cell_type": "code",
   "execution_count": 60,
   "metadata": {
    "collapsed": false,
    "urth": {
     "dashboard": {
      "layout": {
       "col": 4,
       "height": 2,
       "row": 24,
       "width": 2
      }
     }
    }
   },
   "outputs": [],
   "source": [
    "# Buttons: Reset, Select\n",
    "\n",
    "\n",
    "filter_by_nodea_button = widgets.Button(description=\"by Nodes (Any)\")\n",
    "filter_by_nodea_button.button_style = 'info'\n",
    "filter_by_nodea_button.margin = 5\n",
    "filter_by_nodea_button.height = 3\n",
    "\n",
    "display.display(filter_by_nodea_button)\n",
    "\n",
    "\n",
    "\n",
    "def on_filter_by_nodea_button_clicked(b):\n",
    "    global global_selected_cust_df\n",
    "    # print(d3sankeyExample.selected_json)\n",
    "    if len(sankey_journey_widget.selected_json) < 3 :\n",
    "        print('please select at least one node.')\n",
    "        return\n",
    "    ss_json = json.loads(sankey_journey_widget.selected_json)\n",
    "    new_ss = {k: v for k, v in ss_json.items() if v == \"y\"}\n",
    "    selected_journey=new_ss.keys()\n",
    "    selected_journey_df=cust_journey_df[cust_journey_df.apply(lambda x: jouney_containing_selected_node_check(selected_journey,x['journey']) , axis=1)]\n",
    "    collecteddf = {'cust_id':  collect_customer_from_journey(selected_journey_df)}\n",
    "    df_new = pd.DataFrame(collecteddf, columns = ['cust_id' ])\n",
    "    df_new = df_new.apply(pd.to_numeric, errors='ignore').sort_values(by='cust_id')\n",
    "    collected_df = pd.merge(df_new, cust_df, how='inner', left_on='cust_id', right_on='cust_id')\n",
    "    global_selected_cust_df = collected_df\n",
    "    \n",
    "    update_all_chart(global_selected_cust_df) \n",
    "\n",
    "filter_by_nodea_button.on_click(on_filter_by_nodea_button_clicked)"
   ]
  },
  {
   "cell_type": "code",
   "execution_count": 61,
   "metadata": {
    "collapsed": false,
    "urth": {
     "dashboard": {
      "layout": {
       "col": 2,
       "height": 2,
       "row": 26,
       "width": 6
      }
     }
    }
   },
   "outputs": [],
   "source": [
    "node_number_top_row = widgets.HBox()\n",
    "\n",
    "\n",
    "node_number_field = widgets.Text()\n",
    "node_number_field.height = 35\n",
    "node_number_field.value='15'\n",
    "\n",
    "\n",
    "set_nodes_number_button = widgets.Button(description=\"Number of Nodes\")\n",
    "set_nodes_number_button.button_style = 'info'\n",
    "set_nodes_number_button.margin = 5\n",
    "set_nodes_number_button.height = 3\n",
    "\n",
    "node_number_top_row.children = ( node_number_field, set_nodes_number_button)\n",
    "node_number_top_row.align = 'center'\n",
    "\n",
    "display.display(node_number_top_row)\n",
    "\n",
    " \n",
    "\n",
    "\n",
    "def on_set_nodes_number_button_clicked(b):\n",
    "    global NUMBER_OF_NODES\n",
    "    \n",
    "    NUMBER_OF_NODES = int(node_number_field.value )\n",
    "    \n",
    "    global_selected_cust_df = cust_df\n",
    "    update_all_chart(global_selected_cust_df) \n",
    "\n",
    "\n",
    "set_nodes_number_button.on_click(on_set_nodes_number_button_clicked)"
   ]
  },
  {
   "cell_type": "code",
   "execution_count": 62,
   "metadata": {
    "collapsed": false,
    "urth": {
     "dashboard": {
      "layout": {
       "col": 6,
       "height": 2,
       "row": 24,
       "width": 2
      }
     }
    }
   },
   "outputs": [],
   "source": [
    "least_button = widgets.Button(description=\"Rare Journey\")\n",
    "least_button.button_style = 'info'\n",
    "least_button.margin = 5\n",
    "least_button.height = 3\n",
    " \n",
    "display.display(least_button)\n",
    "\n",
    " \n",
    "\n",
    "# find_rare_journey_dict()\n",
    "import json\n",
    "def on_least_button_clicked(b):\n",
    "    global cust_df\n",
    "    global global_selected_cust_df\n",
    "\n",
    "    global_selected_cust_df = cust_df\n",
    "    new_json_string = json.dumps(find_rare_journey_dict())\n",
    "    sankey_journey_widget.node_link_json = new_json_string\n",
    "    \n",
    "\n",
    "least_button.on_click(on_least_button_clicked)"
   ]
  },
  {
   "cell_type": "code",
   "execution_count": null,
   "metadata": {
    "collapsed": false,
    "urth": {
     "dashboard": {
      "hidden": true,
      "layout": {}
     }
    }
   },
   "outputs": [],
   "source": []
  },
  {
   "cell_type": "code",
   "execution_count": null,
   "metadata": {
    "collapsed": false,
    "urth": {
     "dashboard": {
      "hidden": true,
      "layout": {}
     }
    }
   },
   "outputs": [],
   "source": [
    " "
   ]
  },
  {
   "cell_type": "code",
   "execution_count": null,
   "metadata": {
    "collapsed": false,
    "urth": {
     "dashboard": {
      "hidden": true,
      "layout": {}
     }
    }
   },
   "outputs": [],
   "source": []
  },
  {
   "cell_type": "code",
   "execution_count": null,
   "metadata": {
    "collapsed": false,
    "urth": {
     "dashboard": {
      "hidden": true,
      "layout": {}
     }
    }
   },
   "outputs": [],
   "source": []
  },
  {
   "cell_type": "code",
   "execution_count": null,
   "metadata": {
    "collapsed": false,
    "urth": {
     "dashboard": {
      "hidden": true,
      "layout": {}
     }
    }
   },
   "outputs": [],
   "source": []
  },
  {
   "cell_type": "code",
   "execution_count": 63,
   "metadata": {
    "collapsed": false,
    "urth": {
     "dashboard": {
      "hidden": true,
      "layout": {}
     }
    }
   },
   "outputs": [],
   "source": [
    "new_journey_rdd = build_journey_with_customer_filter(lines_nonempty,None, rank_assending = True) # ,new_sankey_links, new_sankey_nodes"
   ]
  },
  {
   "cell_type": "code",
   "execution_count": 64,
   "metadata": {
    "collapsed": false,
    "urth": {
     "dashboard": {
      "hidden": true,
      "layout": {}
     }
    }
   },
   "outputs": [
    {
     "data": {
      "text/plain": [
       "[(1, ('store_visit:0,app:1,app:2,phone_call:3,buy', '534')),\n",
       " (1, ('phone_call:0,app:1,phone_call:2,web_chat:3,buy', '1136')),\n",
       " (1, ('phone_call:0,web_chat:1,phone_call:2,not_buy', '1267')),\n",
       " (1, ('facebook:0,app:1,web_call:2,web_call:3,buy', '1638')),\n",
       " (1, ('store_visit:0,phone_call:1,phone_call:2,web_call:3,not_buy', '319')),\n",
       " (1, ('facebook:0,web_call:1,web_call:2,facebook:3,not_buy', '2771')),\n",
       " (1, ('phone_call:0,web_call:1,web_call:2,app:3,buy', '2137')),\n",
       " (1, ('store_visit:0,twitter:1,store_visit:2,twitter:3,not_buy', '1722')),\n",
       " (1, ('phone_call:0,app:1,not_buy', '2991')),\n",
       " (1, ('store_visit:0,twitter:1,app:2,buy', '1682'))]"
      ]
     },
     "execution_count": 64,
     "metadata": {},
     "output_type": "execute_result"
    }
   ],
   "source": [
    "new_journey_rdd.take(10)"
   ]
  },
  {
   "cell_type": "code",
   "execution_count": null,
   "metadata": {
    "collapsed": true,
    "urth": {
     "dashboard": {
      "hidden": true,
      "layout": {}
     }
    }
   },
   "outputs": [],
   "source": []
  },
  {
   "cell_type": "code",
   "execution_count": null,
   "metadata": {
    "collapsed": false,
    "urth": {
     "dashboard": {
      "hidden": true,
      "layout": {}
     }
    }
   },
   "outputs": [],
   "source": []
  },
  {
   "cell_type": "code",
   "execution_count": 65,
   "metadata": {
    "collapsed": false,
    "urth": {
     "dashboard": {
      "hidden": true,
      "layout": {}
     }
    }
   },
   "outputs": [
    {
     "data": {
      "text/plain": [
       "'\\nss_json = json.loads(sankey_journey_widget.selected_json)\\nnew_ss = {k: v for k, v in ss_json.items() if v == \"y\"}\\nselected_journey=new_ss.keys()\\nselected_journey\\n\\nselected_journey_df=cust_journey_df[cust_journey_df.apply(lambda x: jouney_covered_check(selected_journey,x[\\'journey\\']) , axis=1)]\\ncollecteddf = {\\'cust_id\\':  collect_customer_from_journey(selected_journey_df)}\\n\\nselected_journey\\n'"
      ]
     },
     "execution_count": 65,
     "metadata": {},
     "output_type": "execute_result"
    }
   ],
   "source": [
    "'''\n",
    "ss_json = json.loads(sankey_journey_widget.selected_json)\n",
    "new_ss = {k: v for k, v in ss_json.items() if v == \"y\"}\n",
    "selected_journey=new_ss.keys()\n",
    "selected_journey\n",
    "\n",
    "selected_journey_df=cust_journey_df[cust_journey_df.apply(lambda x: jouney_covered_check(selected_journey,x['journey']) , axis=1)]\n",
    "collecteddf = {'cust_id':  collect_customer_from_journey(selected_journey_df)}\n",
    "\n",
    "selected_journey\n",
    "'''"
   ]
  },
  {
   "cell_type": "code",
   "execution_count": 66,
   "metadata": {
    "collapsed": false,
    "urth": {
     "dashboard": {
      "hidden": true,
      "layout": {}
     }
    }
   },
   "outputs": [
    {
     "data": {
      "text/plain": [
       "False"
      ]
     },
     "execution_count": 66,
     "metadata": {},
     "output_type": "execute_result"
    }
   ],
   "source": [
    "jouney_covered_check(['store_visit:0'],'store_visit:0,store_visit:1,buy')"
   ]
  },
  {
   "cell_type": "code",
   "execution_count": null,
   "metadata": {
    "collapsed": false,
    "urth": {
     "dashboard": {
      "hidden": true,
      "layout": {}
     }
    }
   },
   "outputs": [],
   "source": []
  },
  {
   "cell_type": "code",
   "execution_count": 67,
   "metadata": {
    "collapsed": false,
    "urth": {
     "dashboard": {
      "hidden": true,
      "layout": {}
     }
    }
   },
   "outputs": [],
   "source": [
    "# "
   ]
  },
  {
   "cell_type": "code",
   "execution_count": 68,
   "metadata": {
    "collapsed": false,
    "scrolled": true,
    "urth": {
     "dashboard": {
      "layout": {
       "col": 2,
       "height": 2,
       "row": 24,
       "width": 2
      }
     }
    }
   },
   "outputs": [],
   "source": [
    "\n",
    "filter_by_gender_button = widgets.Button(description=\"Filter by Gender\")\n",
    "filter_by_gender_button.button_style = 'info'\n",
    "filter_by_gender_button.margin = 5\n",
    "filter_by_gender_button.height = 3\n",
    "\n",
    "display.display(filter_by_gender_button)\n",
    "\n",
    "\n",
    "\n",
    "def on_filter_by_gender_button_clicked(b):\n",
    "    global global_selected_cust_df\n",
    "    if len(pie_chart.selected_json) < 3 :\n",
    "        print('please select at least one gender.')\n",
    "        return\n",
    "    ss_json = json.loads(pie_chart.selected_json)\n",
    "    new_ss = {k: v for k, v in ss_json.items() if v == \"y\"}\n",
    "    reverse_gender_dict = {'Female':'F', 'Male':'M'}\n",
    "    selected_gender=reverse_gender_dict [ list(new_ss.keys())[0] ]\n",
    "    #print('gender=' + selected_gender)\n",
    "\n",
    "    global_selected_cust_df = global_selected_cust_df[global_selected_cust_df['gender']== selected_gender] # == 'F'\n",
    "    \n",
    "    if(global_selected_cust_df['cust_id'].count() < 1):\n",
    "        print('found no match, do not update charts')\n",
    "        return\n",
    "    # print(global_selected_cust_df.count()))\n",
    "    update_all_chart(global_selected_cust_df) \n",
    "\n",
    "filter_by_gender_button.on_click(on_filter_by_gender_button_clicked)"
   ]
  },
  {
   "cell_type": "code",
   "execution_count": 69,
   "metadata": {
    "collapsed": false,
    "urth": {
     "dashboard": {
      "layout": {
       "col": 0,
       "height": 2,
       "row": 26,
       "width": 2
      }
     }
    }
   },
   "outputs": [],
   "source": [
    "\n",
    "filter_reset_button = widgets.Button(description=\"Reset Filters\")\n",
    "filter_reset_button.button_style = 'info'\n",
    "filter_reset_button.margin = 5\n",
    "filter_reset_button.height = 3\n",
    "\n",
    "display.display(filter_reset_button)\n",
    "\n",
    "\n",
    "\n",
    "def on_filter_reset_button_clicked(b):\n",
    "    global global_selected_cust_df\n",
    "    global cust_df\n",
    "    \n",
    "    global_selected_cust_df = cust_df\n",
    "    update_all_chart(global_selected_cust_df) \n",
    "\n",
    "filter_reset_button.on_click(on_filter_reset_button_clicked)"
   ]
  },
  {
   "cell_type": "code",
   "execution_count": 70,
   "metadata": {
    "collapsed": false,
    "urth": {
     "dashboard": {
      "hidden": true,
      "layout": {}
     }
    }
   },
   "outputs": [
    {
     "data": {
      "text/plain": [
       "'\\nss_json = json.loads(pie_chart.selected_json)\\nnew_ss = {k: v for k, v in ss_json.items() if v == \"y\"}\\nselected_gender=list(new_ss.keys())[0]\\nglobal_selected_cust_df = global_selected_cust_df[global_selected_cust_df[\\'gender\\'] \\n                                                  == selected_gender] # == \\'F\\'\\nupdate_bar_chart(global_selected_cust_df)\\nupdate_pie_chart(global_selected_cust_df)\\nupdate_sankey_chart(global_selected_cust_df)\\n\\n'"
      ]
     },
     "execution_count": 70,
     "metadata": {},
     "output_type": "execute_result"
    }
   ],
   "source": [
    "'''\n",
    "ss_json = json.loads(pie_chart.selected_json)\n",
    "new_ss = {k: v for k, v in ss_json.items() if v == \"y\"}\n",
    "selected_gender=list(new_ss.keys())[0]\n",
    "global_selected_cust_df = global_selected_cust_df[global_selected_cust_df['gender'] \n",
    "                                                  == selected_gender] # == 'F'\n",
    "update_bar_chart(global_selected_cust_df)\n",
    "update_pie_chart(global_selected_cust_df)\n",
    "update_sankey_chart(global_selected_cust_df)\n",
    "\n",
    "'''"
   ]
  },
  {
   "cell_type": "code",
   "execution_count": 71,
   "metadata": {
    "collapsed": false,
    "urth": {
     "dashboard": {
      "layout": {
       "col": 0,
       "height": 2,
       "row": 28,
       "width": 12
      }
     }
    }
   },
   "outputs": [],
   "source": [
    "grade_top_row = widgets.HBox()\n",
    "\n",
    "hid_txt = widgets.HTML(\"Name:\")\n",
    "hid_txt.font = 'helvetica'\n",
    "hid_txt.font_size = 30\n",
    "hid_txt.margin = 5\n",
    "algo_id_field = widgets.Text()\n",
    "algo_id_field.height = 35\n",
    "algo_id_field.value='Segment_1'\n",
    "\n",
    "grade_txt = widgets.HTML(\"Type:\")\n",
    "grade_select = widgets.Dropdown(options=[\"Marketing\", \"Promotion\", \"Retension\"])\n",
    "\n",
    "\n",
    "\n",
    "grade_btn = widgets.Button(description=\"Create Segment\")\n",
    "grade_btn.margin = 5\n",
    "grade_btn.button_style = 'info'\n",
    "\n",
    "\n",
    "grade_top_row.children = (hid_txt, algo_id_field, grade_txt, grade_select, grade_btn)\n",
    "grade_top_row.align = 'center'\n",
    "\n",
    "comment_field = widgets.Textarea(value='')\n",
    "comment_field.margin = 5\n",
    "comment_field.width = 378\n",
    "comment_field.cols = 55\n",
    "\n",
    "grade_form = widgets.VBox()\n",
    "grade_form.children = (grade_top_row, comment_field )\n",
    "\n",
    "\n",
    "def on_create_button_clicked(b):\n",
    "    # print(sankey_journey_widget.selected_json)\n",
    "    if global_selected_cust_df['cust_id'].count() < 2 :\n",
    "        print('Please select at least one customer.')\n",
    "        return\n",
    "    cust_list1 = global_selected_cust_df['cust_id'].tolist()\n",
    "    cust_list = [str(int(x)) for x in cust_list1]\n",
    "    # print(cust_list)\n",
    "    new_seg = {'Seg_name': algo_id_field.value,\n",
    "               'Seg_type': grade_select.value,\n",
    "               'cust_ids': ','.join(cust_list)\n",
    "              }\n",
    "    display.clear_output(wait=True) \n",
    "    comment_field.value = json.dumps(new_seg)\n",
    "    \n",
    "\n",
    "display.display(grade_top_row)\n",
    "grade_btn.on_click(on_create_button_clicked)\n"
   ]
  },
  {
   "cell_type": "code",
   "execution_count": 72,
   "metadata": {
    "collapsed": false,
    "urth": {
     "dashboard": {
      "layout": {
       "col": 8,
       "height": 4,
       "row": 24,
       "width": 4
      }
     }
    }
   },
   "outputs": [],
   "source": [
    "display.display(comment_field)\n",
    "cust_count_string = '# of Customers: ' + str(global_selected_cust_df['cust_id'].count() )\n",
    "comment_field.value = cust_count_string"
   ]
  }
 ],
 "metadata": {
  "kernelspec": {
   "display_name": "Python 3",
   "language": "python",
   "name": "python3"
  },
  "language_info": {
   "codemirror_mode": {
    "name": "ipython",
    "version": 3
   },
   "file_extension": ".py",
   "mimetype": "text/x-python",
   "name": "python",
   "nbconvert_exporter": "python",
   "pygments_lexer": "ipython3",
   "version": "3.5.1"
  },
  "urth": {
   "dashboard": {
    "cellMargin": 10,
    "defaultCellHeight": 20,
    "layout": "grid",
    "maxColumns": 12
   }
  },
  "widgets": {
   "state": {
    "0658f700da7c422582a6acd42317ad87": {
     "views": []
    },
    "06e4f57511954ef2bb5ef18dfb7d3002": {
     "views": []
    },
    "07eb5d8eea854686818f82a802c0346a": {
     "views": []
    },
    "0965a7828506423d86eff59cda8cbdf0": {
     "views": []
    },
    "1018fd50894744eaaa88633d67281422": {
     "views": []
    },
    "13da58e4484d48afb444b8b02797c1bf": {
     "views": []
    },
    "14b050c9fb1840aa9d82657164dc60b0": {
     "views": []
    },
    "164c918799a149d19e89a5eaf9082988": {
     "views": []
    },
    "1920e02f715848648ccacbb2259cdb84": {
     "views": []
    },
    "1d9069cb985d4fa392303cd14d283a77": {
     "views": [
      {
       "cell_index": 54
      }
     ]
    },
    "20149204ff1f4da98c7abddabd155ae7": {
     "views": [
      {
       "cell_index": 34
      }
     ]
    },
    "263c3374ef454a01a3f811816d54d49d": {
     "views": []
    },
    "270dad6d568247bfa54ac36f64910fc7": {
     "views": []
    },
    "2803822f65cd479ca6612cdb28daaa5e": {
     "views": []
    },
    "28f7a0a5aed4406fa30f6b46496e5689": {
     "views": [
      {
       "cell_index": 10
      }
     ]
    },
    "2d2ec2ca6b01436798924ead943f32e7": {
     "views": []
    },
    "2e2ae83583d14d28965a3e5d8493ec5d": {
     "views": []
    },
    "2e9efa3375a14ac5a251e61a54caede9": {
     "views": []
    },
    "3337ac504a454fb98bb976bc7057e3be": {
     "views": [
      {
       "cell_index": 12
      }
     ]
    },
    "35f032dc4da343cb8a7eb298db941040": {
     "views": []
    },
    "395a88efcb844095813e74baa927fbe3": {
     "views": []
    },
    "3acb7bc3c8ec4b1ea2c6588b6476f757": {
     "views": [
      {
       "cell_index": 50
      }
     ]
    },
    "3bb5e35dc5e1450eb99347911d9ab260": {
     "views": []
    },
    "3dbcd02b9d7f4674b922293d47fc9a2d": {
     "views": []
    },
    "43475d5da5014127a68c28aa195011c8": {
     "views": []
    },
    "4456a8509187489ea755fc844ccad4a3": {
     "views": []
    },
    "44cc1bd165064974acaefaeb66b6382f": {
     "views": []
    },
    "4b25907a19004985a4abeb7e32142c74": {
     "views": []
    },
    "4c35b13979d34e04ada85bcf0ddbf39e": {
     "views": []
    },
    "5044e3b5b02f480f95cd01fba69a0de9": {
     "views": []
    },
    "51f17d572fda40b19b3c666c730c75f6": {
     "views": []
    },
    "538d4b73b79b494fac158f18c4fe7e13": {
     "views": []
    },
    "54729518eac144cdbad87443a7726101": {
     "views": []
    },
    "5c627a370621436ca4cb6ab342f05b65": {
     "views": []
    },
    "5efd00390952402db54258183a894885": {
     "views": []
    },
    "63b16f27df214c6fb1f0430740a2e0d6": {
     "views": []
    },
    "67c950b5347f41b580297bb5da844f6d": {
     "views": []
    },
    "6ea52b5e12c14459822632fb8b41e80e": {
     "views": []
    },
    "6ff4c98f8218400ab117f1f00a9e5425": {
     "views": []
    },
    "76ef0e7927294208a6285a2f80799094": {
     "views": []
    },
    "77534ede0b2340069dbafb93e70aa623": {
     "views": []
    },
    "7f31eed3f42740f58769436b26c6d4f1": {
     "views": []
    },
    "852b3d17a2564ed69528fcd110d510ba": {
     "views": []
    },
    "8696fe1cc075443d93e6920c2690fdab": {
     "views": []
    },
    "88375dcd94da4596b02b0557b16a5793": {
     "views": []
    },
    "88801adb87c74e428304ce48047c384b": {
     "views": []
    },
    "8d33482d457845bb849b7f08f54b683e": {
     "views": []
    },
    "8e83b6e0435349ee819b2f10b88ece9e": {
     "views": []
    },
    "936f00b8577044cb87fd5a28ad066d93": {
     "views": [
      {
       "cell_index": 35
      }
     ]
    },
    "9b9199ccd9a64db3ad390751fa9111ac": {
     "views": []
    },
    "9c1c6f4a00e148be800e9f7fad093a23": {
     "views": []
    },
    "9f5979b656574bfa85c71680a55827a6": {
     "views": []
    },
    "a09ec766a9fd4ad5930a25d6153492b6": {
     "views": []
    },
    "a1fb66f674e14e5b94070b8a6261e6de": {
     "views": []
    },
    "a72bcd13cfd64feba0e0e765ccc8ec7d": {
     "views": [
      {
       "cell_index": 17
      }
     ]
    },
    "ad92056f48594a5e962457af5beedd3c": {
     "views": [
      {
       "cell_index": 51
      }
     ]
    },
    "addd77999d94465e8b9c36350033bdbe": {
     "views": []
    },
    "af113dc2cce44a9ead13967049333c33": {
     "views": []
    },
    "b6cbda7835e54b66b6ec9a46806f5f26": {
     "views": []
    },
    "b778cfb8ccf94d21a451648c2a0a367d": {
     "views": []
    },
    "ba2ced14854d4ddd861d187911cfc538": {
     "views": [
      {
       "cell_index": 11
      }
     ]
    },
    "bfd3b253d0194313a651959318f0805f": {
     "views": []
    },
    "c15f15bcd86c4d11bb8363178886c850": {
     "views": [
      {
       "cell_index": 36
      }
     ]
    },
    "cd95f0d14bd844c49cb788778a3c0e19": {
     "views": []
    },
    "cfe12211843841f7a49cf0a1ee77a233": {
     "views": []
    },
    "d0afaf8b2f334dc3bd8e31f448aa7671": {
     "views": []
    },
    "d35c7b0f7e49417d8843a1213c5f6cab": {
     "views": [
      {
       "cell_index": 53
      }
     ]
    },
    "d4085493b98e44e7b853bd20b6831966": {
     "views": []
    },
    "d6842c44d9144344b2a0d381dfd40f26": {
     "views": []
    },
    "d8cbc6301f284a0da1eddd0e8f35cd92": {
     "views": []
    },
    "d97b7e86303f454587f0552e430e4612": {
     "views": []
    },
    "d9a5551018e54751b5c4ab975a118020": {
     "views": []
    },
    "e63c2029fa274be3a0ae90005197edff": {
     "views": []
    },
    "eaa0f2f32b0a422c8518354238db29f0": {
     "views": []
    },
    "f54b47f45b8f4a21bbcbf46c1e57d757": {
     "views": []
    },
    "fd41e864c86a4a51bbc8b397353e5e6e": {
     "views": []
    }
   },
   "version": "1.1.2"
  }
 },
 "nbformat": 4,
 "nbformat_minor": 0
}
