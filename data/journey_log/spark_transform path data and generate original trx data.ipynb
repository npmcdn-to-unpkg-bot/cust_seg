{
 "cells": [
  {
   "cell_type": "code",
   "execution_count": 9,
   "metadata": {
    "collapsed": true
   },
   "outputs": [],
   "source": [
    "import random\n",
    "import datetime\n"
   ]
  },
  {
   "cell_type": "code",
   "execution_count": 23,
   "metadata": {
    "collapsed": false
   },
   "outputs": [],
   "source": [
    "\n",
    "with open('/home/duan/github/customer_segmentation/data/journey_log/month-20160501.numbered','r') as f,\\\n",
    "     open('/home/duan/github/customer_segmentation/data/journey_log/original-contacts-20160601-30.txt','w') as target_f:\n",
    "    for line in f:\n",
    "        aa=line.split(':')\n",
    "        customer_id = aa[0].strip()\n",
    "        x=aa[1].split()\n",
    "        current_date=datetime.date(2016, 6, 6) \n",
    "        for i in range(len(x)):\n",
    "            current_date = current_date +  datetime.timedelta(days= int(random.uniform(1, 5)) )\n",
    "         \n",
    "            new_line = customer_id + ',' +  current_date.strftime(\"%Y%m%d\") + ',' +  x[i] + '\\n'\n",
    "            target_f.write(new_line)\n",
    "\n",
    "            \n",
    "\n"
   ]
  },
  {
   "cell_type": "code",
   "execution_count": 24,
   "metadata": {
    "collapsed": false
   },
   "outputs": [
    {
     "data": {
      "text/plain": [
       "datetime.date(2016, 5, 7)"
      ]
     },
     "execution_count": 24,
     "metadata": {},
     "output_type": "execute_result"
    }
   ],
   "source": [
    "\n",
    "\n",
    "d=datetime.date(2016, 5, 5) + datetime.timedelta(days= int(random.uniform(1, 5)) )\n",
    "d"
   ]
  },
  {
   "cell_type": "code",
   "execution_count": 25,
   "metadata": {
    "collapsed": false
   },
   "outputs": [
    {
     "data": {
      "text/plain": [
       "'20160507'"
      ]
     },
     "execution_count": 25,
     "metadata": {},
     "output_type": "execute_result"
    }
   ],
   "source": [
    "d.strftime(\"%Y%m%d\")"
   ]
  }
 ],
 "metadata": {
  "kernelspec": {
   "display_name": "Python 3",
   "language": "python",
   "name": "python3"
  },
  "language_info": {
   "codemirror_mode": {
    "name": "ipython",
    "version": 3
   },
   "file_extension": ".py",
   "mimetype": "text/x-python",
   "name": "python",
   "nbconvert_exporter": "python",
   "pygments_lexer": "ipython3",
   "version": "3.5.1"
  },
  "widgets": {
   "state": {},
   "version": "1.1.2"
  }
 },
 "nbformat": 4,
 "nbformat_minor": 0
}
